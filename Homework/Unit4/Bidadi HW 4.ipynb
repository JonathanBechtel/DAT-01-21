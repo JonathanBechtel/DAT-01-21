{
 "cells": [
  {
   "cell_type": "code",
   "execution_count": 2,
   "metadata": {},
   "outputs": [],
   "source": [
    "import pandas as pd\n",
    "import numpy as np\n",
    "import matplotlib.pyplot as plt\n",
    "import seaborn as sns\n",
    "\n",
    "df = pd.read_csv(r\"/Users/behrangbidadi/DSGA/09-19-Amazon-Ranking-Analysis.csv\")\n"
   ]
  },
  {
   "cell_type": "code",
   "execution_count": 3,
   "metadata": {},
   "outputs": [
    {
     "data": {
      "text/html": [
       "<div>\n",
       "<style scoped>\n",
       "    .dataframe tbody tr th:only-of-type {\n",
       "        vertical-align: middle;\n",
       "    }\n",
       "\n",
       "    .dataframe tbody tr th {\n",
       "        vertical-align: top;\n",
       "    }\n",
       "\n",
       "    .dataframe thead th {\n",
       "        text-align: right;\n",
       "    }\n",
       "</style>\n",
       "<table border=\"1\" class=\"dataframe\">\n",
       "  <thead>\n",
       "    <tr style=\"text-align: right;\">\n",
       "      <th></th>\n",
       "      <th>Index</th>\n",
       "      <th>ProductName</th>\n",
       "      <th>ScrapeDate</th>\n",
       "      <th>ScrapedIndex</th>\n",
       "      <th>ScrapedIndexTrueRank</th>\n",
       "      <th>CorrectedIndexTrueRank</th>\n",
       "      <th>ScrapedIndexPrice</th>\n",
       "      <th>CorrectedPrice</th>\n",
       "      <th>ScrapedIndexVendor</th>\n",
       "      <th>ScrapedIndexVendorType</th>\n",
       "      <th>BBScrapedPrice</th>\n",
       "      <th>BBVendorType</th>\n",
       "      <th>BBVendor</th>\n",
       "      <th>BBCorrectedPrice</th>\n",
       "    </tr>\n",
       "  </thead>\n",
       "  <tbody>\n",
       "    <tr>\n",
       "      <td>0</td>\n",
       "      <td>0</td>\n",
       "      <td>#1 BEST Probiotic Supplement - 60 Day Supply w...</td>\n",
       "      <td>2016-06-14</td>\n",
       "      <td>2</td>\n",
       "      <td>2</td>\n",
       "      <td>1</td>\n",
       "      <td>20.99</td>\n",
       "      <td>20.99</td>\n",
       "      <td>Supplement Warriors</td>\n",
       "      <td>Other</td>\n",
       "      <td>-1.0</td>\n",
       "      <td>FBA</td>\n",
       "      <td>Sold by Sharp Nutrition and Fulfilled by Amazon.</td>\n",
       "      <td>25.02</td>\n",
       "    </tr>\n",
       "    <tr>\n",
       "      <td>1</td>\n",
       "      <td>1</td>\n",
       "      <td>#1 BEST Probiotic Supplement - 60 Day Supply w...</td>\n",
       "      <td>2016-06-14</td>\n",
       "      <td>1</td>\n",
       "      <td>1</td>\n",
       "      <td>2</td>\n",
       "      <td>19.99</td>\n",
       "      <td>25.02</td>\n",
       "      <td>Sharp Nutrition</td>\n",
       "      <td>FBA</td>\n",
       "      <td>-1.0</td>\n",
       "      <td>FBA</td>\n",
       "      <td>Sold by Sharp Nutrition and Fulfilled by Amazon.</td>\n",
       "      <td>25.02</td>\n",
       "    </tr>\n",
       "    <tr>\n",
       "      <td>2</td>\n",
       "      <td>2</td>\n",
       "      <td>10 Panel Dip Drug Testing Kit, Test for 10 Dif...</td>\n",
       "      <td>2016-06-27</td>\n",
       "      <td>1</td>\n",
       "      <td>1</td>\n",
       "      <td>1</td>\n",
       "      <td>3.96</td>\n",
       "      <td>3.96</td>\n",
       "      <td>speedy tests</td>\n",
       "      <td>Other</td>\n",
       "      <td>4.9</td>\n",
       "      <td>FBA</td>\n",
       "      <td>Sold by Michael Minyety and Fulfilled by Amazon.</td>\n",
       "      <td>9.97</td>\n",
       "    </tr>\n",
       "    <tr>\n",
       "      <td>3</td>\n",
       "      <td>3</td>\n",
       "      <td>10 Panel Dip Drug Testing Kit, Test for 10 Dif...</td>\n",
       "      <td>2016-06-27</td>\n",
       "      <td>2</td>\n",
       "      <td>1</td>\n",
       "      <td>1</td>\n",
       "      <td>3.96</td>\n",
       "      <td>3.96</td>\n",
       "      <td>Drug Abuse Control</td>\n",
       "      <td>Other</td>\n",
       "      <td>4.9</td>\n",
       "      <td>FBA</td>\n",
       "      <td>Sold by Michael Minyety and Fulfilled by Amazon.</td>\n",
       "      <td>9.97</td>\n",
       "    </tr>\n",
       "    <tr>\n",
       "      <td>4</td>\n",
       "      <td>4</td>\n",
       "      <td>10 Panel Dip Drug Testing Kit, Test for 10 Dif...</td>\n",
       "      <td>2016-06-27</td>\n",
       "      <td>3</td>\n",
       "      <td>1</td>\n",
       "      <td>1</td>\n",
       "      <td>3.96</td>\n",
       "      <td>3.96</td>\n",
       "      <td>Lowest Priced Tests</td>\n",
       "      <td>Other</td>\n",
       "      <td>4.9</td>\n",
       "      <td>FBA</td>\n",
       "      <td>Sold by Michael Minyety and Fulfilled by Amazon.</td>\n",
       "      <td>9.97</td>\n",
       "    </tr>\n",
       "  </tbody>\n",
       "</table>\n",
       "</div>"
      ],
      "text/plain": [
       "   Index                                        ProductName  ScrapeDate  \\\n",
       "0      0  #1 BEST Probiotic Supplement - 60 Day Supply w...  2016-06-14   \n",
       "1      1  #1 BEST Probiotic Supplement - 60 Day Supply w...  2016-06-14   \n",
       "2      2  10 Panel Dip Drug Testing Kit, Test for 10 Dif...  2016-06-27   \n",
       "3      3  10 Panel Dip Drug Testing Kit, Test for 10 Dif...  2016-06-27   \n",
       "4      4  10 Panel Dip Drug Testing Kit, Test for 10 Dif...  2016-06-27   \n",
       "\n",
       "   ScrapedIndex  ScrapedIndexTrueRank  CorrectedIndexTrueRank  \\\n",
       "0             2                     2                       1   \n",
       "1             1                     1                       2   \n",
       "2             1                     1                       1   \n",
       "3             2                     1                       1   \n",
       "4             3                     1                       1   \n",
       "\n",
       "   ScrapedIndexPrice  CorrectedPrice   ScrapedIndexVendor  \\\n",
       "0              20.99           20.99  Supplement Warriors   \n",
       "1              19.99           25.02      Sharp Nutrition   \n",
       "2               3.96            3.96         speedy tests   \n",
       "3               3.96            3.96   Drug Abuse Control   \n",
       "4               3.96            3.96  Lowest Priced Tests   \n",
       "\n",
       "  ScrapedIndexVendorType  BBScrapedPrice BBVendorType  \\\n",
       "0                  Other            -1.0          FBA   \n",
       "1                    FBA            -1.0          FBA   \n",
       "2                  Other             4.9          FBA   \n",
       "3                  Other             4.9          FBA   \n",
       "4                  Other             4.9          FBA   \n",
       "\n",
       "                                           BBVendor  BBCorrectedPrice  \n",
       "0  Sold by Sharp Nutrition and Fulfilled by Amazon.             25.02  \n",
       "1  Sold by Sharp Nutrition and Fulfilled by Amazon.             25.02  \n",
       "2  Sold by Michael Minyety and Fulfilled by Amazon.              9.97  \n",
       "3  Sold by Michael Minyety and Fulfilled by Amazon.              9.97  \n",
       "4  Sold by Michael Minyety and Fulfilled by Amazon.              9.97  "
      ]
     },
     "execution_count": 3,
     "metadata": {},
     "output_type": "execute_result"
    }
   ],
   "source": [
    "df.head()\n",
    "#Ran this to see what the Column names are and begin to understand what they mean\n",
    "#Based on the prompt, 'CorrectedIndexTrueRank' and 'BBVendor' jump out as potential columns\n",
    "#that could have an explanatory impact on a y variable like 'CorrectedPrice'\n",
    "#I also think that 'BBCorrectedPrice' includes the price + shipping charge for orders\n",
    "#that didn't initially have the shipping charge displayed and\n",
    "#are 'Filled By Amazon' or FBA' as 'ScrapedIndexVendorType'\n",
    "#FBA is where  sellers pay Amazon roughly 10-20% of sales \"to warehouse and ship their products\""
   ]
  },
  {
   "cell_type": "code",
   "execution_count": 4,
   "metadata": {},
   "outputs": [
    {
     "data": {
      "text/plain": [
       "(6973, 14)"
      ]
     },
     "execution_count": 4,
     "metadata": {},
     "output_type": "execute_result"
    }
   ],
   "source": [
    "df.shape\n",
    "#There are 6,973 vendor listing, and 14 columns"
   ]
  },
  {
   "cell_type": "code",
   "execution_count": 5,
   "metadata": {},
   "outputs": [
    {
     "data": {
      "text/plain": [
       "Index                       int64\n",
       "ProductName                object\n",
       "ScrapeDate                 object\n",
       "ScrapedIndex                int64\n",
       "ScrapedIndexTrueRank        int64\n",
       "CorrectedIndexTrueRank      int64\n",
       "ScrapedIndexPrice         float64\n",
       "CorrectedPrice            float64\n",
       "ScrapedIndexVendor         object\n",
       "ScrapedIndexVendorType     object\n",
       "BBScrapedPrice            float64\n",
       "BBVendorType               object\n",
       "BBVendor                   object\n",
       "BBCorrectedPrice          float64\n",
       "dtype: object"
      ]
     },
     "execution_count": 5,
     "metadata": {},
     "output_type": "execute_result"
    }
   ],
   "source": [
    "df.dtypes"
   ]
  },
  {
   "cell_type": "code",
   "execution_count": 6,
   "metadata": {},
   "outputs": [
    {
     "data": {
      "text/plain": [
       "Index                     False\n",
       "ProductName               False\n",
       "ScrapeDate                False\n",
       "ScrapedIndex              False\n",
       "ScrapedIndexTrueRank      False\n",
       "CorrectedIndexTrueRank    False\n",
       "ScrapedIndexPrice         False\n",
       "CorrectedPrice            False\n",
       "ScrapedIndexVendor        False\n",
       "ScrapedIndexVendorType    False\n",
       "BBScrapedPrice            False\n",
       "BBVendorType              False\n",
       "BBVendor                   True\n",
       "BBCorrectedPrice          False\n",
       "dtype: bool"
      ]
     },
     "execution_count": 6,
     "metadata": {},
     "output_type": "execute_result"
    }
   ],
   "source": [
    "df.isnull().any()\n",
    "#Only found null values in BBVendor"
   ]
  },
  {
   "cell_type": "code",
   "execution_count": 7,
   "metadata": {},
   "outputs": [],
   "source": [
    "query = df.isnull().any(axis=1)"
   ]
  },
  {
   "cell_type": "code",
   "execution_count": 8,
   "metadata": {},
   "outputs": [
    {
     "data": {
      "text/html": [
       "<div>\n",
       "<style scoped>\n",
       "    .dataframe tbody tr th:only-of-type {\n",
       "        vertical-align: middle;\n",
       "    }\n",
       "\n",
       "    .dataframe tbody tr th {\n",
       "        vertical-align: top;\n",
       "    }\n",
       "\n",
       "    .dataframe thead th {\n",
       "        text-align: right;\n",
       "    }\n",
       "</style>\n",
       "<table border=\"1\" class=\"dataframe\">\n",
       "  <thead>\n",
       "    <tr style=\"text-align: right;\">\n",
       "      <th></th>\n",
       "      <th>Index</th>\n",
       "      <th>ProductName</th>\n",
       "      <th>ScrapeDate</th>\n",
       "      <th>ScrapedIndex</th>\n",
       "      <th>ScrapedIndexTrueRank</th>\n",
       "      <th>CorrectedIndexTrueRank</th>\n",
       "      <th>ScrapedIndexPrice</th>\n",
       "      <th>CorrectedPrice</th>\n",
       "      <th>ScrapedIndexVendor</th>\n",
       "      <th>ScrapedIndexVendorType</th>\n",
       "      <th>BBScrapedPrice</th>\n",
       "      <th>BBVendorType</th>\n",
       "      <th>BBVendor</th>\n",
       "      <th>BBCorrectedPrice</th>\n",
       "    </tr>\n",
       "  </thead>\n",
       "  <tbody>\n",
       "    <tr>\n",
       "      <td>19</td>\n",
       "      <td>19</td>\n",
       "      <td>2wayz FULL METAL BODY Garden Hose Splitter | Y...</td>\n",
       "      <td>2016-06-20</td>\n",
       "      <td>1</td>\n",
       "      <td>1</td>\n",
       "      <td>1</td>\n",
       "      <td>40.00</td>\n",
       "      <td>40.00</td>\n",
       "      <td>Irtenzia</td>\n",
       "      <td>Other</td>\n",
       "      <td>-1.0</td>\n",
       "      <td>O</td>\n",
       "      <td>NaN</td>\n",
       "      <td>9.97</td>\n",
       "    </tr>\n",
       "    <tr>\n",
       "      <td>20</td>\n",
       "      <td>20</td>\n",
       "      <td>2wayz FULL METAL BODY Garden Hose Splitter | Y...</td>\n",
       "      <td>2016-06-20</td>\n",
       "      <td>2</td>\n",
       "      <td>2</td>\n",
       "      <td>2</td>\n",
       "      <td>54.94</td>\n",
       "      <td>54.94</td>\n",
       "      <td>Mild Shop</td>\n",
       "      <td>Other</td>\n",
       "      <td>-1.0</td>\n",
       "      <td>O</td>\n",
       "      <td>NaN</td>\n",
       "      <td>9.97</td>\n",
       "    </tr>\n",
       "    <tr>\n",
       "      <td>1367</td>\n",
       "      <td>1367</td>\n",
       "      <td>Bushnell Powerview 7-15X25 Compact Zoom Binocular</td>\n",
       "      <td>2016-08-30</td>\n",
       "      <td>1</td>\n",
       "      <td>1</td>\n",
       "      <td>1</td>\n",
       "      <td>53.04</td>\n",
       "      <td>53.04</td>\n",
       "      <td>PORTABLE GUY</td>\n",
       "      <td>Other</td>\n",
       "      <td>-1.0</td>\n",
       "      <td>O</td>\n",
       "      <td>NaN</td>\n",
       "      <td>165.50</td>\n",
       "    </tr>\n",
       "    <tr>\n",
       "      <td>1368</td>\n",
       "      <td>1368</td>\n",
       "      <td>Bushnell Powerview 7-15X25 Compact Zoom Binocular</td>\n",
       "      <td>2016-08-30</td>\n",
       "      <td>2</td>\n",
       "      <td>2</td>\n",
       "      <td>2</td>\n",
       "      <td>54.41</td>\n",
       "      <td>54.41</td>\n",
       "      <td>TheXBOXking</td>\n",
       "      <td>Other</td>\n",
       "      <td>-1.0</td>\n",
       "      <td>O</td>\n",
       "      <td>NaN</td>\n",
       "      <td>165.50</td>\n",
       "    </tr>\n",
       "    <tr>\n",
       "      <td>1369</td>\n",
       "      <td>1369</td>\n",
       "      <td>Bushnell Powerview 7-15X25 Compact Zoom Binocular</td>\n",
       "      <td>2016-08-30</td>\n",
       "      <td>3</td>\n",
       "      <td>3</td>\n",
       "      <td>3</td>\n",
       "      <td>54.69</td>\n",
       "      <td>54.69</td>\n",
       "      <td>WebyShops</td>\n",
       "      <td>Other</td>\n",
       "      <td>-1.0</td>\n",
       "      <td>O</td>\n",
       "      <td>NaN</td>\n",
       "      <td>165.50</td>\n",
       "    </tr>\n",
       "    <tr>\n",
       "      <td>...</td>\n",
       "      <td>...</td>\n",
       "      <td>...</td>\n",
       "      <td>...</td>\n",
       "      <td>...</td>\n",
       "      <td>...</td>\n",
       "      <td>...</td>\n",
       "      <td>...</td>\n",
       "      <td>...</td>\n",
       "      <td>...</td>\n",
       "      <td>...</td>\n",
       "      <td>...</td>\n",
       "      <td>...</td>\n",
       "      <td>...</td>\n",
       "      <td>...</td>\n",
       "    </tr>\n",
       "    <tr>\n",
       "      <td>5658</td>\n",
       "      <td>5658</td>\n",
       "      <td>Regalo Swing Down Bedrail, White</td>\n",
       "      <td>2016-06-27</td>\n",
       "      <td>20</td>\n",
       "      <td>19</td>\n",
       "      <td>19</td>\n",
       "      <td>44.96</td>\n",
       "      <td>44.96</td>\n",
       "      <td>Mild Shop</td>\n",
       "      <td>Other</td>\n",
       "      <td>-1.0</td>\n",
       "      <td>O</td>\n",
       "      <td>NaN</td>\n",
       "      <td>35.34</td>\n",
       "    </tr>\n",
       "    <tr>\n",
       "      <td>5659</td>\n",
       "      <td>5659</td>\n",
       "      <td>Regalo Swing Down Bedrail, White</td>\n",
       "      <td>2016-06-27</td>\n",
       "      <td>21</td>\n",
       "      <td>20</td>\n",
       "      <td>20</td>\n",
       "      <td>47.79</td>\n",
       "      <td>47.79</td>\n",
       "      <td>MidwestProductsDepot</td>\n",
       "      <td>Other</td>\n",
       "      <td>-1.0</td>\n",
       "      <td>O</td>\n",
       "      <td>NaN</td>\n",
       "      <td>35.34</td>\n",
       "    </tr>\n",
       "    <tr>\n",
       "      <td>5660</td>\n",
       "      <td>5660</td>\n",
       "      <td>Regalo Swing Down Bedrail, White</td>\n",
       "      <td>2016-06-27</td>\n",
       "      <td>22</td>\n",
       "      <td>21</td>\n",
       "      <td>21</td>\n",
       "      <td>47.90</td>\n",
       "      <td>47.90</td>\n",
       "      <td>Fairy Bless</td>\n",
       "      <td>Other</td>\n",
       "      <td>-1.0</td>\n",
       "      <td>O</td>\n",
       "      <td>NaN</td>\n",
       "      <td>35.34</td>\n",
       "    </tr>\n",
       "    <tr>\n",
       "      <td>5661</td>\n",
       "      <td>5661</td>\n",
       "      <td>Regalo Swing Down Bedrail, White</td>\n",
       "      <td>2016-06-27</td>\n",
       "      <td>23</td>\n",
       "      <td>22</td>\n",
       "      <td>22</td>\n",
       "      <td>53.96</td>\n",
       "      <td>53.96</td>\n",
       "      <td>RevoSync</td>\n",
       "      <td>Other</td>\n",
       "      <td>-1.0</td>\n",
       "      <td>O</td>\n",
       "      <td>NaN</td>\n",
       "      <td>35.34</td>\n",
       "    </tr>\n",
       "    <tr>\n",
       "      <td>5899</td>\n",
       "      <td>5899</td>\n",
       "      <td>Samsung Galaxy Tab A 8-Inch Tablet (Wi-Fi)(16 ...</td>\n",
       "      <td>2016-06-29</td>\n",
       "      <td>1</td>\n",
       "      <td>1</td>\n",
       "      <td>1</td>\n",
       "      <td>199.00</td>\n",
       "      <td>199.00</td>\n",
       "      <td>Electronic Express</td>\n",
       "      <td>Other</td>\n",
       "      <td>-1.0</td>\n",
       "      <td>O</td>\n",
       "      <td>NaN</td>\n",
       "      <td>15.27</td>\n",
       "    </tr>\n",
       "  </tbody>\n",
       "</table>\n",
       "<p>164 rows × 14 columns</p>\n",
       "</div>"
      ],
      "text/plain": [
       "      Index                                        ProductName  ScrapeDate  \\\n",
       "19       19  2wayz FULL METAL BODY Garden Hose Splitter | Y...  2016-06-20   \n",
       "20       20  2wayz FULL METAL BODY Garden Hose Splitter | Y...  2016-06-20   \n",
       "1367   1367  Bushnell Powerview 7-15X25 Compact Zoom Binocular  2016-08-30   \n",
       "1368   1368  Bushnell Powerview 7-15X25 Compact Zoom Binocular  2016-08-30   \n",
       "1369   1369  Bushnell Powerview 7-15X25 Compact Zoom Binocular  2016-08-30   \n",
       "...     ...                                                ...         ...   \n",
       "5658   5658                   Regalo Swing Down Bedrail, White  2016-06-27   \n",
       "5659   5659                   Regalo Swing Down Bedrail, White  2016-06-27   \n",
       "5660   5660                   Regalo Swing Down Bedrail, White  2016-06-27   \n",
       "5661   5661                   Regalo Swing Down Bedrail, White  2016-06-27   \n",
       "5899   5899  Samsung Galaxy Tab A 8-Inch Tablet (Wi-Fi)(16 ...  2016-06-29   \n",
       "\n",
       "      ScrapedIndex  ScrapedIndexTrueRank  CorrectedIndexTrueRank  \\\n",
       "19               1                     1                       1   \n",
       "20               2                     2                       2   \n",
       "1367             1                     1                       1   \n",
       "1368             2                     2                       2   \n",
       "1369             3                     3                       3   \n",
       "...            ...                   ...                     ...   \n",
       "5658            20                    19                      19   \n",
       "5659            21                    20                      20   \n",
       "5660            22                    21                      21   \n",
       "5661            23                    22                      22   \n",
       "5899             1                     1                       1   \n",
       "\n",
       "      ScrapedIndexPrice  CorrectedPrice    ScrapedIndexVendor  \\\n",
       "19                40.00           40.00              Irtenzia   \n",
       "20                54.94           54.94             Mild Shop   \n",
       "1367              53.04           53.04          PORTABLE GUY   \n",
       "1368              54.41           54.41           TheXBOXking   \n",
       "1369              54.69           54.69             WebyShops   \n",
       "...                 ...             ...                   ...   \n",
       "5658              44.96           44.96             Mild Shop   \n",
       "5659              47.79           47.79  MidwestProductsDepot   \n",
       "5660              47.90           47.90           Fairy Bless   \n",
       "5661              53.96           53.96              RevoSync   \n",
       "5899             199.00          199.00    Electronic Express   \n",
       "\n",
       "     ScrapedIndexVendorType  BBScrapedPrice BBVendorType BBVendor  \\\n",
       "19                    Other            -1.0            O      NaN   \n",
       "20                    Other            -1.0            O      NaN   \n",
       "1367                  Other            -1.0            O      NaN   \n",
       "1368                  Other            -1.0            O      NaN   \n",
       "1369                  Other            -1.0            O      NaN   \n",
       "...                     ...             ...          ...      ...   \n",
       "5658                  Other            -1.0            O      NaN   \n",
       "5659                  Other            -1.0            O      NaN   \n",
       "5660                  Other            -1.0            O      NaN   \n",
       "5661                  Other            -1.0            O      NaN   \n",
       "5899                  Other            -1.0            O      NaN   \n",
       "\n",
       "      BBCorrectedPrice  \n",
       "19                9.97  \n",
       "20                9.97  \n",
       "1367            165.50  \n",
       "1368            165.50  \n",
       "1369            165.50  \n",
       "...                ...  \n",
       "5658             35.34  \n",
       "5659             35.34  \n",
       "5660             35.34  \n",
       "5661             35.34  \n",
       "5899             15.27  \n",
       "\n",
       "[164 rows x 14 columns]"
      ]
     },
     "execution_count": 8,
     "metadata": {},
     "output_type": "execute_result"
    }
   ],
   "source": [
    "df[query]\n",
    "#There are 164 rows with BBVendor = NaN\n",
    "#That is 2.35% of 6,973 observations\n",
    "#That's a relatively small number, so I will replace null values with the mode,\n",
    "#which is the BBVendor that appears the most often"
   ]
  },
  {
   "cell_type": "code",
   "execution_count": 9,
   "metadata": {},
   "outputs": [
    {
     "data": {
      "text/plain": [
       "0    Ships from and sold by Amazon.com.\n",
       "dtype: object"
      ]
     },
     "execution_count": 9,
     "metadata": {},
     "output_type": "execute_result"
    }
   ],
   "source": [
    "df['BBVendor'].mode()\n",
    "#Amazon.com is the vendor that appears most often"
   ]
  },
  {
   "cell_type": "code",
   "execution_count": 10,
   "metadata": {},
   "outputs": [],
   "source": [
    "df['BBVendor'].fillna('Ships from and sold by Amazon.com.', inplace=True)\n",
    "#I am filling null values in BBVendor with the mode"
   ]
  },
  {
   "cell_type": "code",
   "execution_count": 11,
   "metadata": {},
   "outputs": [
    {
     "data": {
      "text/plain": [
       "Index                     False\n",
       "ProductName               False\n",
       "ScrapeDate                False\n",
       "ScrapedIndex              False\n",
       "ScrapedIndexTrueRank      False\n",
       "CorrectedIndexTrueRank    False\n",
       "ScrapedIndexPrice         False\n",
       "CorrectedPrice            False\n",
       "ScrapedIndexVendor        False\n",
       "ScrapedIndexVendorType    False\n",
       "BBScrapedPrice            False\n",
       "BBVendorType              False\n",
       "BBVendor                  False\n",
       "BBCorrectedPrice          False\n",
       "dtype: bool"
      ]
     },
     "execution_count": 11,
     "metadata": {},
     "output_type": "execute_result"
    }
   ],
   "source": [
    "df.isnull().any()\n",
    "#This is my check to make sure no more null values left"
   ]
  },
  {
   "cell_type": "code",
   "execution_count": 12,
   "metadata": {},
   "outputs": [
    {
     "data": {
      "text/plain": [
       "array(['Amazon', 'FBA', 'O'], dtype=object)"
      ]
     },
     "execution_count": 12,
     "metadata": {},
     "output_type": "execute_result"
    }
   ],
   "source": [
    "np.unique(df['BBVendorType'])\n",
    "#There are only 3 BBVendorTypes"
   ]
  },
  {
   "cell_type": "code",
   "execution_count": 13,
   "metadata": {},
   "outputs": [
    {
     "data": {
      "text/plain": [
       "Amazon    5788\n",
       "O          715\n",
       "FBA        470\n",
       "Name: BBVendorType, dtype: int64"
      ]
     },
     "execution_count": 13,
     "metadata": {},
     "output_type": "execute_result"
    }
   ],
   "source": [
    "df['BBVendorType'].value_counts()\n",
    "#Most of the BBVendorTypes are Amazon"
   ]
  },
  {
   "cell_type": "code",
   "execution_count": 14,
   "metadata": {},
   "outputs": [
    {
     "data": {
      "text/plain": [
       "array([  1,   2,   3,   4,   5,   6,   7,   8,   9,  10,  11,  12,  13,\n",
       "        14,  15,  16,  17,  18,  19,  20,  21,  22,  23,  24,  25,  26,\n",
       "        27,  28,  29,  30,  31,  32,  33,  34,  35,  36,  37,  38,  39,\n",
       "        40,  41,  42,  43,  44,  45,  46,  47,  48,  49,  50,  51,  52,\n",
       "        53,  54,  55,  56,  57,  58,  59,  60,  61,  62,  63,  64,  65,\n",
       "        66,  67,  68,  69,  70,  71,  72,  73,  74,  75,  76,  77,  78,\n",
       "        79,  80,  81,  82,  83,  84,  85,  86,  87,  88,  89,  90,  91,\n",
       "        92,  93,  94,  95,  96,  97,  98,  99, 100, 101, 102, 103, 104,\n",
       "       105, 106, 107])"
      ]
     },
     "execution_count": 14,
     "metadata": {},
     "output_type": "execute_result"
    }
   ],
   "source": [
    "np.unique(df['CorrectedIndexTrueRank'])\n",
    "#I was curious how many ranks there are\n",
    "#maybe some products are unranked, why 107 rankings but 250 products (confirmed below)?"
   ]
  },
  {
   "cell_type": "code",
   "execution_count": 15,
   "metadata": {},
   "outputs": [],
   "source": [
    "products = np.unique(df['ProductName']).tolist()"
   ]
  },
  {
   "cell_type": "code",
   "execution_count": 16,
   "metadata": {},
   "outputs": [
    {
     "data": {
      "text/plain": [
       "['#1 BEST Probiotic Supplement - 60 Day Supply with 100% Moneyback Guarantee - Improve Digestion, Bowel Regularity, & Increase Energy with the Most Potent Probiotic...',\n",
       " '10 Panel Dip Drug Testing Kit, Test for 10 Different Drugs. (1)',\n",
       " '2wayz FULL METAL BODY Garden Hose Splitter | Y Ball Valve Connector for Your Soaker Hose, outdoor faucet, sprinkler & drip irrigation systems. Includes: 10 Rubber Washers + 3 Years Guarantee. Enjoy!',\n",
       " '3 Pair Motorcycle Riding Glasses Smoke Clear Yellow',\n",
       " '3/4 gal Talstar Pro / One Multi Use Pest Control Insecticide (96 ounce jug)']"
      ]
     },
     "execution_count": 16,
     "metadata": {},
     "output_type": "execute_result"
    }
   ],
   "source": [
    "products[:5]\n",
    "#Just wanted to see a sample of the products"
   ]
  },
  {
   "cell_type": "code",
   "execution_count": 17,
   "metadata": {},
   "outputs": [
    {
     "data": {
      "text/plain": [
       "250"
      ]
     },
     "execution_count": 17,
     "metadata": {},
     "output_type": "execute_result"
    }
   ],
   "source": [
    "len(products)\n",
    "#this confirms there are 250 products"
   ]
  },
  {
   "cell_type": "code",
   "execution_count": 18,
   "metadata": {},
   "outputs": [
    {
     "data": {
      "text/plain": [
       "array([  0.  ,   2.5 ,   2.57,   5.  ,   5.09,   5.47,   6.79,   6.85,\n",
       "         7.69,   8.17,   8.99,   9.68,   9.95,   9.97,  10.04,  10.07,\n",
       "        10.16,  10.49,  10.54,  10.66,  11.  ,  11.28,  11.5 ,  11.92,\n",
       "        11.93,  12.16,  12.36,  12.77,  12.78,  12.82,  12.99,  13.21,\n",
       "        13.39,  13.49,  13.56,  13.59,  13.64,  13.96,  13.99,  14.06,\n",
       "        14.07,  14.09,  14.16,  14.22,  14.31,  14.39,  14.44,  14.66,\n",
       "        14.67,  14.8 ,  14.82,  15.27,  15.48,  15.49,  15.56,  15.78,\n",
       "        15.79,  15.93,  16.31,  16.43,  16.52,  16.67,  16.72,  16.9 ,\n",
       "        16.92,  17.05,  17.24,  17.45,  17.51,  17.59,  18.02,  18.19,\n",
       "        18.24,  18.29,  18.42,  18.47,  18.5 ,  18.63,  18.66,  18.78,\n",
       "        19.08,  19.1 ,  19.28,  19.29,  19.33,  19.43,  19.81,  19.86,\n",
       "        19.93,  19.99,  20.05,  20.43,  20.8 ,  20.91,  21.11,  21.33,\n",
       "        21.57,  21.9 ,  22.41,  22.57,  22.62,  22.9 ,  22.94,  23.05,\n",
       "        23.27,  23.34,  23.67,  23.98,  24.1 ,  24.22,  24.46,  24.54,\n",
       "        24.64,  24.74,  25.02,  25.56,  25.67,  26.04,  26.07,  26.19,\n",
       "        26.38,  26.45,  26.77,  27.05,  27.36,  27.38,  27.48,  27.66,\n",
       "        29.1 ,  29.24,  29.31,  29.53,  29.97,  30.02,  30.07,  30.5 ,\n",
       "        31.  ,  31.13,  31.44,  32.03,  32.48,  33.58,  33.62,  34.43,\n",
       "        34.81,  35.  ,  35.34,  35.39,  35.98,  35.98,  36.43,  36.57,\n",
       "        37.11,  37.64,  37.98,  39.32,  40.04,  40.43,  41.32,  41.35,\n",
       "        42.52,  44.16,  46.9 ,  47.39,  47.44,  47.92,  48.99,  49.59,\n",
       "        49.97,  49.99,  53.72,  54.02,  54.41,  54.59,  54.73,  56.34,\n",
       "        56.55,  57.43,  58.71,  58.76,  58.89,  60.03,  63.11,  65.57,\n",
       "        67.3 ,  67.43,  68.7 ,  70.88,  72.83,  74.54,  76.22,  77.17,\n",
       "        77.64,  77.87,  78.19,  79.99,  80.01,  83.44,  83.61,  86.2 ,\n",
       "        88.95,  92.3 ,  99.22, 101.44, 103.64, 105.22, 107.02, 109.97,\n",
       "       119.  , 119.21, 123.86, 124.82, 135.34, 146.95, 149.95, 160.41,\n",
       "       165.29, 165.39, 165.5 , 168.57, 174.39, 180.67, 183.29, 184.99,\n",
       "       197.32, 242.83, 309.97, 472.11, 540.83, 553.97, 706.11])"
      ]
     },
     "execution_count": 18,
     "metadata": {},
     "output_type": "execute_result"
    }
   ],
   "source": [
    "np.unique(df['BBCorrectedPrice'])\n",
    "#Curious if there are any 0 prices "
   ]
  },
  {
   "cell_type": "code",
   "execution_count": 18,
   "metadata": {},
   "outputs": [
    {
     "data": {
      "text/html": [
       "<div>\n",
       "<style scoped>\n",
       "    .dataframe tbody tr th:only-of-type {\n",
       "        vertical-align: middle;\n",
       "    }\n",
       "\n",
       "    .dataframe tbody tr th {\n",
       "        vertical-align: top;\n",
       "    }\n",
       "\n",
       "    .dataframe thead th {\n",
       "        text-align: right;\n",
       "    }\n",
       "</style>\n",
       "<table border=\"1\" class=\"dataframe\">\n",
       "  <thead>\n",
       "    <tr style=\"text-align: right;\">\n",
       "      <th></th>\n",
       "      <th>Index</th>\n",
       "      <th>ProductName</th>\n",
       "      <th>ScrapeDate</th>\n",
       "      <th>ScrapedIndex</th>\n",
       "      <th>ScrapedIndexTrueRank</th>\n",
       "      <th>CorrectedIndexTrueRank</th>\n",
       "      <th>ScrapedIndexPrice</th>\n",
       "      <th>CorrectedPrice</th>\n",
       "      <th>ScrapedIndexVendor</th>\n",
       "      <th>ScrapedIndexVendorType</th>\n",
       "      <th>BBScrapedPrice</th>\n",
       "      <th>BBVendorType</th>\n",
       "      <th>BBVendor</th>\n",
       "      <th>BBCorrectedPrice</th>\n",
       "    </tr>\n",
       "  </thead>\n",
       "  <tbody>\n",
       "    <tr>\n",
       "      <td>0</td>\n",
       "      <td>0</td>\n",
       "      <td>#1 BEST Probiotic Supplement - 60 Day Supply w...</td>\n",
       "      <td>2016-06-14</td>\n",
       "      <td>2</td>\n",
       "      <td>2</td>\n",
       "      <td>1</td>\n",
       "      <td>20.99</td>\n",
       "      <td>20.99</td>\n",
       "      <td>Supplement Warriors</td>\n",
       "      <td>Other</td>\n",
       "      <td>-1.0</td>\n",
       "      <td>FBA</td>\n",
       "      <td>Sold by Sharp Nutrition and Fulfilled by Amazon.</td>\n",
       "      <td>25.02</td>\n",
       "    </tr>\n",
       "    <tr>\n",
       "      <td>1</td>\n",
       "      <td>1</td>\n",
       "      <td>#1 BEST Probiotic Supplement - 60 Day Supply w...</td>\n",
       "      <td>2016-06-14</td>\n",
       "      <td>1</td>\n",
       "      <td>1</td>\n",
       "      <td>2</td>\n",
       "      <td>19.99</td>\n",
       "      <td>25.02</td>\n",
       "      <td>Sharp Nutrition</td>\n",
       "      <td>FBA</td>\n",
       "      <td>-1.0</td>\n",
       "      <td>FBA</td>\n",
       "      <td>Sold by Sharp Nutrition and Fulfilled by Amazon.</td>\n",
       "      <td>25.02</td>\n",
       "    </tr>\n",
       "    <tr>\n",
       "      <td>2</td>\n",
       "      <td>2</td>\n",
       "      <td>10 Panel Dip Drug Testing Kit, Test for 10 Dif...</td>\n",
       "      <td>2016-06-27</td>\n",
       "      <td>1</td>\n",
       "      <td>1</td>\n",
       "      <td>1</td>\n",
       "      <td>3.96</td>\n",
       "      <td>3.96</td>\n",
       "      <td>speedy tests</td>\n",
       "      <td>Other</td>\n",
       "      <td>4.9</td>\n",
       "      <td>FBA</td>\n",
       "      <td>Sold by Michael Minyety and Fulfilled by Amazon.</td>\n",
       "      <td>9.97</td>\n",
       "    </tr>\n",
       "    <tr>\n",
       "      <td>3</td>\n",
       "      <td>3</td>\n",
       "      <td>10 Panel Dip Drug Testing Kit, Test for 10 Dif...</td>\n",
       "      <td>2016-06-27</td>\n",
       "      <td>2</td>\n",
       "      <td>1</td>\n",
       "      <td>1</td>\n",
       "      <td>3.96</td>\n",
       "      <td>3.96</td>\n",
       "      <td>Drug Abuse Control</td>\n",
       "      <td>Other</td>\n",
       "      <td>4.9</td>\n",
       "      <td>FBA</td>\n",
       "      <td>Sold by Michael Minyety and Fulfilled by Amazon.</td>\n",
       "      <td>9.97</td>\n",
       "    </tr>\n",
       "    <tr>\n",
       "      <td>4</td>\n",
       "      <td>4</td>\n",
       "      <td>10 Panel Dip Drug Testing Kit, Test for 10 Dif...</td>\n",
       "      <td>2016-06-27</td>\n",
       "      <td>3</td>\n",
       "      <td>1</td>\n",
       "      <td>1</td>\n",
       "      <td>3.96</td>\n",
       "      <td>3.96</td>\n",
       "      <td>Lowest Priced Tests</td>\n",
       "      <td>Other</td>\n",
       "      <td>4.9</td>\n",
       "      <td>FBA</td>\n",
       "      <td>Sold by Michael Minyety and Fulfilled by Amazon.</td>\n",
       "      <td>9.97</td>\n",
       "    </tr>\n",
       "  </tbody>\n",
       "</table>\n",
       "</div>"
      ],
      "text/plain": [
       "   Index                                        ProductName  ScrapeDate  \\\n",
       "0      0  #1 BEST Probiotic Supplement - 60 Day Supply w...  2016-06-14   \n",
       "1      1  #1 BEST Probiotic Supplement - 60 Day Supply w...  2016-06-14   \n",
       "2      2  10 Panel Dip Drug Testing Kit, Test for 10 Dif...  2016-06-27   \n",
       "3      3  10 Panel Dip Drug Testing Kit, Test for 10 Dif...  2016-06-27   \n",
       "4      4  10 Panel Dip Drug Testing Kit, Test for 10 Dif...  2016-06-27   \n",
       "\n",
       "   ScrapedIndex  ScrapedIndexTrueRank  CorrectedIndexTrueRank  \\\n",
       "0             2                     2                       1   \n",
       "1             1                     1                       2   \n",
       "2             1                     1                       1   \n",
       "3             2                     1                       1   \n",
       "4             3                     1                       1   \n",
       "\n",
       "   ScrapedIndexPrice  CorrectedPrice   ScrapedIndexVendor  \\\n",
       "0              20.99           20.99  Supplement Warriors   \n",
       "1              19.99           25.02      Sharp Nutrition   \n",
       "2               3.96            3.96         speedy tests   \n",
       "3               3.96            3.96   Drug Abuse Control   \n",
       "4               3.96            3.96  Lowest Priced Tests   \n",
       "\n",
       "  ScrapedIndexVendorType  BBScrapedPrice BBVendorType  \\\n",
       "0                  Other            -1.0          FBA   \n",
       "1                    FBA            -1.0          FBA   \n",
       "2                  Other             4.9          FBA   \n",
       "3                  Other             4.9          FBA   \n",
       "4                  Other             4.9          FBA   \n",
       "\n",
       "                                           BBVendor  BBCorrectedPrice  \n",
       "0  Sold by Sharp Nutrition and Fulfilled by Amazon.             25.02  \n",
       "1  Sold by Sharp Nutrition and Fulfilled by Amazon.             25.02  \n",
       "2  Sold by Michael Minyety and Fulfilled by Amazon.              9.97  \n",
       "3  Sold by Michael Minyety and Fulfilled by Amazon.              9.97  \n",
       "4  Sold by Michael Minyety and Fulfilled by Amazon.              9.97  "
      ]
     },
     "execution_count": 18,
     "metadata": {},
     "output_type": "execute_result"
    }
   ],
   "source": [
    "df.head()"
   ]
  },
  {
   "cell_type": "code",
   "execution_count": 32,
   "metadata": {},
   "outputs": [
    {
     "data": {
      "image/png": "[encoded data removed]",
      "text/plain": [
       "<Figure size 432x288 with 1 Axes>"
      ]
     },
     "metadata": {
      "needs_background": "light"
     },
     "output_type": "display_data"
    }
   ],
   "source": [
    "sns.regplot(x='CorrectedIndexTrueRank', y='BBCorrectedPrice', data=df);"
   ]
  },
  {
   "cell_type": "code",
   "execution_count": 65,
   "metadata": {},
   "outputs": [],
   "source": [
    "from sklearn.ensemble import RandomForestRegressor\n",
    "\n",
    "rf = RandomForestRegressor()\n",
    "\n",
    "X = df[['ScrapedIndexTrueRank']]\n",
    "y = df['BBCorrectedPrice']\n",
    "\n",
    "#I had to choose a random forest for this because I kept getting errors doing regression due to\n",
    "#problems with strings converting to floats"
   ]
  },
  {
   "cell_type": "code",
   "execution_count": 69,
   "metadata": {},
   "outputs": [],
   "source": [
    "from sklearn.model_selection import train_test_split\n",
    "X_train, X_test, y_train, y_test = train_test_split(X, y, test_size=0.2, random_state=2020)\n",
    "#I don't think I was abvle to use the training set"
   ]
  },
  {
   "cell_type": "code",
   "execution_count": 70,
   "metadata": {},
   "outputs": [
    {
     "data": {
      "text/plain": [
       "RandomForestRegressor(bootstrap=True, criterion='mse', max_depth=None,\n",
       "                      max_features='auto', max_leaf_nodes=None,\n",
       "                      min_impurity_decrease=0.0, min_impurity_split=None,\n",
       "                      min_samples_leaf=1, min_samples_split=2,\n",
       "                      min_weight_fraction_leaf=0.0, n_estimators=10,\n",
       "                      n_jobs=None, oob_score=False, random_state=None,\n",
       "                      verbose=0, warm_start=False)"
      ]
     },
     "execution_count": 70,
     "metadata": {},
     "output_type": "execute_result"
    }
   ],
   "source": [
    "rf.fit(X, y)"
   ]
  },
  {
   "cell_type": "code",
   "execution_count": 71,
   "metadata": {},
   "outputs": [
    {
     "data": {
      "text/plain": [
       "array([76.1751656 , 68.07018936, 68.07018936, ..., 45.12910779,\n",
       "       42.5765965 , 40.21575394])"
      ]
     },
     "execution_count": 71,
     "metadata": {},
     "output_type": "execute_result"
    }
   ],
   "source": [
    "rf.predict(X)"
   ]
  },
  {
   "cell_type": "code",
   "execution_count": 72,
   "metadata": {},
   "outputs": [
    {
     "data": {
      "text/plain": [
       "0.019436586570924508"
      ]
     },
     "execution_count": 72,
     "metadata": {},
     "output_type": "execute_result"
    }
   ],
   "source": [
    "rf.score(X, y)\n",
    "#This shows that the Rank has almost no explanatory power on price\n",
    "#This could show that Amazon's rank is not related to pricing at all and there are other\n",
    "#ways they determine their rankings, which could mislead consumer\n",
    "#Or I did something very incorrectly as my model's predictive value is near zero"
   ]
  },
  {
   "cell_type": "code",
   "execution_count": 73,
   "metadata": {},
   "outputs": [],
   "source": [
    "from sklearn.pipeline import make_pipeline"
   ]
  },
  {
   "cell_type": "code",
   "execution_count": 74,
   "metadata": {},
   "outputs": [],
   "source": [
    "rf_pipe = make_pipeline(rf)"
   ]
  },
  {
   "cell_type": "code",
   "execution_count": 80,
   "metadata": {},
   "outputs": [
    {
     "data": {
      "text/plain": [
       "Pipeline(memory=None,\n",
       "         steps=[('randomforestregressor',\n",
       "                 RandomForestRegressor(bootstrap=True, criterion='mse',\n",
       "                                       max_depth=None, max_features='auto',\n",
       "                                       max_leaf_nodes=None,\n",
       "                                       min_impurity_decrease=0.0,\n",
       "                                       min_impurity_split=None,\n",
       "                                       min_samples_leaf=1, min_samples_split=2,\n",
       "                                       min_weight_fraction_leaf=0.0,\n",
       "                                       n_estimators=10, n_jobs=None,\n",
       "                                       oob_score=False, random_state=None,\n",
       "                                       verbose=0, warm_start=False))],\n",
       "         verbose=False)"
      ]
     },
     "execution_count": 80,
     "metadata": {},
     "output_type": "execute_result"
    }
   ],
   "source": [
    "rf_pipe.fit(X, y)"
   ]
  },
  {
   "cell_type": "code",
   "execution_count": 81,
   "metadata": {},
   "outputs": [],
   "source": [
    "import pickle\n",
    "\n",
    "with open('pipe.pkl', 'wb') as pipe:\n",
    "    pickle.dump(rf_pipe, pipe)"
   ]
  },
  {
   "cell_type": "code",
   "execution_count": null,
   "metadata": {},
   "outputs": [],
   "source": []
  },
  {
   "cell_type": "code",
   "execution_count": null,
   "metadata": {},
   "outputs": [],
   "source": []
  },
  {
   "cell_type": "code",
   "execution_count": null,
   "metadata": {},
   "outputs": [],
   "source": []
  },
  {
   "cell_type": "code",
   "execution_count": null,
   "metadata": {},
   "outputs": [],
   "source": []
  },
  {
   "cell_type": "code",
   "execution_count": null,
   "metadata": {},
   "outputs": [],
   "source": []
  }
 ],
 "metadata": {
  "kernelspec": {
   "display_name": "Python 3",
   "language": "python",
   "name": "python3"
  },
  "language_info": {
   "codemirror_mode": {
    "name": "ipython",
    "version": 3
   },
   "file_extension": ".py",
   "mimetype": "text/x-python",
   "name": "python",
   "nbconvert_exporter": "python",
   "pygments_lexer": "ipython3",
   "version": "3.7.4"
  }
 },
 "nbformat": 4,
 "nbformat_minor": 2
}
