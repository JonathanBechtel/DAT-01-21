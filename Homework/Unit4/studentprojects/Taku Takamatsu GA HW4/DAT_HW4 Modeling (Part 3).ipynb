{
 "cells": [
  {
   "cell_type": "code",
   "execution_count": 92,
   "metadata": {
    "scrolled": true
   },
   "outputs": [],
   "source": [
    "#import libraries\n",
    "import pandas as pd\n",
    "import numpy as np\n",
    "\n",
    "import matplotlib.pyplot as plt\n",
    "%matplotlib inline\n",
    "import seaborn as sns\n",
    "\n",
    "from sklearn.model_selection import train_test_split, cross_val_score, StratifiedKFold, GridSearchCV\n",
    "from sklearn.ensemble import RandomForestClassifier\n",
    "from sklearn.linear_model import LogisticRegression\n",
    "from category_encoders import OrdinalEncoder, OneHotEncoder\n",
    "from sklearn.preprocessing import StandardScaler\n",
    "from sklearn.pipeline import make_pipeline\n",
    "from sklearn.metrics import confusion_matrix, accuracy_score, classification_report\n",
    "from sklearn.decomposition import PCA\n",
    "\n",
    "from imblearn.over_sampling import SMOTENC\n",
    "from imblearn.pipeline import make_pipeline as sm_make_pipeline\n",
    "\n",
    "from ast import literal_eval\n",
    "\n",
    "import pickle\n",
    "\n",
    "#load both datasets\n",
    "user_1 = pd.read_csv('user_1.csv', converters={\"artist_name\": literal_eval}) # to convert strings back into list\n",
    "user_2 = pd.read_csv('user_2.csv', converters={'artist_name': literal_eval})"
   ]
  },
  {
   "cell_type": "markdown",
   "metadata": {},
   "source": [
    "### Preparing our data for modeling\n",
    "Let's begin by concatenating the two datasets, creating an additional column that separates the two users, as well as identifies when both users listen to the same song (duplicates). "
   ]
  },
  {
   "cell_type": "code",
   "execution_count": 13,
   "metadata": {
    "scrolled": true
   },
   "outputs": [
    {
     "data": {
      "text/html": [
       "<div>\n",
       "<style scoped>\n",
       "    .dataframe tbody tr th:only-of-type {\n",
       "        vertical-align: middle;\n",
       "    }\n",
       "\n",
       "    .dataframe tbody tr th {\n",
       "        vertical-align: top;\n",
       "    }\n",
       "\n",
       "    .dataframe thead th {\n",
       "        text-align: right;\n",
       "    }\n",
       "</style>\n",
       "<table border=\"1\" class=\"dataframe\">\n",
       "  <thead>\n",
       "    <tr style=\"text-align: right;\">\n",
       "      <th></th>\n",
       "      <th>track_id</th>\n",
       "      <th>track_name</th>\n",
       "      <th>artist_name</th>\n",
       "      <th>artist_id</th>\n",
       "      <th>release_date</th>\n",
       "      <th>album_type</th>\n",
       "      <th>popularity</th>\n",
       "      <th>danceability</th>\n",
       "      <th>energy</th>\n",
       "      <th>key</th>\n",
       "      <th>...</th>\n",
       "      <th>mode</th>\n",
       "      <th>speechiness</th>\n",
       "      <th>acousticness</th>\n",
       "      <th>instrumentalness</th>\n",
       "      <th>liveness</th>\n",
       "      <th>valence</th>\n",
       "      <th>tempo</th>\n",
       "      <th>duration_ms</th>\n",
       "      <th>time_signature</th>\n",
       "      <th>user_group</th>\n",
       "    </tr>\n",
       "  </thead>\n",
       "  <tbody>\n",
       "    <tr>\n",
       "      <td>0</td>\n",
       "      <td>0sR0deixp6xTZ5Yx9g0pr0</td>\n",
       "      <td>Release Me</td>\n",
       "      <td>[Miette Hope]</td>\n",
       "      <td>['4K61UysqQc1VRj8VsY76Qw']</td>\n",
       "      <td>2018-06-22</td>\n",
       "      <td>single</td>\n",
       "      <td>34</td>\n",
       "      <td>0.517</td>\n",
       "      <td>0.480</td>\n",
       "      <td>11</td>\n",
       "      <td>...</td>\n",
       "      <td>0</td>\n",
       "      <td>0.0425</td>\n",
       "      <td>0.6830</td>\n",
       "      <td>0.000000</td>\n",
       "      <td>0.0760</td>\n",
       "      <td>0.539</td>\n",
       "      <td>134.012</td>\n",
       "      <td>212236</td>\n",
       "      <td>4</td>\n",
       "      <td>1</td>\n",
       "    </tr>\n",
       "    <tr>\n",
       "      <td>1</td>\n",
       "      <td>0doiRAg2YNQvamY6oMPwkw</td>\n",
       "      <td>Dancing in the Street</td>\n",
       "      <td>[Stephen Day]</td>\n",
       "      <td>['4cnFw4bkIWVGKUBsr93OS5']</td>\n",
       "      <td>2018-04-27</td>\n",
       "      <td>single</td>\n",
       "      <td>5</td>\n",
       "      <td>0.632</td>\n",
       "      <td>0.677</td>\n",
       "      <td>11</td>\n",
       "      <td>...</td>\n",
       "      <td>1</td>\n",
       "      <td>0.0911</td>\n",
       "      <td>0.2630</td>\n",
       "      <td>0.000010</td>\n",
       "      <td>0.0977</td>\n",
       "      <td>0.512</td>\n",
       "      <td>119.763</td>\n",
       "      <td>199027</td>\n",
       "      <td>4</td>\n",
       "      <td>1</td>\n",
       "    </tr>\n",
       "    <tr>\n",
       "      <td>2</td>\n",
       "      <td>0NuIfPuBhUAt4aA4HP0rUu</td>\n",
       "      <td>You Seemed so Happy</td>\n",
       "      <td>[The Japanese House]</td>\n",
       "      <td>['3IunaFjvNKj98JW89JYv9u']</td>\n",
       "      <td>2019-03-01</td>\n",
       "      <td>album</td>\n",
       "      <td>53</td>\n",
       "      <td>0.519</td>\n",
       "      <td>0.888</td>\n",
       "      <td>11</td>\n",
       "      <td>...</td>\n",
       "      <td>1</td>\n",
       "      <td>0.1170</td>\n",
       "      <td>0.0406</td>\n",
       "      <td>0.000000</td>\n",
       "      <td>0.2270</td>\n",
       "      <td>0.416</td>\n",
       "      <td>149.938</td>\n",
       "      <td>162486</td>\n",
       "      <td>4</td>\n",
       "      <td>1</td>\n",
       "    </tr>\n",
       "    <tr>\n",
       "      <td>3</td>\n",
       "      <td>5EXD5rXJ4IVb8g4xSwT0fc</td>\n",
       "      <td>If You Were the Rain</td>\n",
       "      <td>[Stephen Day]</td>\n",
       "      <td>['4cnFw4bkIWVGKUBsr93OS5']</td>\n",
       "      <td>2016-04-08</td>\n",
       "      <td>single</td>\n",
       "      <td>47</td>\n",
       "      <td>0.481</td>\n",
       "      <td>0.412</td>\n",
       "      <td>9</td>\n",
       "      <td>...</td>\n",
       "      <td>1</td>\n",
       "      <td>0.0401</td>\n",
       "      <td>0.6110</td>\n",
       "      <td>0.000059</td>\n",
       "      <td>0.0998</td>\n",
       "      <td>0.326</td>\n",
       "      <td>84.358</td>\n",
       "      <td>220588</td>\n",
       "      <td>4</td>\n",
       "      <td>1</td>\n",
       "    </tr>\n",
       "    <tr>\n",
       "      <td>4</td>\n",
       "      <td>68ViVsxqymVrKMnAbVsEhU</td>\n",
       "      <td>Talking Slow</td>\n",
       "      <td>[Dylan Jordan]</td>\n",
       "      <td>['0vQwQkQbLxrapE7TG9o5SB']</td>\n",
       "      <td>2018-12-12</td>\n",
       "      <td>single</td>\n",
       "      <td>48</td>\n",
       "      <td>0.501</td>\n",
       "      <td>0.533</td>\n",
       "      <td>2</td>\n",
       "      <td>...</td>\n",
       "      <td>1</td>\n",
       "      <td>0.0379</td>\n",
       "      <td>0.2020</td>\n",
       "      <td>0.002060</td>\n",
       "      <td>0.1130</td>\n",
       "      <td>0.151</td>\n",
       "      <td>138.920</td>\n",
       "      <td>259640</td>\n",
       "      <td>4</td>\n",
       "      <td>1</td>\n",
       "    </tr>\n",
       "  </tbody>\n",
       "</table>\n",
       "<p>5 rows × 21 columns</p>\n",
       "</div>"
      ],
      "text/plain": [
       "                 track_id             track_name           artist_name  \\\n",
       "0  0sR0deixp6xTZ5Yx9g0pr0             Release Me         [Miette Hope]   \n",
       "1  0doiRAg2YNQvamY6oMPwkw  Dancing in the Street         [Stephen Day]   \n",
       "2  0NuIfPuBhUAt4aA4HP0rUu    You Seemed so Happy  [The Japanese House]   \n",
       "3  5EXD5rXJ4IVb8g4xSwT0fc   If You Were the Rain         [Stephen Day]   \n",
       "4  68ViVsxqymVrKMnAbVsEhU           Talking Slow        [Dylan Jordan]   \n",
       "\n",
       "                    artist_id release_date album_type  popularity  \\\n",
       "0  ['4K61UysqQc1VRj8VsY76Qw']   2018-06-22     single          34   \n",
       "1  ['4cnFw4bkIWVGKUBsr93OS5']   2018-04-27     single           5   \n",
       "2  ['3IunaFjvNKj98JW89JYv9u']   2019-03-01      album          53   \n",
       "3  ['4cnFw4bkIWVGKUBsr93OS5']   2016-04-08     single          47   \n",
       "4  ['0vQwQkQbLxrapE7TG9o5SB']   2018-12-12     single          48   \n",
       "\n",
       "   danceability  energy  key  ...  mode  speechiness  acousticness  \\\n",
       "0         0.517   0.480   11  ...     0       0.0425        0.6830   \n",
       "1         0.632   0.677   11  ...     1       0.0911        0.2630   \n",
       "2         0.519   0.888   11  ...     1       0.1170        0.0406   \n",
       "3         0.481   0.412    9  ...     1       0.0401        0.6110   \n",
       "4         0.501   0.533    2  ...     1       0.0379        0.2020   \n",
       "\n",
       "   instrumentalness  liveness  valence    tempo  duration_ms  time_signature  \\\n",
       "0          0.000000    0.0760    0.539  134.012       212236               4   \n",
       "1          0.000010    0.0977    0.512  119.763       199027               4   \n",
       "2          0.000000    0.2270    0.416  149.938       162486               4   \n",
       "3          0.000059    0.0998    0.326   84.358       220588               4   \n",
       "4          0.002060    0.1130    0.151  138.920       259640               4   \n",
       "\n",
       "   user_group  \n",
       "0           1  \n",
       "1           1  \n",
       "2           1  \n",
       "3           1  \n",
       "4           1  \n",
       "\n",
       "[5 rows x 21 columns]"
      ]
     },
     "execution_count": 13,
     "metadata": {},
     "output_type": "execute_result"
    }
   ],
   "source": [
    "user_1['user_group'] = 1\n",
    "user_2['user_group'] = 0\n",
    "\n",
    "spotify_df = pd.concat([user_1, user_2])\n",
    "spotify_df.head()"
   ]
  },
  {
   "cell_type": "code",
   "execution_count": 14,
   "metadata": {
    "scrolled": true
   },
   "outputs": [
    {
     "data": {
      "text/html": [
       "<div>\n",
       "<style scoped>\n",
       "    .dataframe tbody tr th:only-of-type {\n",
       "        vertical-align: middle;\n",
       "    }\n",
       "\n",
       "    .dataframe tbody tr th {\n",
       "        vertical-align: top;\n",
       "    }\n",
       "\n",
       "    .dataframe thead th {\n",
       "        text-align: right;\n",
       "    }\n",
       "</style>\n",
       "<table border=\"1\" class=\"dataframe\">\n",
       "  <thead>\n",
       "    <tr style=\"text-align: right;\">\n",
       "      <th></th>\n",
       "      <th>artist_name</th>\n",
       "      <th>release_date</th>\n",
       "      <th>album_type</th>\n",
       "      <th>popularity</th>\n",
       "      <th>danceability</th>\n",
       "      <th>energy</th>\n",
       "      <th>key</th>\n",
       "      <th>loudness</th>\n",
       "      <th>mode</th>\n",
       "      <th>speechiness</th>\n",
       "      <th>acousticness</th>\n",
       "      <th>instrumentalness</th>\n",
       "      <th>liveness</th>\n",
       "      <th>valence</th>\n",
       "      <th>tempo</th>\n",
       "      <th>duration_ms</th>\n",
       "      <th>time_signature</th>\n",
       "      <th>user_group</th>\n",
       "    </tr>\n",
       "  </thead>\n",
       "  <tbody>\n",
       "    <tr>\n",
       "      <td>0</td>\n",
       "      <td>[Miette Hope]</td>\n",
       "      <td>2018-06-22</td>\n",
       "      <td>single</td>\n",
       "      <td>34</td>\n",
       "      <td>0.517</td>\n",
       "      <td>0.480</td>\n",
       "      <td>11</td>\n",
       "      <td>-7.944</td>\n",
       "      <td>0</td>\n",
       "      <td>0.0425</td>\n",
       "      <td>0.6830</td>\n",
       "      <td>0.000000</td>\n",
       "      <td>0.0760</td>\n",
       "      <td>0.539</td>\n",
       "      <td>134.012</td>\n",
       "      <td>212236</td>\n",
       "      <td>4</td>\n",
       "      <td>1</td>\n",
       "    </tr>\n",
       "    <tr>\n",
       "      <td>1</td>\n",
       "      <td>[Stephen Day]</td>\n",
       "      <td>2018-04-27</td>\n",
       "      <td>single</td>\n",
       "      <td>5</td>\n",
       "      <td>0.632</td>\n",
       "      <td>0.677</td>\n",
       "      <td>11</td>\n",
       "      <td>-8.105</td>\n",
       "      <td>1</td>\n",
       "      <td>0.0911</td>\n",
       "      <td>0.2630</td>\n",
       "      <td>0.000010</td>\n",
       "      <td>0.0977</td>\n",
       "      <td>0.512</td>\n",
       "      <td>119.763</td>\n",
       "      <td>199027</td>\n",
       "      <td>4</td>\n",
       "      <td>1</td>\n",
       "    </tr>\n",
       "    <tr>\n",
       "      <td>2</td>\n",
       "      <td>[The Japanese House]</td>\n",
       "      <td>2019-03-01</td>\n",
       "      <td>album</td>\n",
       "      <td>53</td>\n",
       "      <td>0.519</td>\n",
       "      <td>0.888</td>\n",
       "      <td>11</td>\n",
       "      <td>-6.232</td>\n",
       "      <td>1</td>\n",
       "      <td>0.1170</td>\n",
       "      <td>0.0406</td>\n",
       "      <td>0.000000</td>\n",
       "      <td>0.2270</td>\n",
       "      <td>0.416</td>\n",
       "      <td>149.938</td>\n",
       "      <td>162486</td>\n",
       "      <td>4</td>\n",
       "      <td>1</td>\n",
       "    </tr>\n",
       "    <tr>\n",
       "      <td>3</td>\n",
       "      <td>[Stephen Day]</td>\n",
       "      <td>2016-04-08</td>\n",
       "      <td>single</td>\n",
       "      <td>47</td>\n",
       "      <td>0.481</td>\n",
       "      <td>0.412</td>\n",
       "      <td>9</td>\n",
       "      <td>-8.413</td>\n",
       "      <td>1</td>\n",
       "      <td>0.0401</td>\n",
       "      <td>0.6110</td>\n",
       "      <td>0.000059</td>\n",
       "      <td>0.0998</td>\n",
       "      <td>0.326</td>\n",
       "      <td>84.358</td>\n",
       "      <td>220588</td>\n",
       "      <td>4</td>\n",
       "      <td>1</td>\n",
       "    </tr>\n",
       "    <tr>\n",
       "      <td>4</td>\n",
       "      <td>[Dylan Jordan]</td>\n",
       "      <td>2018-12-12</td>\n",
       "      <td>single</td>\n",
       "      <td>48</td>\n",
       "      <td>0.501</td>\n",
       "      <td>0.533</td>\n",
       "      <td>2</td>\n",
       "      <td>-10.110</td>\n",
       "      <td>1</td>\n",
       "      <td>0.0379</td>\n",
       "      <td>0.2020</td>\n",
       "      <td>0.002060</td>\n",
       "      <td>0.1130</td>\n",
       "      <td>0.151</td>\n",
       "      <td>138.920</td>\n",
       "      <td>259640</td>\n",
       "      <td>4</td>\n",
       "      <td>1</td>\n",
       "    </tr>\n",
       "  </tbody>\n",
       "</table>\n",
       "</div>"
      ],
      "text/plain": [
       "            artist_name release_date album_type  popularity  danceability  \\\n",
       "0         [Miette Hope]   2018-06-22     single          34         0.517   \n",
       "1         [Stephen Day]   2018-04-27     single           5         0.632   \n",
       "2  [The Japanese House]   2019-03-01      album          53         0.519   \n",
       "3         [Stephen Day]   2016-04-08     single          47         0.481   \n",
       "4        [Dylan Jordan]   2018-12-12     single          48         0.501   \n",
       "\n",
       "   energy  key  loudness  mode  speechiness  acousticness  instrumentalness  \\\n",
       "0   0.480   11    -7.944     0       0.0425        0.6830          0.000000   \n",
       "1   0.677   11    -8.105     1       0.0911        0.2630          0.000010   \n",
       "2   0.888   11    -6.232     1       0.1170        0.0406          0.000000   \n",
       "3   0.412    9    -8.413     1       0.0401        0.6110          0.000059   \n",
       "4   0.533    2   -10.110     1       0.0379        0.2020          0.002060   \n",
       "\n",
       "   liveness  valence    tempo  duration_ms  time_signature  user_group  \n",
       "0    0.0760    0.539  134.012       212236               4           1  \n",
       "1    0.0977    0.512  119.763       199027               4           1  \n",
       "2    0.2270    0.416  149.938       162486               4           1  \n",
       "3    0.0998    0.326   84.358       220588               4           1  \n",
       "4    0.1130    0.151  138.920       259640               4           1  "
      ]
     },
     "execution_count": 14,
     "metadata": {},
     "output_type": "execute_result"
    }
   ],
   "source": [
    "#remove track info as they're insignificant to predict binary users / try keeping artist name\n",
    "remove_lst = ['track_id', 'track_name', 'artist_id']\n",
    "spotify_col = [col for col in spotify_df.columns.to_list() if col not in remove_lst]\n",
    "spotify_df = spotify_df[spotify_col]\n",
    "spotify_df.head()"
   ]
  },
  {
   "cell_type": "code",
   "execution_count": 15,
   "metadata": {
    "scrolled": true
   },
   "outputs": [
    {
     "data": {
      "text/plain": [
       "(3949, 18)"
      ]
     },
     "execution_count": 15,
     "metadata": {},
     "output_type": "execute_result"
    }
   ],
   "source": [
    "spotify_df.shape"
   ]
  },
  {
   "cell_type": "markdown",
   "metadata": {},
   "source": [
    "#### Feature Engineering\n",
    "To build a prediction model, data must be numeric ==> we should encode all categorical variables\n"
   ]
  },
  {
   "cell_type": "code",
   "execution_count": 16,
   "metadata": {},
   "outputs": [],
   "source": [
    "#for the mode, we'll rename the values so that 1 is 'major' and 0 is 'minor' \n",
    "#--> this is so that we can one-hot-encode during preprocessing\n",
    "spotify_df['mode'] = np.where(spotify_df['mode'] == 1, 'Major', \"Minor\")"
   ]
  },
  {
   "cell_type": "code",
   "execution_count": 17,
   "metadata": {},
   "outputs": [],
   "source": [
    "#key, mode time_signatures are categorical values, so we'll transform them into strings to one-hot-encode\n",
    "spotify_df['key'] = spotify_df['key'].astype(str)\n",
    "spotify_df['time_signature'] = spotify_df['time_signature'].astype(str)"
   ]
  },
  {
   "cell_type": "code",
   "execution_count": 18,
   "metadata": {},
   "outputs": [],
   "source": [
    "#we should figure out what to do with the release_date as we can't parse date-time objects into a model\n",
    "#we could separate out year, month and date into individual columns \n",
    "spotify_df['release_date'] = pd.to_datetime(spotify_df['release_date'])\n",
    "spotify_df['release_date_day'] = spotify_df['release_date'].dt.day\n",
    "spotify_df['release_date_month'] = spotify_df['release_date'].dt.month\n",
    "spotify_df['release_date_year'] = spotify_df['release_date'].dt.year\n",
    "\n",
    "#we could also create a column to identify what week and day of the week a track was released\n",
    "spotify_df['release_date_dayofweek'] = spotify_df['release_date'].dt.dayofweek\n",
    "spotify_df['release_date_week'] = spotify_df['release_date'].dt.week\n",
    "\n",
    "#drop the original release_date\n",
    "spotify_df.drop('release_date', axis=1, inplace=True)"
   ]
  },
  {
   "cell_type": "markdown",
   "metadata": {},
   "source": [
    "Release date would not usually come into consideration when we listen to music - especially what day of the week a track came out, etc. However, Spotify's playlist curation is greatly influenced by the day of the week a track is released. Specifically, there's a cut-point to when a track would be considered for editorial/algorithmic playlists; thus, it indirectly influences our music consumption habit.\n",
    "\n",
    "Month, day, week and dayofweek are categorical variables in ordinal order"
   ]
  },
  {
   "cell_type": "code",
   "execution_count": 84,
   "metadata": {},
   "outputs": [],
   "source": [
    "#categorical features\n",
    "categorical_feat = ['artist_name', 'release_date_day', 'release_date_month', 'release_date_year',\n",
    "                    'release_date_dayofweek', 'release_date_week', 'album_type', 'key', 'mode',\n",
    "                    'time_signature']\n",
    "numerical_feat = ['popularity', 'danceability', 'energy', 'loudness', 'speechiness', 'acousticness', \n",
    "                 'instrumentalness', 'liveness', 'valence', 'tempo', 'duration_ms']\n"
   ]
  },
  {
   "cell_type": "code",
   "execution_count": 20,
   "metadata": {
    "scrolled": false
   },
   "outputs": [
    {
     "data": {
      "text/html": [
       "<div>\n",
       "<style scoped>\n",
       "    .dataframe tbody tr th:only-of-type {\n",
       "        vertical-align: middle;\n",
       "    }\n",
       "\n",
       "    .dataframe tbody tr th {\n",
       "        vertical-align: top;\n",
       "    }\n",
       "\n",
       "    .dataframe thead th {\n",
       "        text-align: right;\n",
       "    }\n",
       "</style>\n",
       "<table border=\"1\" class=\"dataframe\">\n",
       "  <thead>\n",
       "    <tr style=\"text-align: right;\">\n",
       "      <th></th>\n",
       "      <th>artist_name</th>\n",
       "      <th>album_type</th>\n",
       "      <th>popularity</th>\n",
       "      <th>danceability</th>\n",
       "      <th>energy</th>\n",
       "      <th>key</th>\n",
       "      <th>loudness</th>\n",
       "      <th>mode</th>\n",
       "      <th>speechiness</th>\n",
       "      <th>acousticness</th>\n",
       "      <th>...</th>\n",
       "      <th>valence</th>\n",
       "      <th>tempo</th>\n",
       "      <th>duration_ms</th>\n",
       "      <th>time_signature</th>\n",
       "      <th>user_group</th>\n",
       "      <th>release_date_day</th>\n",
       "      <th>release_date_month</th>\n",
       "      <th>release_date_year</th>\n",
       "      <th>release_date_dayofweek</th>\n",
       "      <th>release_date_week</th>\n",
       "    </tr>\n",
       "  </thead>\n",
       "  <tbody>\n",
       "    <tr>\n",
       "      <td>0</td>\n",
       "      <td>[Miette Hope]</td>\n",
       "      <td>single</td>\n",
       "      <td>34</td>\n",
       "      <td>0.517</td>\n",
       "      <td>0.480</td>\n",
       "      <td>11</td>\n",
       "      <td>-7.944</td>\n",
       "      <td>Minor</td>\n",
       "      <td>0.0425</td>\n",
       "      <td>0.6830</td>\n",
       "      <td>...</td>\n",
       "      <td>0.539</td>\n",
       "      <td>134.012</td>\n",
       "      <td>212236</td>\n",
       "      <td>4</td>\n",
       "      <td>1</td>\n",
       "      <td>22</td>\n",
       "      <td>6</td>\n",
       "      <td>2018</td>\n",
       "      <td>4</td>\n",
       "      <td>25</td>\n",
       "    </tr>\n",
       "    <tr>\n",
       "      <td>1</td>\n",
       "      <td>[Stephen Day]</td>\n",
       "      <td>single</td>\n",
       "      <td>5</td>\n",
       "      <td>0.632</td>\n",
       "      <td>0.677</td>\n",
       "      <td>11</td>\n",
       "      <td>-8.105</td>\n",
       "      <td>Major</td>\n",
       "      <td>0.0911</td>\n",
       "      <td>0.2630</td>\n",
       "      <td>...</td>\n",
       "      <td>0.512</td>\n",
       "      <td>119.763</td>\n",
       "      <td>199027</td>\n",
       "      <td>4</td>\n",
       "      <td>1</td>\n",
       "      <td>27</td>\n",
       "      <td>4</td>\n",
       "      <td>2018</td>\n",
       "      <td>4</td>\n",
       "      <td>17</td>\n",
       "    </tr>\n",
       "    <tr>\n",
       "      <td>2</td>\n",
       "      <td>[The Japanese House]</td>\n",
       "      <td>album</td>\n",
       "      <td>53</td>\n",
       "      <td>0.519</td>\n",
       "      <td>0.888</td>\n",
       "      <td>11</td>\n",
       "      <td>-6.232</td>\n",
       "      <td>Major</td>\n",
       "      <td>0.1170</td>\n",
       "      <td>0.0406</td>\n",
       "      <td>...</td>\n",
       "      <td>0.416</td>\n",
       "      <td>149.938</td>\n",
       "      <td>162486</td>\n",
       "      <td>4</td>\n",
       "      <td>1</td>\n",
       "      <td>1</td>\n",
       "      <td>3</td>\n",
       "      <td>2019</td>\n",
       "      <td>4</td>\n",
       "      <td>9</td>\n",
       "    </tr>\n",
       "    <tr>\n",
       "      <td>3</td>\n",
       "      <td>[Stephen Day]</td>\n",
       "      <td>single</td>\n",
       "      <td>47</td>\n",
       "      <td>0.481</td>\n",
       "      <td>0.412</td>\n",
       "      <td>9</td>\n",
       "      <td>-8.413</td>\n",
       "      <td>Major</td>\n",
       "      <td>0.0401</td>\n",
       "      <td>0.6110</td>\n",
       "      <td>...</td>\n",
       "      <td>0.326</td>\n",
       "      <td>84.358</td>\n",
       "      <td>220588</td>\n",
       "      <td>4</td>\n",
       "      <td>1</td>\n",
       "      <td>8</td>\n",
       "      <td>4</td>\n",
       "      <td>2016</td>\n",
       "      <td>4</td>\n",
       "      <td>14</td>\n",
       "    </tr>\n",
       "    <tr>\n",
       "      <td>4</td>\n",
       "      <td>[Dylan Jordan]</td>\n",
       "      <td>single</td>\n",
       "      <td>48</td>\n",
       "      <td>0.501</td>\n",
       "      <td>0.533</td>\n",
       "      <td>2</td>\n",
       "      <td>-10.110</td>\n",
       "      <td>Major</td>\n",
       "      <td>0.0379</td>\n",
       "      <td>0.2020</td>\n",
       "      <td>...</td>\n",
       "      <td>0.151</td>\n",
       "      <td>138.920</td>\n",
       "      <td>259640</td>\n",
       "      <td>4</td>\n",
       "      <td>1</td>\n",
       "      <td>12</td>\n",
       "      <td>12</td>\n",
       "      <td>2018</td>\n",
       "      <td>2</td>\n",
       "      <td>50</td>\n",
       "    </tr>\n",
       "  </tbody>\n",
       "</table>\n",
       "<p>5 rows × 22 columns</p>\n",
       "</div>"
      ],
      "text/plain": [
       "            artist_name album_type  popularity  danceability  energy key  \\\n",
       "0         [Miette Hope]     single          34         0.517   0.480  11   \n",
       "1         [Stephen Day]     single           5         0.632   0.677  11   \n",
       "2  [The Japanese House]      album          53         0.519   0.888  11   \n",
       "3         [Stephen Day]     single          47         0.481   0.412   9   \n",
       "4        [Dylan Jordan]     single          48         0.501   0.533   2   \n",
       "\n",
       "   loudness   mode  speechiness  acousticness  ...  valence    tempo  \\\n",
       "0    -7.944  Minor       0.0425        0.6830  ...    0.539  134.012   \n",
       "1    -8.105  Major       0.0911        0.2630  ...    0.512  119.763   \n",
       "2    -6.232  Major       0.1170        0.0406  ...    0.416  149.938   \n",
       "3    -8.413  Major       0.0401        0.6110  ...    0.326   84.358   \n",
       "4   -10.110  Major       0.0379        0.2020  ...    0.151  138.920   \n",
       "\n",
       "   duration_ms  time_signature  user_group release_date_day  \\\n",
       "0       212236               4           1               22   \n",
       "1       199027               4           1               27   \n",
       "2       162486               4           1                1   \n",
       "3       220588               4           1                8   \n",
       "4       259640               4           1               12   \n",
       "\n",
       "   release_date_month  release_date_year  release_date_dayofweek  \\\n",
       "0                   6               2018                       4   \n",
       "1                   4               2018                       4   \n",
       "2                   3               2019                       4   \n",
       "3                   4               2016                       4   \n",
       "4                  12               2018                       2   \n",
       "\n",
       "   release_date_week  \n",
       "0                 25  \n",
       "1                 17  \n",
       "2                  9  \n",
       "3                 14  \n",
       "4                 50  \n",
       "\n",
       "[5 rows x 22 columns]"
      ]
     },
     "execution_count": 20,
     "metadata": {},
     "output_type": "execute_result"
    }
   ],
   "source": [
    "spotify_df.head()"
   ]
  },
  {
   "cell_type": "code",
   "execution_count": 21,
   "metadata": {
    "scrolled": true
   },
   "outputs": [
    {
     "data": {
      "text/plain": [
       "0    Miette Hope\n",
       "1           Jauz\n",
       "2         Tisoki\n",
       "3    Miette Hope\n",
       "4           Jauz\n",
       "Name: artist_name, dtype: object"
      ]
     },
     "execution_count": 21,
     "metadata": {},
     "output_type": "execute_result"
    }
   ],
   "source": [
    "#before we start preprocessing the model, we should unstack the list of artists\n",
    "spotify_df = spotify_df.explode('artist_name').reset_index(drop=True)\n",
    "spotify_df['artist_name'].head()"
   ]
  },
  {
   "cell_type": "code",
   "execution_count": 22,
   "metadata": {},
   "outputs": [
    {
     "data": {
      "text/plain": [
       "(11726, 22)"
      ]
     },
     "execution_count": 22,
     "metadata": {},
     "output_type": "execute_result"
    }
   ],
   "source": [
    "spotify_df.shape"
   ]
  },
  {
   "cell_type": "markdown",
   "metadata": {},
   "source": [
    "#### Train/Test Split and Preprocessing Machines"
   ]
  },
  {
   "cell_type": "code",
   "execution_count": 23,
   "metadata": {},
   "outputs": [],
   "source": [
    "#prepare training and test sets with random state 2020 to maintain consistencies\n",
    "X = spotify_df.drop('user_group', axis=1)\n",
    "y = spotify_df['user_group']\n",
    "\n",
    "X_train, X_test, y_train, y_test = train_test_split(X, y, test_size=0.25, random_state=2020)"
   ]
  },
  {
   "cell_type": "code",
   "execution_count": 24,
   "metadata": {
    "scrolled": false
   },
   "outputs": [
    {
     "name": "stdout",
     "output_type": "stream",
     "text": [
      "Dataset Sizes:\n",
      "X_train: (8794, 21) \tX_test: (2932, 21) \n",
      "y_train:  (8794,) \ty_test: (2932,)\n"
     ]
    }
   ],
   "source": [
    "print('Dataset Sizes:\\nX_train:', X_train.shape, '\\tX_test:', X_test.shape, '\\ny_train: ', y_train.shape, '\\ty_test:', y_test.shape)"
   ]
  },
  {
   "cell_type": "code",
   "execution_count": 25,
   "metadata": {
    "scrolled": true
   },
   "outputs": [
    {
     "name": "stdout",
     "output_type": "stream",
     "text": [
      "Train Dataset:\n",
      "Prevalence of User 1 in train: 56.55%\n",
      "Prevalence of User 2 in train: 43.45%\n",
      "\n",
      "\n",
      "Test Dataset:\n",
      "Prevalence of User 1 in test: 58.59%\n",
      "Prevalence of User 2 in test: 41.41%\n"
     ]
    }
   ],
   "source": [
    "#we can obverse the prevalence of our binary targets \n",
    "def calc_prevalence(y, var):\n",
    "    total = [y_val for y_val in y if var == y_val]\n",
    "    return len(total) / len(y)\n",
    "\n",
    "user_1_prevalence = calc_prevalence(y_train.values, 1)\n",
    "user_2_prevalence = 1 - user_1_prevalence\n",
    "\n",
    "print('Train Dataset:')\n",
    "print('Prevalence of User 1 in train: ', round(user_1_prevalence * 100, 2), '%', sep='')\n",
    "print('Prevalence of User 2 in train: ', round(user_2_prevalence * 100, 2), '%', sep='')\n",
    "\n",
    "print('\\n\\nTest Dataset:')\n",
    "user_1_prevalence = calc_prevalence(y_test.values, 1)\n",
    "user_2_prevalence = 1 - user_1_prevalence\n",
    "\n",
    "print('Prevalence of User 1 in test: ', round(user_1_prevalence * 100, 2), '%', sep='')\n",
    "print('Prevalence of User 2 in test: ', round(user_2_prevalence * 100, 2), '%', sep='')\n"
   ]
  },
  {
   "cell_type": "markdown",
   "metadata": {},
   "source": [
    "Recognizing the weights of each sample size is crucial when we model, as we'll have to fine-tune it during grid-search."
   ]
  },
  {
   "cell_type": "code",
   "execution_count": 26,
   "metadata": {},
   "outputs": [],
   "source": [
    "#initialize preprocessing encoders\n",
    "ore = OrdinalEncoder(cols=['key']) #ordinal values\n",
    "ohe = OneHotEncoder() #artist_name, mode, time_signature, \n",
    "sc = StandardScaler()\n",
    "pca = PCA(n_components=0.95)"
   ]
  },
  {
   "cell_type": "markdown",
   "metadata": {},
   "source": [
    "#### Logistic Regression\n",
    "As we're predicting on a binary variable (0, 1), we can use liblinear or saga as solvers - both allow L1 and L2 penalty. \n",
    "- Saga: Stochastic Average Gradient descent, extension of Sag that allows L1 Regularization.\n",
    "\n",
    "- LibLinear: Library for Large Linear Classification. Uses a coordinate descent algorithm. Coordinate descent is based on minimizing a multivariate function by solving univariate optimization problems in a loop. In other words, it moves toward the minimum in one direction at a time. - currently Logistic Regression's default\n",
    "\n",
    "#### Random Forest Classifier\n",
    "Random forest is an ensemble supervised machine learning technique, bagging random feature selections and taking majority vote of scores of numerous decision trees. \n",
    "\n",
    "We'll test both models with a stratified K-Fold Cross Validation, and fine tune the method that produces the highest score.\n",
    "\n",
    "#### Principle Component Analysis (PCA)\n",
    "PCA is used when we want to reduce the number of variables and extract important features in each of our variables. As we're performing one-hot-encoding on the artist_name, this would reduce the size of our dataset before we run our estimator at the end of the pipeline.\n",
    "\n",
    "### Stratified K-Fold Cross Validation"
   ]
  },
  {
   "cell_type": "code",
   "execution_count": 27,
   "metadata": {},
   "outputs": [],
   "source": [
    "#initialize logistic regression and random forest classifier\n",
    "logreg = LogisticRegression(max_iter=1000,\n",
    "                           solver='liblinear',\n",
    "                            multi_class='auto'\n",
    "                            )\n",
    "rfc = RandomForestClassifier(n_estimators=100,\n",
    "                            min_samples_leaf=10\n",
    "                            )\n",
    "\n",
    "# create a pipeline with the preprocessing models\n",
    "logreg_pipe = make_pipeline(ore, ohe, sc, logreg)\n",
    "logreg_pipe_2 = make_pipeline(ore, ohe, sc, pca, logreg)\n",
    "rfc_pipe = make_pipeline(ore, ohe, rfc)\n",
    "rfc_pipe_2 = make_pipeline(ore, ohe, pca, rfc)"
   ]
  },
  {
   "cell_type": "code",
   "execution_count": 28,
   "metadata": {},
   "outputs": [
    {
     "name": "stderr",
     "output_type": "stream",
     "text": [
      "/opt/anaconda3/lib/python3.7/site-packages/sklearn/model_selection/_validation.py:536: FitFailedWarning: Estimator fit failed. The score on this train-test partition for these parameters will be set to nan. Details: \n",
      "numpy.linalg.LinAlgError: SVD did not converge\n",
      "\n",
      "  FitFailedWarning)\n",
      "/opt/anaconda3/lib/python3.7/site-packages/sklearn/model_selection/_validation.py:536: FitFailedWarning: Estimator fit failed. The score on this train-test partition for these parameters will be set to nan. Details: \n",
      "numpy.linalg.LinAlgError: SVD did not converge\n",
      "\n",
      "  FitFailedWarning)\n"
     ]
    }
   ],
   "source": [
    "#stratify k-fold to maintain consistencies during cross-validation\n",
    "kfold = StratifiedKFold(n_splits=5, shuffle=True, random_state=2020)\n",
    "\n",
    "#initalize cross validations, parsing k-fold\n",
    "logreg_pipe_scores = cross_val_score(estimator=logreg_pipe, X=X_train, y=y_train, cv=kfold)\n",
    "logreg_pipe_2_scores = cross_val_score(estimator=logreg_pipe_2, X=X_train, y=y_train, cv=kfold)\n",
    "rfc_pipe_scores = cross_val_score(estimator=rfc_pipe, X=X_train, y=y_train, cv=kfold)\n",
    "rfc_pipe_2_scores = cross_val_score(estimator=rfc_pipe_2, X=X_train, y=y_train, cv=kfold)"
   ]
  },
  {
   "cell_type": "code",
   "execution_count": 29,
   "metadata": {},
   "outputs": [
    {
     "name": "stdout",
     "output_type": "stream",
     "text": [
      "LogReg Pipeline Score: 0.5937010440697961\n",
      "LogReg Pipeline (w/PCA) Score: nan\n",
      "RFC Pipeline Score: 0.6317948777649934\n",
      "RFC Pipeline 2 (w/PCA) Score: 0.6713674061110065\n"
     ]
    }
   ],
   "source": [
    "print('LogReg Pipeline Score:', np.mean(logreg_pipe_scores))\n",
    "print('LogReg Pipeline (w/PCA) Score:', np.mean(logreg_pipe_2_scores))\n",
    "print('RFC Pipeline Score:', np.mean(rfc_pipe_scores))\n",
    "print('RFC Pipeline 2 (w/PCA) Score:', np.mean(rfc_pipe_2_scores))"
   ]
  },
  {
   "cell_type": "markdown",
   "metadata": {},
   "source": [
    "The results of cross validation suggests that Random Forest with PCA (95% of features) performed the best. We can begin fine-tuning it with a Grid Search."
   ]
  },
  {
   "cell_type": "code",
   "execution_count": 35,
   "metadata": {},
   "outputs": [],
   "source": [
    "#set hyperparameters to test using grid search\n",
    "#as the classes are uneven, we should adjust the binary target be inversely proportional to class frequencies\n",
    "#we'll run a 95% PCA\n",
    "\n",
    "#inialize the default pipeline\n",
    "pipe = make_pipeline(ore, ohe, pca, rfc)\n",
    "\n",
    "params = {\n",
    "    'randomforestclassifier__n_estimators' : [50, 100, 250], \n",
    "    'randomforestclassifier__max_features' : [0.3, 0.4, 0.5, 0.6, 0.7],\n",
    "    'randomforestclassifier__min_samples_leaf' : [5, 10, 15],\n",
    "    'randomforestclassifier__class_weight': ['balanced'],\n",
    "    'pca__n_components': [0.95]\n",
    "}\n",
    "\n",
    "#initialize the grid search \n",
    "grid_search = GridSearchCV(estimator=pipe, param_grid=params, cv=kfold)"
   ]
  },
  {
   "cell_type": "code",
   "execution_count": 36,
   "metadata": {},
   "outputs": [
    {
     "data": {
      "text/plain": [
       "GridSearchCV(cv=StratifiedKFold(n_splits=5, random_state=2020, shuffle=True),\n",
       "             error_score=nan,\n",
       "             estimator=Pipeline(memory=None,\n",
       "                                steps=[('ordinalencoder',\n",
       "                                        OrdinalEncoder(cols=['key'],\n",
       "                                                       drop_invariant=False,\n",
       "                                                       handle_missing='value',\n",
       "                                                       handle_unknown='value',\n",
       "                                                       mapping=None,\n",
       "                                                       return_df=True,\n",
       "                                                       verbose=0)),\n",
       "                                       ('onehotencoder',\n",
       "                                        OneHotEncoder(cols=None,\n",
       "                                                      drop_invariant=False,\n",
       "                                                      handle...\n",
       "             iid='deprecated', n_jobs=None,\n",
       "             param_grid={'pca__n_components': [0.95],\n",
       "                         'randomforestclassifier__class_weight': ['balanced'],\n",
       "                         'randomforestclassifier__max_features': [0.3, 0.4, 0.5,\n",
       "                                                                  0.6, 0.7],\n",
       "                         'randomforestclassifier__min_samples_leaf': [5, 10,\n",
       "                                                                      15],\n",
       "                         'randomforestclassifier__n_estimators': [50, 100,\n",
       "                                                                  250]},\n",
       "             pre_dispatch='2*n_jobs', refit=True, return_train_score=False,\n",
       "             scoring=None, verbose=0)"
      ]
     },
     "execution_count": 36,
     "metadata": {},
     "output_type": "execute_result"
    }
   ],
   "source": [
    "#fit on training set\n",
    "grid_search.fit(X_train, y_train)"
   ]
  },
  {
   "cell_type": "code",
   "execution_count": 39,
   "metadata": {},
   "outputs": [
    {
     "data": {
      "text/plain": [
       "{'pca__n_components': 0.95,\n",
       " 'randomforestclassifier__class_weight': 'balanced',\n",
       " 'randomforestclassifier__max_features': 0.6,\n",
       " 'randomforestclassifier__min_samples_leaf': 5,\n",
       " 'randomforestclassifier__n_estimators': 50}"
      ]
     },
     "execution_count": 39,
     "metadata": {},
     "output_type": "execute_result"
    }
   ],
   "source": [
    "#find the best hyperparameters\n",
    "grid_search.best_params_"
   ]
  },
  {
   "cell_type": "code",
   "execution_count": 40,
   "metadata": {
    "scrolled": false
   },
   "outputs": [
    {
     "data": {
      "text/html": [
       "<div>\n",
       "<style scoped>\n",
       "    .dataframe tbody tr th:only-of-type {\n",
       "        vertical-align: middle;\n",
       "    }\n",
       "\n",
       "    .dataframe tbody tr th {\n",
       "        vertical-align: top;\n",
       "    }\n",
       "\n",
       "    .dataframe thead th {\n",
       "        text-align: right;\n",
       "    }\n",
       "</style>\n",
       "<table border=\"1\" class=\"dataframe\">\n",
       "  <thead>\n",
       "    <tr style=\"text-align: right;\">\n",
       "      <th></th>\n",
       "      <th>mean_fit_time</th>\n",
       "      <th>std_fit_time</th>\n",
       "      <th>mean_score_time</th>\n",
       "      <th>std_score_time</th>\n",
       "      <th>param_pca__n_components</th>\n",
       "      <th>param_randomforestclassifier__class_weight</th>\n",
       "      <th>param_randomforestclassifier__max_features</th>\n",
       "      <th>param_randomforestclassifier__min_samples_leaf</th>\n",
       "      <th>param_randomforestclassifier__n_estimators</th>\n",
       "      <th>params</th>\n",
       "      <th>split0_test_score</th>\n",
       "      <th>split1_test_score</th>\n",
       "      <th>split2_test_score</th>\n",
       "      <th>split3_test_score</th>\n",
       "      <th>split4_test_score</th>\n",
       "      <th>mean_test_score</th>\n",
       "      <th>std_test_score</th>\n",
       "      <th>rank_test_score</th>\n",
       "    </tr>\n",
       "  </thead>\n",
       "  <tbody>\n",
       "    <tr>\n",
       "      <td>27</td>\n",
       "      <td>13.387382</td>\n",
       "      <td>0.763517</td>\n",
       "      <td>0.611047</td>\n",
       "      <td>0.133031</td>\n",
       "      <td>0.95</td>\n",
       "      <td>balanced</td>\n",
       "      <td>0.6</td>\n",
       "      <td>5</td>\n",
       "      <td>50</td>\n",
       "      <td>{'pca__n_components': 0.95, 'randomforestclass...</td>\n",
       "      <td>0.720864</td>\n",
       "      <td>0.711200</td>\n",
       "      <td>0.716316</td>\n",
       "      <td>0.704946</td>\n",
       "      <td>0.718430</td>\n",
       "      <td>0.714351</td>\n",
       "      <td>0.005680</td>\n",
       "      <td>1</td>\n",
       "    </tr>\n",
       "    <tr>\n",
       "      <td>37</td>\n",
       "      <td>15.053140</td>\n",
       "      <td>1.159683</td>\n",
       "      <td>0.550940</td>\n",
       "      <td>0.078844</td>\n",
       "      <td>0.95</td>\n",
       "      <td>balanced</td>\n",
       "      <td>0.7</td>\n",
       "      <td>5</td>\n",
       "      <td>100</td>\n",
       "      <td>{'pca__n_components': 0.95, 'randomforestclass...</td>\n",
       "      <td>0.725412</td>\n",
       "      <td>0.702103</td>\n",
       "      <td>0.714042</td>\n",
       "      <td>0.711200</td>\n",
       "      <td>0.714448</td>\n",
       "      <td>0.713441</td>\n",
       "      <td>0.007460</td>\n",
       "      <td>2</td>\n",
       "    </tr>\n",
       "    <tr>\n",
       "      <td>29</td>\n",
       "      <td>17.615092</td>\n",
       "      <td>0.473499</td>\n",
       "      <td>0.554413</td>\n",
       "      <td>0.011844</td>\n",
       "      <td>0.95</td>\n",
       "      <td>balanced</td>\n",
       "      <td>0.6</td>\n",
       "      <td>5</td>\n",
       "      <td>250</td>\n",
       "      <td>{'pca__n_components': 0.95, 'randomforestclass...</td>\n",
       "      <td>0.723707</td>\n",
       "      <td>0.699261</td>\n",
       "      <td>0.719159</td>\n",
       "      <td>0.707789</td>\n",
       "      <td>0.716155</td>\n",
       "      <td>0.713214</td>\n",
       "      <td>0.008697</td>\n",
       "      <td>3</td>\n",
       "    </tr>\n",
       "    <tr>\n",
       "      <td>36</td>\n",
       "      <td>13.515159</td>\n",
       "      <td>0.893635</td>\n",
       "      <td>0.605871</td>\n",
       "      <td>0.129652</td>\n",
       "      <td>0.95</td>\n",
       "      <td>balanced</td>\n",
       "      <td>0.7</td>\n",
       "      <td>5</td>\n",
       "      <td>50</td>\n",
       "      <td>{'pca__n_components': 0.95, 'randomforestclass...</td>\n",
       "      <td>0.720864</td>\n",
       "      <td>0.705514</td>\n",
       "      <td>0.719159</td>\n",
       "      <td>0.703240</td>\n",
       "      <td>0.716155</td>\n",
       "      <td>0.712986</td>\n",
       "      <td>0.007225</td>\n",
       "      <td>4</td>\n",
       "    </tr>\n",
       "    <tr>\n",
       "      <td>38</td>\n",
       "      <td>16.936205</td>\n",
       "      <td>0.699404</td>\n",
       "      <td>0.737471</td>\n",
       "      <td>0.096676</td>\n",
       "      <td>0.95</td>\n",
       "      <td>balanced</td>\n",
       "      <td>0.7</td>\n",
       "      <td>5</td>\n",
       "      <td>250</td>\n",
       "      <td>{'pca__n_components': 0.95, 'randomforestclass...</td>\n",
       "      <td>0.722001</td>\n",
       "      <td>0.698124</td>\n",
       "      <td>0.715748</td>\n",
       "      <td>0.711768</td>\n",
       "      <td>0.716724</td>\n",
       "      <td>0.712873</td>\n",
       "      <td>0.008064</td>\n",
       "      <td>5</td>\n",
       "    </tr>\n",
       "  </tbody>\n",
       "</table>\n",
       "</div>"
      ],
      "text/plain": [
       "    mean_fit_time  std_fit_time  mean_score_time  std_score_time  \\\n",
       "27      13.387382      0.763517         0.611047        0.133031   \n",
       "37      15.053140      1.159683         0.550940        0.078844   \n",
       "29      17.615092      0.473499         0.554413        0.011844   \n",
       "36      13.515159      0.893635         0.605871        0.129652   \n",
       "38      16.936205      0.699404         0.737471        0.096676   \n",
       "\n",
       "   param_pca__n_components param_randomforestclassifier__class_weight  \\\n",
       "27                    0.95                                   balanced   \n",
       "37                    0.95                                   balanced   \n",
       "29                    0.95                                   balanced   \n",
       "36                    0.95                                   balanced   \n",
       "38                    0.95                                   balanced   \n",
       "\n",
       "   param_randomforestclassifier__max_features  \\\n",
       "27                                        0.6   \n",
       "37                                        0.7   \n",
       "29                                        0.6   \n",
       "36                                        0.7   \n",
       "38                                        0.7   \n",
       "\n",
       "   param_randomforestclassifier__min_samples_leaf  \\\n",
       "27                                              5   \n",
       "37                                              5   \n",
       "29                                              5   \n",
       "36                                              5   \n",
       "38                                              5   \n",
       "\n",
       "   param_randomforestclassifier__n_estimators  \\\n",
       "27                                         50   \n",
       "37                                        100   \n",
       "29                                        250   \n",
       "36                                         50   \n",
       "38                                        250   \n",
       "\n",
       "                                               params  split0_test_score  \\\n",
       "27  {'pca__n_components': 0.95, 'randomforestclass...           0.720864   \n",
       "37  {'pca__n_components': 0.95, 'randomforestclass...           0.725412   \n",
       "29  {'pca__n_components': 0.95, 'randomforestclass...           0.723707   \n",
       "36  {'pca__n_components': 0.95, 'randomforestclass...           0.720864   \n",
       "38  {'pca__n_components': 0.95, 'randomforestclass...           0.722001   \n",
       "\n",
       "    split1_test_score  split2_test_score  split3_test_score  \\\n",
       "27           0.711200           0.716316           0.704946   \n",
       "37           0.702103           0.714042           0.711200   \n",
       "29           0.699261           0.719159           0.707789   \n",
       "36           0.705514           0.719159           0.703240   \n",
       "38           0.698124           0.715748           0.711768   \n",
       "\n",
       "    split4_test_score  mean_test_score  std_test_score  rank_test_score  \n",
       "27           0.718430         0.714351        0.005680                1  \n",
       "37           0.714448         0.713441        0.007460                2  \n",
       "29           0.716155         0.713214        0.008697                3  \n",
       "36           0.716155         0.712986        0.007225                4  \n",
       "38           0.716724         0.712873        0.008064                5  "
      ]
     },
     "execution_count": 40,
     "metadata": {},
     "output_type": "execute_result"
    }
   ],
   "source": [
    "#return every single permutation to find best features\n",
    "grid_results = pd.DataFrame(grid_search.cv_results_)\n",
    "grid_results.sort_values(by='rank_test_score').head()"
   ]
  },
  {
   "cell_type": "markdown",
   "metadata": {},
   "source": [
    "The permutations of the grid_search suggests that a sample leaf of 5, with 50 trees, has the strongest influence on the performance of the model, with a test score above 0.7. We can set these identified parameters into the model."
   ]
  },
  {
   "cell_type": "code",
   "execution_count": 41,
   "metadata": {},
   "outputs": [
    {
     "data": {
      "text/plain": [
       "Pipeline(memory=None,\n",
       "         steps=[('ordinalencoder',\n",
       "                 OrdinalEncoder(cols=['key'], drop_invariant=False,\n",
       "                                handle_missing='value', handle_unknown='value',\n",
       "                                mapping=[{'col': 'key', 'data_type': dtype('O'),\n",
       "                                          'mapping': 7       1\n",
       "5       2\n",
       "3       3\n",
       "6       4\n",
       "0       5\n",
       "9       6\n",
       "11      7\n",
       "2       8\n",
       "1       9\n",
       "10     10\n",
       "8      11\n",
       "4      12\n",
       "NaN    -2\n",
       "dtype: int64}],\n",
       "                                return_df=True, verbose=0)),\n",
       "                ('onehotencoder',\n",
       "                 OneHotEncoder(cols=['artist_name', 'album_type', 'mode',\n",
       "                                     'time_si...\n",
       "                 RandomForestClassifier(bootstrap=True, ccp_alpha=0.0,\n",
       "                                        class_weight='balanced',\n",
       "                                        criterion='gini', max_depth=None,\n",
       "                                        max_features=0.6, max_leaf_nodes=None,\n",
       "                                        max_samples=None,\n",
       "                                        min_impurity_decrease=0.0,\n",
       "                                        min_impurity_split=None,\n",
       "                                        min_samples_leaf=5, min_samples_split=2,\n",
       "                                        min_weight_fraction_leaf=0.0,\n",
       "                                        n_estimators=50, n_jobs=None,\n",
       "                                        oob_score=False, random_state=None,\n",
       "                                        verbose=0, warm_start=False))],\n",
       "         verbose=False)"
      ]
     },
     "execution_count": 41,
     "metadata": {},
     "output_type": "execute_result"
    }
   ],
   "source": [
    "#we'll update the pipeline and fit on the training set\n",
    "pipe.steps[-1][1].set_params(\n",
    "                            n_estimators=50,\n",
    "                            class_weight='balanced',\n",
    "                            max_features=0.6,\n",
    "                            min_samples_leaf=5)\n",
    "pipe.steps[-2][1].set_params(n_components=0.95)\n",
    "pipe.fit(X_train, y_train)"
   ]
  },
  {
   "cell_type": "markdown",
   "metadata": {},
   "source": [
    "#### Scoring -- Random Forest Classifer\n",
    "Once we've fitted the training dataset, we can see how we did on the test set (unseen data)."
   ]
  },
  {
   "cell_type": "code",
   "execution_count": 47,
   "metadata": {},
   "outputs": [
    {
     "name": "stdout",
     "output_type": "stream",
     "text": [
      "Accuracy 0.7244201909959073 \n",
      "\n",
      "Classification Report:               precision    recall  f1-score   support\n",
      "\n",
      "           0       0.64      0.75      0.69      1214\n",
      "           1       0.80      0.71      0.75      1718\n",
      "\n",
      "    accuracy                           0.72      2932\n",
      "   macro avg       0.72      0.73      0.72      2932\n",
      "weighted avg       0.74      0.72      0.73      2932\n",
      "\n"
     ]
    },
    {
     "data": {
      "image/png": "[encoded data removed]",
      "text/plain": [
       "<Figure size 864x576 with 2 Axes>"
      ]
     },
     "metadata": {
      "needs_background": "light"
     },
     "output_type": "display_data"
    }
   ],
   "source": [
    "#Confusion Matrix\n",
    "pipe_predict = pipe.predict(X_test)\n",
    "c_matrix = confusion_matrix(y_test, pipe_predict)\n",
    "\n",
    "plt.figure(figsize=(12, 8))\n",
    "sns.heatmap(pd.DataFrame(c_matrix), annot=True, fmt='g',  cmap='GnBu', linewidths=1).set_ylim([0,2])\n",
    "plt.title('Confusion Matrix')\n",
    "plt.ylabel('Actual Label')\n",
    "plt. xlabel('Predicted Label');\n",
    "\n",
    "#Evaluation Metrics\n",
    "print('Accuracy', accuracy_score(y_test, pipe_predict), '\\n')\n",
    "print('Classification Report:', classification_report(y_test, pipe_predict))"
   ]
  },
  {
   "cell_type": "code",
   "execution_count": 48,
   "metadata": {
    "scrolled": true
   },
   "outputs": [
    {
     "data": {
      "text/plain": [
       "0.7244201909959073"
      ]
     },
     "execution_count": 48,
     "metadata": {},
     "output_type": "execute_result"
    }
   ],
   "source": [
    "#finally, score on test set\n",
    "pipe.score(X_test, y_test)"
   ]
  },
  {
   "cell_type": "code",
   "execution_count": 49,
   "metadata": {},
   "outputs": [
    {
     "data": {
      "text/plain": [
       "0.8310211507846259"
      ]
     },
     "execution_count": 49,
     "metadata": {},
     "output_type": "execute_result"
    }
   ],
   "source": [
    "pipe.score(X_train, y_train)"
   ]
  },
  {
   "cell_type": "markdown",
   "metadata": {},
   "source": [
    "On unseen data, our model produced a score of 0.72, underfitting the score of the training set. The confusion matrix shows that there were a lot of 'mistakes' in the model - we should try and improve the score."
   ]
  },
  {
   "cell_type": "markdown",
   "metadata": {},
   "source": [
    "### Feature Engineering / Tuning the Model"
   ]
  },
  {
   "cell_type": "markdown",
   "metadata": {},
   "source": [
    "The main reason why our accuracy was low is probably because there weren't a lot of features that differentiated the two user groups. Also, the imbalance in datasets, where User 2 accounted for 40% of the entire dataset, could be an issue - We could try to balance out the data so that the sample sizes are the same. \n",
    "\n",
    "Through some research, sklearn's resample and Imbalanced-Learn's SMOTE modules could be worth trying out.\n",
    "https://towardsdatascience.com/methods-for-dealing-with-imbalanced-data-5b761be45a18"
   ]
  },
  {
   "cell_type": "code",
   "execution_count": 57,
   "metadata": {},
   "outputs": [
    {
     "name": "stdout",
     "output_type": "stream",
     "text": [
      "Initial training size: (8794, 22)\n"
     ]
    },
    {
     "data": {
      "text/html": [
       "<div>\n",
       "<style scoped>\n",
       "    .dataframe tbody tr th:only-of-type {\n",
       "        vertical-align: middle;\n",
       "    }\n",
       "\n",
       "    .dataframe tbody tr th {\n",
       "        vertical-align: top;\n",
       "    }\n",
       "\n",
       "    .dataframe thead th {\n",
       "        text-align: right;\n",
       "    }\n",
       "</style>\n",
       "<table border=\"1\" class=\"dataframe\">\n",
       "  <thead>\n",
       "    <tr style=\"text-align: right;\">\n",
       "      <th></th>\n",
       "      <th>artist_name</th>\n",
       "      <th>album_type</th>\n",
       "      <th>popularity</th>\n",
       "      <th>danceability</th>\n",
       "      <th>energy</th>\n",
       "      <th>key</th>\n",
       "      <th>loudness</th>\n",
       "      <th>mode</th>\n",
       "      <th>speechiness</th>\n",
       "      <th>acousticness</th>\n",
       "      <th>...</th>\n",
       "      <th>valence</th>\n",
       "      <th>tempo</th>\n",
       "      <th>duration_ms</th>\n",
       "      <th>time_signature</th>\n",
       "      <th>release_date_day</th>\n",
       "      <th>release_date_month</th>\n",
       "      <th>release_date_year</th>\n",
       "      <th>release_date_dayofweek</th>\n",
       "      <th>release_date_week</th>\n",
       "      <th>user_group</th>\n",
       "    </tr>\n",
       "  </thead>\n",
       "  <tbody>\n",
       "    <tr>\n",
       "      <td>9277</td>\n",
       "      <td>Alicia Keys</td>\n",
       "      <td>single</td>\n",
       "      <td>33</td>\n",
       "      <td>0.704</td>\n",
       "      <td>0.980</td>\n",
       "      <td>7</td>\n",
       "      <td>-3.248</td>\n",
       "      <td>Minor</td>\n",
       "      <td>0.1300</td>\n",
       "      <td>0.02110</td>\n",
       "      <td>...</td>\n",
       "      <td>0.277</td>\n",
       "      <td>128.050</td>\n",
       "      <td>235781</td>\n",
       "      <td>4</td>\n",
       "      <td>18</td>\n",
       "      <td>9</td>\n",
       "      <td>2015</td>\n",
       "      <td>4</td>\n",
       "      <td>38</td>\n",
       "      <td>1</td>\n",
       "    </tr>\n",
       "    <tr>\n",
       "      <td>7367</td>\n",
       "      <td>DVBBS</td>\n",
       "      <td>single</td>\n",
       "      <td>34</td>\n",
       "      <td>0.625</td>\n",
       "      <td>0.781</td>\n",
       "      <td>5</td>\n",
       "      <td>-3.840</td>\n",
       "      <td>Minor</td>\n",
       "      <td>0.0582</td>\n",
       "      <td>0.06050</td>\n",
       "      <td>...</td>\n",
       "      <td>0.439</td>\n",
       "      <td>159.968</td>\n",
       "      <td>244262</td>\n",
       "      <td>4</td>\n",
       "      <td>3</td>\n",
       "      <td>2</td>\n",
       "      <td>2017</td>\n",
       "      <td>4</td>\n",
       "      <td>5</td>\n",
       "      <td>1</td>\n",
       "    </tr>\n",
       "    <tr>\n",
       "      <td>2131</td>\n",
       "      <td>SIX60</td>\n",
       "      <td>single</td>\n",
       "      <td>66</td>\n",
       "      <td>0.397</td>\n",
       "      <td>0.524</td>\n",
       "      <td>3</td>\n",
       "      <td>-5.846</td>\n",
       "      <td>Major</td>\n",
       "      <td>0.1030</td>\n",
       "      <td>0.60700</td>\n",
       "      <td>...</td>\n",
       "      <td>0.343</td>\n",
       "      <td>175.562</td>\n",
       "      <td>218854</td>\n",
       "      <td>4</td>\n",
       "      <td>4</td>\n",
       "      <td>9</td>\n",
       "      <td>2019</td>\n",
       "      <td>2</td>\n",
       "      <td>36</td>\n",
       "      <td>1</td>\n",
       "    </tr>\n",
       "    <tr>\n",
       "      <td>5197</td>\n",
       "      <td>Cheat Codes</td>\n",
       "      <td>single</td>\n",
       "      <td>2</td>\n",
       "      <td>0.687</td>\n",
       "      <td>0.730</td>\n",
       "      <td>0</td>\n",
       "      <td>-5.906</td>\n",
       "      <td>Minor</td>\n",
       "      <td>0.0345</td>\n",
       "      <td>0.00313</td>\n",
       "      <td>...</td>\n",
       "      <td>0.333</td>\n",
       "      <td>128.028</td>\n",
       "      <td>183750</td>\n",
       "      <td>4</td>\n",
       "      <td>17</td>\n",
       "      <td>6</td>\n",
       "      <td>2016</td>\n",
       "      <td>4</td>\n",
       "      <td>24</td>\n",
       "      <td>1</td>\n",
       "    </tr>\n",
       "    <tr>\n",
       "      <td>5128</td>\n",
       "      <td>Lost Kings</td>\n",
       "      <td>single</td>\n",
       "      <td>61</td>\n",
       "      <td>0.597</td>\n",
       "      <td>0.682</td>\n",
       "      <td>9</td>\n",
       "      <td>-5.393</td>\n",
       "      <td>Minor</td>\n",
       "      <td>0.0874</td>\n",
       "      <td>0.00684</td>\n",
       "      <td>...</td>\n",
       "      <td>0.459</td>\n",
       "      <td>143.811</td>\n",
       "      <td>215565</td>\n",
       "      <td>4</td>\n",
       "      <td>7</td>\n",
       "      <td>10</td>\n",
       "      <td>2016</td>\n",
       "      <td>4</td>\n",
       "      <td>40</td>\n",
       "      <td>1</td>\n",
       "    </tr>\n",
       "  </tbody>\n",
       "</table>\n",
       "<p>5 rows × 22 columns</p>\n",
       "</div>"
      ],
      "text/plain": [
       "      artist_name album_type  popularity  danceability  energy key  loudness  \\\n",
       "9277  Alicia Keys     single          33         0.704   0.980   7    -3.248   \n",
       "7367        DVBBS     single          34         0.625   0.781   5    -3.840   \n",
       "2131        SIX60     single          66         0.397   0.524   3    -5.846   \n",
       "5197  Cheat Codes     single           2         0.687   0.730   0    -5.906   \n",
       "5128   Lost Kings     single          61         0.597   0.682   9    -5.393   \n",
       "\n",
       "       mode  speechiness  acousticness  ...  valence    tempo  duration_ms  \\\n",
       "9277  Minor       0.1300       0.02110  ...    0.277  128.050       235781   \n",
       "7367  Minor       0.0582       0.06050  ...    0.439  159.968       244262   \n",
       "2131  Major       0.1030       0.60700  ...    0.343  175.562       218854   \n",
       "5197  Minor       0.0345       0.00313  ...    0.333  128.028       183750   \n",
       "5128  Minor       0.0874       0.00684  ...    0.459  143.811       215565   \n",
       "\n",
       "      time_signature  release_date_day release_date_month  release_date_year  \\\n",
       "9277               4                18                  9               2015   \n",
       "7367               4                 3                  2               2017   \n",
       "2131               4                 4                  9               2019   \n",
       "5197               4                17                  6               2016   \n",
       "5128               4                 7                 10               2016   \n",
       "\n",
       "      release_date_dayofweek  release_date_week  user_group  \n",
       "9277                       4                 38           1  \n",
       "7367                       4                  5           1  \n",
       "2131                       2                 36           1  \n",
       "5197                       4                 24           1  \n",
       "5128                       4                 40           1  \n",
       "\n",
       "[5 rows x 22 columns]"
      ]
     },
     "execution_count": 57,
     "metadata": {},
     "output_type": "execute_result"
    }
   ],
   "source": [
    "#Resample class to even out sizes\n",
    "from sklearn.utils import resample\n",
    "\n",
    "#combine training X and y\n",
    "train_df = pd.concat([X_train, y_train], axis=1)\n",
    "\n",
    "print('Initial training size:', train_df.shape)\n",
    "\n",
    "user_1_train = train_df[train_df['user_group'] == 1]\n",
    "user_2_train = train_df[train_df['user_group'] == 0]\n",
    "\n",
    "#upsample the minority class --> User 2 group\n",
    "user_2_upsampled = resample(user_2_train,\n",
    "                           replace=True,\n",
    "                           n_samples=len(user_1_train),\n",
    "                           random_state=2020)\n",
    "#undersample the majority class --> user 1\n",
    "user_1_undersampled = resample(user_1_train,\n",
    "                              replace=True,\n",
    "                              n_samples=len(user_2_train),\n",
    "                              random_state=2020)\n",
    "\n",
    "#create new dataset with resampled dataset\n",
    "upsampled_train = pd.concat([user_1_train, user_2_upsampled], sort=False)\n",
    "upsampled_train.head()"
   ]
  },
  {
   "cell_type": "code",
   "execution_count": 59,
   "metadata": {},
   "outputs": [
    {
     "name": "stdout",
     "output_type": "stream",
     "text": [
      "Resampled training size: (9946, 22)\n"
     ]
    }
   ],
   "source": [
    "#check the resampled training size\n",
    "print('Resampled training size:', upsampled_train.shape)"
   ]
  },
  {
   "cell_type": "code",
   "execution_count": 63,
   "metadata": {
    "scrolled": true
   },
   "outputs": [
    {
     "name": "stdout",
     "output_type": "stream",
     "text": [
      "Train Dataset:\n",
      "Prevalence of User 1 in train: 50.0%\n",
      "Prevalence of User 2 in train: 50.0%\n"
     ]
    }
   ],
   "source": [
    "#split the datasets and run it through the model\n",
    "X_train_up = upsampled_train.drop('user_group', axis=1)\n",
    "y_train_up = upsampled_train['user_group']\n",
    "\n",
    "#prevalence of our targets?\n",
    "def calc_prevalence(y):\n",
    "    return sum(y) / len(y)\n",
    "\n",
    "user_1_prevalence = calc_prevalence(y_train_up.values)\n",
    "user_2_prevalence = 1 - user_1_prevalence \n",
    "\n",
    "print('Train Dataset:')\n",
    "print('Prevalence of User 1 in train: ', round(user_1_prevalence * 100, 2), '%', sep='')\n",
    "print('Prevalence of User 2 in train: ', round(user_2_prevalence * 100, 2), '%', sep='')"
   ]
  },
  {
   "cell_type": "markdown",
   "metadata": {},
   "source": [
    "Now, our sample sizes are all equal."
   ]
  },
  {
   "cell_type": "code",
   "execution_count": 65,
   "metadata": {},
   "outputs": [
    {
     "data": {
      "text/plain": [
       "Pipeline(memory=None,\n",
       "         steps=[('ordinalencoder',\n",
       "                 OrdinalEncoder(cols=['key'], drop_invariant=False,\n",
       "                                handle_missing='value', handle_unknown='value',\n",
       "                                mapping=[{'col': 'key', 'data_type': dtype('O'),\n",
       "                                          'mapping': 7       1\n",
       "5       2\n",
       "3       3\n",
       "6       4\n",
       "0       5\n",
       "9       6\n",
       "11      7\n",
       "2       8\n",
       "1       9\n",
       "10     10\n",
       "8      11\n",
       "4      12\n",
       "NaN    -2\n",
       "dtype: int64}],\n",
       "                                return_df=True, verbose=0)),\n",
       "                ('onehotencoder',\n",
       "                 OneHotEncoder(cols=['artist_name', 'album_type', 'mode',\n",
       "                                     'time_si...\n",
       "                 RandomForestClassifier(bootstrap=True, ccp_alpha=0.0,\n",
       "                                        class_weight='balanced',\n",
       "                                        criterion='gini', max_depth=None,\n",
       "                                        max_features=0.6, max_leaf_nodes=None,\n",
       "                                        max_samples=None,\n",
       "                                        min_impurity_decrease=0.0,\n",
       "                                        min_impurity_split=None,\n",
       "                                        min_samples_leaf=5, min_samples_split=2,\n",
       "                                        min_weight_fraction_leaf=0.0,\n",
       "                                        n_estimators=50, n_jobs=None,\n",
       "                                        oob_score=False, random_state=None,\n",
       "                                        verbose=0, warm_start=False))],\n",
       "         verbose=False)"
      ]
     },
     "execution_count": 65,
     "metadata": {},
     "output_type": "execute_result"
    }
   ],
   "source": [
    "#fit on the Random Forest Classifier \n",
    "pipe.fit(X_train_up, y_train_up)"
   ]
  },
  {
   "cell_type": "code",
   "execution_count": 68,
   "metadata": {
    "scrolled": false
   },
   "outputs": [
    {
     "name": "stdout",
     "output_type": "stream",
     "text": [
      "Accuracy 0.730218281036835\n",
      "Classification Report:               precision    recall  f1-score   support\n",
      "\n",
      "           0       0.66      0.73      0.69      1214\n",
      "           1       0.79      0.73      0.76      1718\n",
      "\n",
      "    accuracy                           0.73      2932\n",
      "   macro avg       0.72      0.73      0.73      2932\n",
      "weighted avg       0.74      0.73      0.73      2932\n",
      "\n"
     ]
    },
    {
     "data": {
      "image/png": "[encoded data removed]",
      "text/plain": [
       "<Figure size 864x576 with 2 Axes>"
      ]
     },
     "metadata": {
      "needs_background": "light"
     },
     "output_type": "display_data"
    }
   ],
   "source": [
    "#Score\n",
    "#Confusion Matrix\n",
    "pipe_predict = pipe.predict(X_test)\n",
    "c_matrix = confusion_matrix(y_test, pipe_predict)\n",
    "\n",
    "plt.figure(figsize=(12, 8))\n",
    "sns.heatmap(pd.DataFrame(c_matrix), annot=True, fmt='g', cmap='GnBu', linewidths=1).set_ylim([0,2])\n",
    "plt.title('Confusion Matrix')\n",
    "plt.ylabel('Actual Label')\n",
    "plt. xlabel('Predicted Label');\n",
    "\n",
    "#Evaluation Metrics\n",
    "print('Accuracy', accuracy_score(y_test, pipe_predict))\n",
    "print('Classification Report:', classification_report(y_test, pipe_predict))"
   ]
  },
  {
   "cell_type": "code",
   "execution_count": 69,
   "metadata": {},
   "outputs": [
    {
     "data": {
      "text/plain": [
       "0.730218281036835"
      ]
     },
     "execution_count": 69,
     "metadata": {},
     "output_type": "execute_result"
    }
   ],
   "source": [
    "pipe.score(X_test, y_test)"
   ]
  },
  {
   "cell_type": "markdown",
   "metadata": {},
   "source": [
    "Looks like our score improved slightly!"
   ]
  },
  {
   "cell_type": "markdown",
   "metadata": {},
   "source": [
    "#### Synthetic Minority Oversampling Technique\n",
    "We could also try resampling the data by creating synthetic data values using SMOTENC; Synthetic Minority Oversampling Technique for Nominal and Continous data. -- encodes both continual and categorical features"
   ]
  },
  {
   "cell_type": "code",
   "execution_count": null,
   "metadata": {},
   "outputs": [],
   "source": [
    "{'pca__n_components': 0.95,\n",
    " 'randomforestclassifier__class_weight': 'balanced',\n",
    " 'randomforestclassifier__max_features': 0.6,\n",
    " 'randomforestclassifier__min_samples_leaf': 5,\n",
    " 'randomforestclassifier__n_estimators': 50}"
   ]
  },
  {
   "cell_type": "code",
   "execution_count": 121,
   "metadata": {},
   "outputs": [
    {
     "data": {
      "text/plain": [
       "[0, 1, 5, 7, 15, 17, 18, 19, 20, 21]"
      ]
     },
     "execution_count": 121,
     "metadata": {},
     "output_type": "execute_result"
    }
   ],
   "source": [
    "#identify categorical features\n",
    "categorical_indices = np.nonzero(spotify_df.columns.isin(categorical_feat))[0].tolist()\n",
    "categorical_indices"
   ]
  },
  {
   "cell_type": "code",
   "execution_count": 127,
   "metadata": {},
   "outputs": [
    {
     "data": {
      "text/plain": [
       "Pipeline(memory=None,\n",
       "         steps=[('ordinalencoder',\n",
       "                 OrdinalEncoder(cols=['key'], drop_invariant=False,\n",
       "                                handle_missing='value', handle_unknown='value',\n",
       "                                mapping=[{'col': 'key', 'data_type': dtype('O'),\n",
       "                                          'mapping': 7       1\n",
       "5       2\n",
       "3       3\n",
       "6       4\n",
       "0       5\n",
       "9       6\n",
       "11      7\n",
       "2       8\n",
       "1       9\n",
       "10     10\n",
       "8      11\n",
       "4      12\n",
       "NaN    -2\n",
       "dtype: int64}],\n",
       "                                return_df=True, verbose=0)),\n",
       "                ('onehotencoder',\n",
       "                 OneHotEncoder(cols=['artist_name', 'album_type', 'mode',\n",
       "                                     'time_si...\n",
       "                 RandomForestClassifier(bootstrap=True, ccp_alpha=0.0,\n",
       "                                        class_weight='balanced',\n",
       "                                        criterion='gini', max_depth=None,\n",
       "                                        max_features=0.6, max_leaf_nodes=None,\n",
       "                                        max_samples=None,\n",
       "                                        min_impurity_decrease=0.0,\n",
       "                                        min_impurity_split=None,\n",
       "                                        min_samples_leaf=5, min_samples_split=2,\n",
       "                                        min_weight_fraction_leaf=0.0,\n",
       "                                        n_estimators=50, n_jobs=None,\n",
       "                                        oob_score=False, random_state=None,\n",
       "                                        verbose=0, warm_start=False))],\n",
       "         verbose=False)"
      ]
     },
     "execution_count": 127,
     "metadata": {},
     "output_type": "execute_result"
    }
   ],
   "source": [
    "#initialize SMOTE\n",
    "sm = SMOTENC(random_state=2020, categorical_features=categorical_indices)\n",
    "\n",
    "#parse smote into the pipeline\n",
    "rfc = RandomForestClassifier()\n",
    "sm_pipe = sm_make_pipeline(ore, ohe, sc, sm, pca, rfc)\n",
    "\n",
    "#we can test on the same parameters identified using grid search earlier\n",
    "sm_pipe.steps[-1][1].set_params(class_weight='balanced',\n",
    "                         max_features=0.6,\n",
    "                         min_samples_leaf=5,\n",
    "                         n_estimators=50)\n",
    "sm_pipe.steps[-2][1].set_params(n_components=0.95)\n",
    "\n",
    "#we can fit on the training set\n",
    "sm_pipe.fit(X_train, y_train)"
   ]
  },
  {
   "cell_type": "code",
   "execution_count": 133,
   "metadata": {
    "scrolled": false
   },
   "outputs": [
    {
     "name": "stdout",
     "output_type": "stream",
     "text": [
      "Accuracy 0.5985675306957708\n",
      "\n",
      "Classification Report:               precision    recall  f1-score   support\n",
      "\n",
      "           0       0.51      0.54      0.53      1214\n",
      "           1       0.66      0.64      0.65      1718\n",
      "\n",
      "    accuracy                           0.60      2932\n",
      "   macro avg       0.59      0.59      0.59      2932\n",
      "weighted avg       0.60      0.60      0.60      2932\n",
      "\n"
     ]
    },
    {
     "data": {
      "image/png": "[encoded data removed]",
      "text/plain": [
       "<Figure size 864x576 with 2 Axes>"
      ]
     },
     "metadata": {
      "needs_background": "light"
     },
     "output_type": "display_data"
    }
   ],
   "source": [
    "#Score\n",
    "#Confusion Matrix\n",
    "sm_pipe_predictions = sm_pipe.predict(X_test)\n",
    "c_matrix = confusion_matrix(y_test, sm_pipe_predictions)\n",
    "\n",
    "plt.figure(figsize=(12, 8))\n",
    "sns.heatmap(pd.DataFrame(c_matrix), annot=True, fmt='g', cmap='GnBu', linewidths=1).set_ylim([0,2])\n",
    "plt.title('Confusion Matrix')\n",
    "plt.ylabel('Actual Label')\n",
    "plt. xlabel('Predicted Label');\n",
    "\n",
    "#Evaluation Metrics\n",
    "print('Accuracy', accuracy_score(y_test, sm_pipe_predictions))\n",
    "print()\n",
    "print('Classification Report:', classification_report(y_test, sm_pipe_predictions))"
   ]
  },
  {
   "cell_type": "markdown",
   "metadata": {},
   "source": [
    "The result of fine-tuning it through oversampling the minority made a better improvement than using SMOTE. We could possibly run grid-search again to tune the hyper-parameters of SMOTENC. \n",
    "\n",
    "If we have more time, we could test out other models like SVM,and feature engineer additional columns like bringing in genres of tracks to further classify the user groups. Also, there were around 250 tracks that were in both playlists - this is probably why our accuracy was low. We should take this into consideration and either drop the data, or create a new variable to transform the model into multi-classification."
   ]
  },
  {
   "cell_type": "markdown",
   "metadata": {},
   "source": [
    "### Pickle \n",
    "We will pickle the pipeline to allow reproducability. "
   ]
  },
  {
   "cell_type": "code",
   "execution_count": 134,
   "metadata": {},
   "outputs": [],
   "source": [
    "with open('spotify.pkl', 'wb') as file:\n",
    "    pickle.dump(pipe, file)"
   ]
  }
 ],
 "metadata": {
  "kernelspec": {
   "display_name": "Python 3",
   "language": "python",
   "name": "python3"
  },
  "language_info": {
   "codemirror_mode": {
    "name": "ipython",
    "version": 3
   },
   "file_extension": ".py",
   "mimetype": "text/x-python",
   "name": "python",
   "nbconvert_exporter": "python",
   "pygments_lexer": "ipython3",
   "version": "3.7.4"
  }
 },
 "nbformat": 4,
 "nbformat_minor": 2
}
