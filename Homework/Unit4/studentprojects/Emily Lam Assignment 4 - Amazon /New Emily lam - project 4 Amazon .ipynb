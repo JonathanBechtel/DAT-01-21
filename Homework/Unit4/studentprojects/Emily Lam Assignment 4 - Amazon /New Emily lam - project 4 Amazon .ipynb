{
 "cells": [
  {
   "cell_type": "code",
   "execution_count": 1,
   "metadata": {},
   "outputs": [],
   "source": [
    "#import numpy, pandas, matplotlib, amazon data\n",
    "import pandas as pd\n",
    "import numpy as np\n",
    "import matplotlib.pyplot as plt\n",
    "import seaborn as sns\n"
   ]
  },
  {
   "cell_type": "code",
   "execution_count": 2,
   "metadata": {},
   "outputs": [],
   "source": [
    "data=pd.read_csv('Data/Amazon.csv')\n",
    "data.drop('Index',axis=1,inplace=True)"
   ]
  },
  {
   "cell_type": "code",
   "execution_count": 3,
   "metadata": {},
   "outputs": [],
   "source": [
    "data.rename(columns={'ScrapedIndex':'Index',\n",
    "                     'ScrapedIndexTrueRank':'RankNoShip',\n",
    "                     'CorrectedIndexTrueRank':'RankWithShip',\n",
    "                     'ScrapedIndexPrice':'ScrapedPrice',\n",
    "                     'ScrapedIndexVendor':'Vendor',\n",
    "                     'ScrapedIndexVendorType':'VendorType',\n",
    "                    }, inplace=True)"
   ]
  },
  {
   "cell_type": "code",
   "execution_count": 4,
   "metadata": {},
   "outputs": [
    {
     "data": {
      "text/html": [
       "<div>\n",
       "<style scoped>\n",
       "    .dataframe tbody tr th:only-of-type {\n",
       "        vertical-align: middle;\n",
       "    }\n",
       "\n",
       "    .dataframe tbody tr th {\n",
       "        vertical-align: top;\n",
       "    }\n",
       "\n",
       "    .dataframe thead th {\n",
       "        text-align: right;\n",
       "    }\n",
       "</style>\n",
       "<table border=\"1\" class=\"dataframe\">\n",
       "  <thead>\n",
       "    <tr style=\"text-align: right;\">\n",
       "      <th></th>\n",
       "      <th>ProductName</th>\n",
       "      <th>ScrapeDate</th>\n",
       "      <th>Index</th>\n",
       "      <th>RankNoShip</th>\n",
       "      <th>RankWithShip</th>\n",
       "      <th>ScrapedPrice</th>\n",
       "      <th>CorrectedPrice</th>\n",
       "      <th>Vendor</th>\n",
       "      <th>VendorType</th>\n",
       "      <th>BBScrapedPrice</th>\n",
       "      <th>BBVendorType</th>\n",
       "      <th>BBVendor</th>\n",
       "      <th>BBCorrectedPrice</th>\n",
       "    </tr>\n",
       "  </thead>\n",
       "  <tbody>\n",
       "    <tr>\n",
       "      <td>0</td>\n",
       "      <td>#1 BEST Probiotic Supplement - 60 Day Supply w...</td>\n",
       "      <td>2016-06-14</td>\n",
       "      <td>2</td>\n",
       "      <td>2</td>\n",
       "      <td>1</td>\n",
       "      <td>20.99</td>\n",
       "      <td>20.99</td>\n",
       "      <td>Supplement Warriors</td>\n",
       "      <td>Other</td>\n",
       "      <td>-1.0</td>\n",
       "      <td>FBA</td>\n",
       "      <td>Sold by Sharp Nutrition and Fulfilled by Amazon.</td>\n",
       "      <td>25.02</td>\n",
       "    </tr>\n",
       "    <tr>\n",
       "      <td>1</td>\n",
       "      <td>#1 BEST Probiotic Supplement - 60 Day Supply w...</td>\n",
       "      <td>2016-06-14</td>\n",
       "      <td>1</td>\n",
       "      <td>1</td>\n",
       "      <td>2</td>\n",
       "      <td>19.99</td>\n",
       "      <td>25.02</td>\n",
       "      <td>Sharp Nutrition</td>\n",
       "      <td>FBA</td>\n",
       "      <td>-1.0</td>\n",
       "      <td>FBA</td>\n",
       "      <td>Sold by Sharp Nutrition and Fulfilled by Amazon.</td>\n",
       "      <td>25.02</td>\n",
       "    </tr>\n",
       "    <tr>\n",
       "      <td>2</td>\n",
       "      <td>10 Panel Dip Drug Testing Kit, Test for 10 Dif...</td>\n",
       "      <td>2016-06-27</td>\n",
       "      <td>1</td>\n",
       "      <td>1</td>\n",
       "      <td>1</td>\n",
       "      <td>3.96</td>\n",
       "      <td>3.96</td>\n",
       "      <td>speedy tests</td>\n",
       "      <td>Other</td>\n",
       "      <td>4.9</td>\n",
       "      <td>FBA</td>\n",
       "      <td>Sold by Michael Minyety and Fulfilled by Amazon.</td>\n",
       "      <td>9.97</td>\n",
       "    </tr>\n",
       "    <tr>\n",
       "      <td>3</td>\n",
       "      <td>10 Panel Dip Drug Testing Kit, Test for 10 Dif...</td>\n",
       "      <td>2016-06-27</td>\n",
       "      <td>2</td>\n",
       "      <td>1</td>\n",
       "      <td>1</td>\n",
       "      <td>3.96</td>\n",
       "      <td>3.96</td>\n",
       "      <td>Drug Abuse Control</td>\n",
       "      <td>Other</td>\n",
       "      <td>4.9</td>\n",
       "      <td>FBA</td>\n",
       "      <td>Sold by Michael Minyety and Fulfilled by Amazon.</td>\n",
       "      <td>9.97</td>\n",
       "    </tr>\n",
       "    <tr>\n",
       "      <td>4</td>\n",
       "      <td>10 Panel Dip Drug Testing Kit, Test for 10 Dif...</td>\n",
       "      <td>2016-06-27</td>\n",
       "      <td>3</td>\n",
       "      <td>1</td>\n",
       "      <td>1</td>\n",
       "      <td>3.96</td>\n",
       "      <td>3.96</td>\n",
       "      <td>Lowest Priced Tests</td>\n",
       "      <td>Other</td>\n",
       "      <td>4.9</td>\n",
       "      <td>FBA</td>\n",
       "      <td>Sold by Michael Minyety and Fulfilled by Amazon.</td>\n",
       "      <td>9.97</td>\n",
       "    </tr>\n",
       "  </tbody>\n",
       "</table>\n",
       "</div>"
      ],
      "text/plain": [
       "                                         ProductName  ScrapeDate  Index  \\\n",
       "0  #1 BEST Probiotic Supplement - 60 Day Supply w...  2016-06-14      2   \n",
       "1  #1 BEST Probiotic Supplement - 60 Day Supply w...  2016-06-14      1   \n",
       "2  10 Panel Dip Drug Testing Kit, Test for 10 Dif...  2016-06-27      1   \n",
       "3  10 Panel Dip Drug Testing Kit, Test for 10 Dif...  2016-06-27      2   \n",
       "4  10 Panel Dip Drug Testing Kit, Test for 10 Dif...  2016-06-27      3   \n",
       "\n",
       "   RankNoShip  RankWithShip  ScrapedPrice  CorrectedPrice  \\\n",
       "0           2             1         20.99           20.99   \n",
       "1           1             2         19.99           25.02   \n",
       "2           1             1          3.96            3.96   \n",
       "3           1             1          3.96            3.96   \n",
       "4           1             1          3.96            3.96   \n",
       "\n",
       "                Vendor VendorType  BBScrapedPrice BBVendorType  \\\n",
       "0  Supplement Warriors      Other            -1.0          FBA   \n",
       "1      Sharp Nutrition        FBA            -1.0          FBA   \n",
       "2         speedy tests      Other             4.9          FBA   \n",
       "3   Drug Abuse Control      Other             4.9          FBA   \n",
       "4  Lowest Priced Tests      Other             4.9          FBA   \n",
       "\n",
       "                                           BBVendor  BBCorrectedPrice  \n",
       "0  Sold by Sharp Nutrition and Fulfilled by Amazon.             25.02  \n",
       "1  Sold by Sharp Nutrition and Fulfilled by Amazon.             25.02  \n",
       "2  Sold by Michael Minyety and Fulfilled by Amazon.              9.97  \n",
       "3  Sold by Michael Minyety and Fulfilled by Amazon.              9.97  \n",
       "4  Sold by Michael Minyety and Fulfilled by Amazon.              9.97  "
      ]
     },
     "execution_count": 4,
     "metadata": {},
     "output_type": "execute_result"
    }
   ],
   "source": [
    "data.head()"
   ]
  },
  {
   "cell_type": "code",
   "execution_count": 5,
   "metadata": {},
   "outputs": [
    {
     "data": {
      "text/plain": [
       "0.02351928868492758"
      ]
     },
     "execution_count": 5,
     "metadata": {},
     "output_type": "execute_result"
    }
   ],
   "source": [
    "data['BBVendor'].isnull().sum()/len(data) #2.3% of bbvendor is null, will fill with mode"
   ]
  },
  {
   "cell_type": "code",
   "execution_count": 6,
   "metadata": {},
   "outputs": [
    {
     "data": {
      "text/plain": [
       "Ships from and sold by Amazon.com.                              5293\n",
       "Ships from and sold by Amazon.com in easy-to-open packaging.     495\n",
       "Ships from and sold by El Garaje.                                 86\n",
       "Ships from and sold by PORTABLE GUY.                              46\n",
       "Ships from and sold by ShopChanute.                               44\n",
       "                                                                ... \n",
       "Sold by Pure Water Supplier and Fulfilled by Amazon.               3\n",
       "Ships from and sold by Nutrition Depot.                            2\n",
       "Sold by Store4PC and Fulfilled by Amazon.                          2\n",
       "Sold by power-innovation and Fulfilled by Amazon.                  2\n",
       "Sold by Sharp Nutrition and Fulfilled by Amazon.                   2\n",
       "Name: BBVendor, Length: 62, dtype: int64"
      ]
     },
     "execution_count": 6,
     "metadata": {},
     "output_type": "execute_result"
    }
   ],
   "source": [
    "data['BBVendor'].value_counts() #most of data is is 'Ships from and sold by Amazon.com', so I will allocate null BBVendor values to the mode"
   ]
  },
  {
   "cell_type": "code",
   "execution_count": 7,
   "metadata": {},
   "outputs": [
    {
     "data": {
      "text/plain": [
       "Ships from and sold by Amazon.com.                              5293\n",
       "Ships from and sold by Amazon.com in easy-to-open packaging.     495\n",
       "Ships from and sold by El Garaje.                                 86\n",
       "Ships from and sold by PORTABLE GUY.                              46\n",
       "Ships from and sold by ShopChanute.                               44\n",
       "                                                                ... \n",
       "Sold by Pure Water Supplier and Fulfilled by Amazon.               3\n",
       "Ships from and sold by Nutrition Depot.                            2\n",
       "Sold by Store4PC and Fulfilled by Amazon.                          2\n",
       "Sold by power-innovation and Fulfilled by Amazon.                  2\n",
       "Sold by Sharp Nutrition and Fulfilled by Amazon.                   2\n",
       "Name: BBVendor, Length: 62, dtype: int64"
      ]
     },
     "execution_count": 7,
     "metadata": {},
     "output_type": "execute_result"
    }
   ],
   "source": [
    "#I also noticed that \"Ships from and sold by Amazon.com in easy-to-open packaging\" is the same as \"Ships from and sold by Amazon.com.\"\"\n",
    "data['BBVendor'].replace({'Ships from and sold by Amazon.com in easy-to-open packaging.':'Ships from and sold by Amazon.com.'})\n",
    "data['BBVendor'].value_counts()\n",
    "                         \n",
    "                         \n",
    "                         "
   ]
  },
  {
   "cell_type": "code",
   "execution_count": 8,
   "metadata": {},
   "outputs": [],
   "source": [
    "import statistics\n",
    "data['BBVendor']=data['BBVendor'].fillna(statistics.mode(data['BBVendor'])) #FILLING NULL WITH BBVENDOR MODE"
   ]
  },
  {
   "cell_type": "code",
   "execution_count": 9,
   "metadata": {},
   "outputs": [
    {
     "data": {
      "text/plain": [
       "ProductName         0\n",
       "ScrapeDate          0\n",
       "Index               0\n",
       "RankNoShip          0\n",
       "RankWithShip        0\n",
       "ScrapedPrice        0\n",
       "CorrectedPrice      0\n",
       "Vendor              0\n",
       "VendorType          0\n",
       "BBScrapedPrice      0\n",
       "BBVendorType        0\n",
       "BBVendor            0\n",
       "BBCorrectedPrice    0\n",
       "dtype: int64"
      ]
     },
     "execution_count": 9,
     "metadata": {},
     "output_type": "execute_result"
    }
   ],
   "source": [
    "#checking nulls again\n",
    "data.isnull().sum() "
   ]
  },
  {
   "cell_type": "code",
   "execution_count": 10,
   "metadata": {},
   "outputs": [
    {
     "data": {
      "text/plain": [
       "ProductName          object\n",
       "ScrapeDate           object\n",
       "Index                 int64\n",
       "RankNoShip            int64\n",
       "RankWithShip          int64\n",
       "ScrapedPrice        float64\n",
       "CorrectedPrice      float64\n",
       "Vendor               object\n",
       "VendorType           object\n",
       "BBScrapedPrice      float64\n",
       "BBVendorType         object\n",
       "BBVendor             object\n",
       "BBCorrectedPrice    float64\n",
       "dtype: object"
      ]
     },
     "execution_count": 10,
     "metadata": {},
     "output_type": "execute_result"
    }
   ],
   "source": [
    "data.dtypes #Most things are correct, besides that ScrapeDate should be date/time if we want to work with it"
   ]
  },
  {
   "cell_type": "code",
   "execution_count": 11,
   "metadata": {},
   "outputs": [],
   "source": [
    "data['ScrapeDate'] = pd.to_datetime(data['ScrapeDate']) #changing ScrapeDate dtype "
   ]
  },
  {
   "cell_type": "code",
   "execution_count": 12,
   "metadata": {},
   "outputs": [
    {
     "data": {
      "text/plain": [
       "250"
      ]
     },
     "execution_count": 12,
     "metadata": {},
     "output_type": "execute_result"
    }
   ],
   "source": [
    "#How many unique products are there? #(count: 250)\n",
    "len(data['ProductName'].value_counts()) "
   ]
  },
  {
   "cell_type": "code",
   "execution_count": 13,
   "metadata": {},
   "outputs": [
    {
     "data": {
      "text/plain": [
       "2892"
      ]
     },
     "execution_count": 13,
     "metadata": {},
     "output_type": "execute_result"
    }
   ],
   "source": [
    "#How many unique vendors are there? #(count: 2892)\n",
    "len(data['Vendor'].value_counts())"
   ]
  },
  {
   "cell_type": "code",
   "execution_count": 14,
   "metadata": {
    "scrolled": true
   },
   "outputs": [
    {
     "data": {
      "text/plain": [
       "Amazon    5788\n",
       "O          715\n",
       "FBA        470\n",
       "Name: BBVendorType, dtype: int64"
      ]
     },
     "execution_count": 14,
     "metadata": {},
     "output_type": "execute_result"
    }
   ],
   "source": [
    "data['BBVendorType'].value_counts() #FBA (count: 470)is where you ship your inventory to Amazon and they fulfill each order as it comes in \n",
    "#O is other, likely 3rd party (count: 715)\n",
    "#Amazon would be themselves as the seller (count: 5788)\n",
    "\n",
    "#However, per product, the buybox vendor per line does not change and repeats, \n",
    "#so we'll look at this again later to see the true percentage of amazon/O/FBA sellers"
   ]
  },
  {
   "cell_type": "code",
   "execution_count": 15,
   "metadata": {},
   "outputs": [],
   "source": [
    "#How many listings per product are there? \n",
    "#Making a column 'Count' with new DataFrame NumProducts\n",
    "#First, grouping data by 'ProductName', then counting the number of columns on any of the other levels\n",
    "#in my case, i just chose the column next to it, 'ScrapeDate' and counted the number times it appeared \n",
    "#I then changed the name of the column to 'Count'\n",
    "#Then, I reset the index so I can merge it into Data\n",
    "NumProducts = pd.DataFrame(data.groupby('ProductName')['ScrapeDate'].count().rename(columns={'ScrapeDate':'Count'}))\n",
    "NumProducts = NumProducts.reset_index()"
   ]
  },
  {
   "cell_type": "code",
   "execution_count": 16,
   "metadata": {},
   "outputs": [],
   "source": [
    "#Merge NumProducts, left_on and right_on ProductName because the columns are the same, default how=left\n",
    "data = data.merge(NumProducts, left_on='ProductName',right_on='ProductName')"
   ]
  },
  {
   "cell_type": "code",
   "execution_count": 17,
   "metadata": {},
   "outputs": [],
   "source": [
    "#renaming column so it makes more sense\n",
    "data.rename(columns={\n",
    "    0:'NumListings'}, inplace=True)"
   ]
  },
  {
   "cell_type": "code",
   "execution_count": 18,
   "metadata": {},
   "outputs": [],
   "source": [
    "#I noticed that BBScrapedPrice had many -1.00s (count:358), so I wanted to see if I could replace it with \n",
    "#BBCorrectedPrice (BBScrapedPrice+Shipping), on the basis that there were many listings with free shipping. "
   ]
  },
  {
   "cell_type": "code",
   "execution_count": 19,
   "metadata": {},
   "outputs": [],
   "source": [
    "#checking shipping for scraped items\n",
    "#First I made a new column IndexShippingPrice to show shipping prices of all scraped items\n",
    "data['IndexShippingPrice'] = data['CorrectedPrice'] - data['ScrapedPrice']"
   ]
  },
  {
   "cell_type": "code",
   "execution_count": 20,
   "metadata": {},
   "outputs": [
    {
     "data": {
      "text/plain": [
       "0.00     6372\n",
       "5.48       21\n",
       "6.50       13\n",
       "5.48       11\n",
       "6.36        9\n",
       "         ... \n",
       "8.59        1\n",
       "7.08        1\n",
       "13.84       1\n",
       "7.00        1\n",
       "5.55        1\n",
       "Name: IndexShippingPrice, Length: 305, dtype: int64"
      ]
     },
     "execution_count": 20,
     "metadata": {},
     "output_type": "execute_result"
    }
   ],
   "source": [
    "#now check how many had free shipping\n",
    "data['IndexShippingPrice'].value_counts() #6372 of the Indexed products had free shipping. "
   ]
  },
  {
   "cell_type": "code",
   "execution_count": 21,
   "metadata": {},
   "outputs": [],
   "source": [
    "#repeat with BuyBox products\n",
    "#I made a new column BBShip to show shipping prices of all BuyBox items\n",
    "data['BBShip']=data['BBCorrectedPrice'] - data['BBScrapedPrice'] "
   ]
  },
  {
   "cell_type": "code",
   "execution_count": 22,
   "metadata": {},
   "outputs": [
    {
     "data": {
      "text/plain": [
       "0.00     527\n",
       "5.07     171\n",
       "5.48     169\n",
       "6.64     122\n",
       "23.90    115\n",
       "        ... \n",
       "0.99       2\n",
       "7.65       2\n",
       "24.27      2\n",
       "71.88      1\n",
       "16.27      1\n",
       "Name: BBShip, Length: 194, dtype: int64"
      ]
     },
     "execution_count": 22,
     "metadata": {},
     "output_type": "execute_result"
    }
   ],
   "source": [
    "data['BBShip'].value_counts() #527 free shipping"
   ]
  },
  {
   "cell_type": "code",
   "execution_count": 23,
   "metadata": {
    "scrolled": true
   },
   "outputs": [
    {
     "data": {
      "text/html": [
       "<div>\n",
       "<style scoped>\n",
       "    .dataframe tbody tr th:only-of-type {\n",
       "        vertical-align: middle;\n",
       "    }\n",
       "\n",
       "    .dataframe tbody tr th {\n",
       "        vertical-align: top;\n",
       "    }\n",
       "\n",
       "    .dataframe thead th {\n",
       "        text-align: right;\n",
       "    }\n",
       "</style>\n",
       "<table border=\"1\" class=\"dataframe\">\n",
       "  <thead>\n",
       "    <tr style=\"text-align: right;\">\n",
       "      <th></th>\n",
       "      <th>ProductName</th>\n",
       "      <th>ScrapeDate</th>\n",
       "      <th>Index</th>\n",
       "      <th>RankNoShip</th>\n",
       "      <th>RankWithShip</th>\n",
       "      <th>ScrapedPrice</th>\n",
       "      <th>CorrectedPrice</th>\n",
       "      <th>Vendor</th>\n",
       "      <th>VendorType</th>\n",
       "      <th>BBScrapedPrice</th>\n",
       "      <th>BBVendorType</th>\n",
       "      <th>BBVendor</th>\n",
       "      <th>BBCorrectedPrice</th>\n",
       "      <th>NumListings</th>\n",
       "      <th>IndexShippingPrice</th>\n",
       "      <th>BBShip</th>\n",
       "    </tr>\n",
       "  </thead>\n",
       "  <tbody>\n",
       "    <tr>\n",
       "      <td>21</td>\n",
       "      <td>3 Pair Motorcycle Riding Glasses Smoke Clear Y...</td>\n",
       "      <td>2016-08-29</td>\n",
       "      <td>1</td>\n",
       "      <td>1</td>\n",
       "      <td>1</td>\n",
       "      <td>6.79</td>\n",
       "      <td>6.79</td>\n",
       "      <td>Happy DRH</td>\n",
       "      <td>Other</td>\n",
       "      <td>6.79</td>\n",
       "      <td>O</td>\n",
       "      <td>Ships from and sold by Happy DRH.</td>\n",
       "      <td>6.79</td>\n",
       "      <td>9</td>\n",
       "      <td>0.00</td>\n",
       "      <td>0.0</td>\n",
       "    </tr>\n",
       "    <tr>\n",
       "      <td>22</td>\n",
       "      <td>3 Pair Motorcycle Riding Glasses Smoke Clear Y...</td>\n",
       "      <td>2016-08-29</td>\n",
       "      <td>4</td>\n",
       "      <td>3</td>\n",
       "      <td>2</td>\n",
       "      <td>8.97</td>\n",
       "      <td>8.97</td>\n",
       "      <td>MODA Eyewear</td>\n",
       "      <td>Other</td>\n",
       "      <td>6.79</td>\n",
       "      <td>O</td>\n",
       "      <td>Ships from and sold by Happy DRH.</td>\n",
       "      <td>6.79</td>\n",
       "      <td>9</td>\n",
       "      <td>0.00</td>\n",
       "      <td>0.0</td>\n",
       "    </tr>\n",
       "    <tr>\n",
       "      <td>23</td>\n",
       "      <td>3 Pair Motorcycle Riding Glasses Smoke Clear Y...</td>\n",
       "      <td>2016-08-29</td>\n",
       "      <td>5</td>\n",
       "      <td>4</td>\n",
       "      <td>3</td>\n",
       "      <td>12.48</td>\n",
       "      <td>12.48</td>\n",
       "      <td>MyLux Connection</td>\n",
       "      <td>Other</td>\n",
       "      <td>6.79</td>\n",
       "      <td>O</td>\n",
       "      <td>Ships from and sold by Happy DRH.</td>\n",
       "      <td>6.79</td>\n",
       "      <td>9</td>\n",
       "      <td>0.00</td>\n",
       "      <td>0.0</td>\n",
       "    </tr>\n",
       "    <tr>\n",
       "      <td>24</td>\n",
       "      <td>3 Pair Motorcycle Riding Glasses Smoke Clear Y...</td>\n",
       "      <td>2016-08-29</td>\n",
       "      <td>6</td>\n",
       "      <td>5</td>\n",
       "      <td>4</td>\n",
       "      <td>13.89</td>\n",
       "      <td>13.89</td>\n",
       "      <td>OnlineWelcome</td>\n",
       "      <td>Other</td>\n",
       "      <td>6.79</td>\n",
       "      <td>O</td>\n",
       "      <td>Ships from and sold by Happy DRH.</td>\n",
       "      <td>6.79</td>\n",
       "      <td>9</td>\n",
       "      <td>0.00</td>\n",
       "      <td>0.0</td>\n",
       "    </tr>\n",
       "    <tr>\n",
       "      <td>25</td>\n",
       "      <td>3 Pair Motorcycle Riding Glasses Smoke Clear Y...</td>\n",
       "      <td>2016-08-29</td>\n",
       "      <td>8</td>\n",
       "      <td>7</td>\n",
       "      <td>5</td>\n",
       "      <td>14.68</td>\n",
       "      <td>14.68</td>\n",
       "      <td>VeryHobby</td>\n",
       "      <td>Other</td>\n",
       "      <td>6.79</td>\n",
       "      <td>O</td>\n",
       "      <td>Ships from and sold by Happy DRH.</td>\n",
       "      <td>6.79</td>\n",
       "      <td>9</td>\n",
       "      <td>0.00</td>\n",
       "      <td>0.0</td>\n",
       "    </tr>\n",
       "    <tr>\n",
       "      <td>...</td>\n",
       "      <td>...</td>\n",
       "      <td>...</td>\n",
       "      <td>...</td>\n",
       "      <td>...</td>\n",
       "      <td>...</td>\n",
       "      <td>...</td>\n",
       "      <td>...</td>\n",
       "      <td>...</td>\n",
       "      <td>...</td>\n",
       "      <td>...</td>\n",
       "      <td>...</td>\n",
       "      <td>...</td>\n",
       "      <td>...</td>\n",
       "      <td>...</td>\n",
       "      <td>...</td>\n",
       "      <td>...</td>\n",
       "    </tr>\n",
       "    <tr>\n",
       "      <td>6603</td>\n",
       "      <td>The North Face Unisex Borealis Backpack</td>\n",
       "      <td>2016-09-02</td>\n",
       "      <td>15</td>\n",
       "      <td>15</td>\n",
       "      <td>14</td>\n",
       "      <td>119.98</td>\n",
       "      <td>119.98</td>\n",
       "      <td>shopit</td>\n",
       "      <td>Other</td>\n",
       "      <td>88.95</td>\n",
       "      <td>O</td>\n",
       "      <td>Ships from and sold by Clothing &amp; Shoes.</td>\n",
       "      <td>88.95</td>\n",
       "      <td>18</td>\n",
       "      <td>0.00</td>\n",
       "      <td>0.0</td>\n",
       "    </tr>\n",
       "    <tr>\n",
       "      <td>6604</td>\n",
       "      <td>The North Face Unisex Borealis Backpack</td>\n",
       "      <td>2016-09-02</td>\n",
       "      <td>16</td>\n",
       "      <td>16</td>\n",
       "      <td>15</td>\n",
       "      <td>121.51</td>\n",
       "      <td>121.51</td>\n",
       "      <td>Gray Fox.</td>\n",
       "      <td>Other</td>\n",
       "      <td>88.95</td>\n",
       "      <td>O</td>\n",
       "      <td>Ships from and sold by Clothing &amp; Shoes.</td>\n",
       "      <td>88.95</td>\n",
       "      <td>18</td>\n",
       "      <td>0.00</td>\n",
       "      <td>0.0</td>\n",
       "    </tr>\n",
       "    <tr>\n",
       "      <td>6605</td>\n",
       "      <td>The North Face Unisex Borealis Backpack</td>\n",
       "      <td>2016-09-02</td>\n",
       "      <td>14</td>\n",
       "      <td>14</td>\n",
       "      <td>16</td>\n",
       "      <td>114.00</td>\n",
       "      <td>123.71</td>\n",
       "      <td>All great deals</td>\n",
       "      <td>FBA</td>\n",
       "      <td>88.95</td>\n",
       "      <td>O</td>\n",
       "      <td>Ships from and sold by Clothing &amp; Shoes.</td>\n",
       "      <td>88.95</td>\n",
       "      <td>18</td>\n",
       "      <td>9.71</td>\n",
       "      <td>0.0</td>\n",
       "    </tr>\n",
       "    <tr>\n",
       "      <td>6606</td>\n",
       "      <td>The North Face Unisex Borealis Backpack</td>\n",
       "      <td>2016-09-02</td>\n",
       "      <td>17</td>\n",
       "      <td>17</td>\n",
       "      <td>17</td>\n",
       "      <td>137.42</td>\n",
       "      <td>137.42</td>\n",
       "      <td>Twinix Store</td>\n",
       "      <td>Other</td>\n",
       "      <td>88.95</td>\n",
       "      <td>O</td>\n",
       "      <td>Ships from and sold by Clothing &amp; Shoes.</td>\n",
       "      <td>88.95</td>\n",
       "      <td>18</td>\n",
       "      <td>0.00</td>\n",
       "      <td>0.0</td>\n",
       "    </tr>\n",
       "    <tr>\n",
       "      <td>6607</td>\n",
       "      <td>The North Face Unisex Borealis Backpack</td>\n",
       "      <td>2016-09-02</td>\n",
       "      <td>18</td>\n",
       "      <td>18</td>\n",
       "      <td>18</td>\n",
       "      <td>145.00</td>\n",
       "      <td>145.00</td>\n",
       "      <td>LACLAUSPORTS</td>\n",
       "      <td>Other</td>\n",
       "      <td>88.95</td>\n",
       "      <td>O</td>\n",
       "      <td>Ships from and sold by Clothing &amp; Shoes.</td>\n",
       "      <td>88.95</td>\n",
       "      <td>18</td>\n",
       "      <td>0.00</td>\n",
       "      <td>0.0</td>\n",
       "    </tr>\n",
       "  </tbody>\n",
       "</table>\n",
       "<p>633 rows × 16 columns</p>\n",
       "</div>"
      ],
      "text/plain": [
       "                                            ProductName ScrapeDate  Index  \\\n",
       "21    3 Pair Motorcycle Riding Glasses Smoke Clear Y... 2016-08-29      1   \n",
       "22    3 Pair Motorcycle Riding Glasses Smoke Clear Y... 2016-08-29      4   \n",
       "23    3 Pair Motorcycle Riding Glasses Smoke Clear Y... 2016-08-29      5   \n",
       "24    3 Pair Motorcycle Riding Glasses Smoke Clear Y... 2016-08-29      6   \n",
       "25    3 Pair Motorcycle Riding Glasses Smoke Clear Y... 2016-08-29      8   \n",
       "...                                                 ...        ...    ...   \n",
       "6603            The North Face Unisex Borealis Backpack 2016-09-02     15   \n",
       "6604            The North Face Unisex Borealis Backpack 2016-09-02     16   \n",
       "6605            The North Face Unisex Borealis Backpack 2016-09-02     14   \n",
       "6606            The North Face Unisex Borealis Backpack 2016-09-02     17   \n",
       "6607            The North Face Unisex Borealis Backpack 2016-09-02     18   \n",
       "\n",
       "      RankNoShip  RankWithShip  ScrapedPrice  CorrectedPrice  \\\n",
       "21             1             1          6.79            6.79   \n",
       "22             3             2          8.97            8.97   \n",
       "23             4             3         12.48           12.48   \n",
       "24             5             4         13.89           13.89   \n",
       "25             7             5         14.68           14.68   \n",
       "...          ...           ...           ...             ...   \n",
       "6603          15            14        119.98          119.98   \n",
       "6604          16            15        121.51          121.51   \n",
       "6605          14            16        114.00          123.71   \n",
       "6606          17            17        137.42          137.42   \n",
       "6607          18            18        145.00          145.00   \n",
       "\n",
       "                Vendor VendorType  BBScrapedPrice BBVendorType  \\\n",
       "21           Happy DRH      Other            6.79            O   \n",
       "22        MODA Eyewear      Other            6.79            O   \n",
       "23    MyLux Connection      Other            6.79            O   \n",
       "24       OnlineWelcome      Other            6.79            O   \n",
       "25           VeryHobby      Other            6.79            O   \n",
       "...                ...        ...             ...          ...   \n",
       "6603            shopit      Other           88.95            O   \n",
       "6604         Gray Fox.      Other           88.95            O   \n",
       "6605   All great deals        FBA           88.95            O   \n",
       "6606      Twinix Store      Other           88.95            O   \n",
       "6607      LACLAUSPORTS      Other           88.95            O   \n",
       "\n",
       "                                      BBVendor  BBCorrectedPrice  NumListings  \\\n",
       "21           Ships from and sold by Happy DRH.              6.79            9   \n",
       "22           Ships from and sold by Happy DRH.              6.79            9   \n",
       "23           Ships from and sold by Happy DRH.              6.79            9   \n",
       "24           Ships from and sold by Happy DRH.              6.79            9   \n",
       "25           Ships from and sold by Happy DRH.              6.79            9   \n",
       "...                                        ...               ...          ...   \n",
       "6603  Ships from and sold by Clothing & Shoes.             88.95           18   \n",
       "6604  Ships from and sold by Clothing & Shoes.             88.95           18   \n",
       "6605  Ships from and sold by Clothing & Shoes.             88.95           18   \n",
       "6606  Ships from and sold by Clothing & Shoes.             88.95           18   \n",
       "6607  Ships from and sold by Clothing & Shoes.             88.95           18   \n",
       "\n",
       "      IndexShippingPrice  BBShip  \n",
       "21                  0.00     0.0  \n",
       "22                  0.00     0.0  \n",
       "23                  0.00     0.0  \n",
       "24                  0.00     0.0  \n",
       "25                  0.00     0.0  \n",
       "...                  ...     ...  \n",
       "6603                0.00     0.0  \n",
       "6604                0.00     0.0  \n",
       "6605                9.71     0.0  \n",
       "6606                0.00     0.0  \n",
       "6607                0.00     0.0  \n",
       "\n",
       "[633 rows x 16 columns]"
      ]
     },
     "execution_count": 23,
     "metadata": {},
     "output_type": "execute_result"
    }
   ],
   "source": [
    "data[data['BBShip']<1] #527 were free shipping, 633 were less than $1.00"
   ]
  },
  {
   "cell_type": "code",
   "execution_count": 24,
   "metadata": {},
   "outputs": [],
   "source": [
    "#Since free shipping was the mode of both buybox and indexed items, \n",
    "#i set the price of BBScrapedPrice when it was -1 equal to the BBCorrectedPrice\n",
    "data['BBScrapedPrice']=np.where(data['BBScrapedPrice']==-1.00, data['BBCorrectedPrice'], data['BBScrapedPrice'])\n"
   ]
  },
  {
   "cell_type": "code",
   "execution_count": 26,
   "metadata": {},
   "outputs": [
    {
     "data": {
      "text/html": [
       "<div>\n",
       "<style scoped>\n",
       "    .dataframe tbody tr th:only-of-type {\n",
       "        vertical-align: middle;\n",
       "    }\n",
       "\n",
       "    .dataframe tbody tr th {\n",
       "        vertical-align: top;\n",
       "    }\n",
       "\n",
       "    .dataframe thead th {\n",
       "        text-align: right;\n",
       "    }\n",
       "</style>\n",
       "<table border=\"1\" class=\"dataframe\">\n",
       "  <thead>\n",
       "    <tr style=\"text-align: right;\">\n",
       "      <th></th>\n",
       "      <th>Index</th>\n",
       "      <th>RankNoShip</th>\n",
       "      <th>RankWithShip</th>\n",
       "      <th>ScrapedPrice</th>\n",
       "      <th>CorrectedPrice</th>\n",
       "      <th>VendorType</th>\n",
       "    </tr>\n",
       "  </thead>\n",
       "  <tbody>\n",
       "    <tr>\n",
       "      <td>2579</td>\n",
       "      <td>1</td>\n",
       "      <td>1</td>\n",
       "      <td>14</td>\n",
       "      <td>8.99</td>\n",
       "      <td>14.06</td>\n",
       "      <td>Amazon</td>\n",
       "    </tr>\n",
       "    <tr>\n",
       "      <td>2580</td>\n",
       "      <td>2</td>\n",
       "      <td>1</td>\n",
       "      <td>14</td>\n",
       "      <td>8.99</td>\n",
       "      <td>14.06</td>\n",
       "      <td>FBA</td>\n",
       "    </tr>\n",
       "    <tr>\n",
       "      <td>2554</td>\n",
       "      <td>3</td>\n",
       "      <td>2</td>\n",
       "      <td>1</td>\n",
       "      <td>8.99</td>\n",
       "      <td>8.99</td>\n",
       "      <td>Other</td>\n",
       "    </tr>\n",
       "    <tr>\n",
       "      <td>2555</td>\n",
       "      <td>4</td>\n",
       "      <td>2</td>\n",
       "      <td>1</td>\n",
       "      <td>8.99</td>\n",
       "      <td>8.99</td>\n",
       "      <td>Other</td>\n",
       "    </tr>\n",
       "    <tr>\n",
       "      <td>2556</td>\n",
       "      <td>5</td>\n",
       "      <td>3</td>\n",
       "      <td>2</td>\n",
       "      <td>9.54</td>\n",
       "      <td>9.54</td>\n",
       "      <td>Other</td>\n",
       "    </tr>\n",
       "    <tr>\n",
       "      <td>2590</td>\n",
       "      <td>6</td>\n",
       "      <td>4</td>\n",
       "      <td>24</td>\n",
       "      <td>9.95</td>\n",
       "      <td>15.02</td>\n",
       "      <td>FBA</td>\n",
       "    </tr>\n",
       "    <tr>\n",
       "      <td>2595</td>\n",
       "      <td>7</td>\n",
       "      <td>5</td>\n",
       "      <td>29</td>\n",
       "      <td>10.99</td>\n",
       "      <td>16.06</td>\n",
       "      <td>FBA</td>\n",
       "    </tr>\n",
       "    <tr>\n",
       "      <td>2557</td>\n",
       "      <td>8</td>\n",
       "      <td>6</td>\n",
       "      <td>3</td>\n",
       "      <td>11.00</td>\n",
       "      <td>11.00</td>\n",
       "      <td>Other</td>\n",
       "    </tr>\n",
       "    <tr>\n",
       "      <td>2597</td>\n",
       "      <td>9</td>\n",
       "      <td>7</td>\n",
       "      <td>31</td>\n",
       "      <td>11.40</td>\n",
       "      <td>16.47</td>\n",
       "      <td>FBA</td>\n",
       "    </tr>\n",
       "    <tr>\n",
       "      <td>2558</td>\n",
       "      <td>10</td>\n",
       "      <td>8</td>\n",
       "      <td>4</td>\n",
       "      <td>11.45</td>\n",
       "      <td>11.45</td>\n",
       "      <td>Other</td>\n",
       "    </tr>\n",
       "    <tr>\n",
       "      <td>2599</td>\n",
       "      <td>11</td>\n",
       "      <td>9</td>\n",
       "      <td>33</td>\n",
       "      <td>11.55</td>\n",
       "      <td>16.62</td>\n",
       "      <td>FBA</td>\n",
       "    </tr>\n",
       "    <tr>\n",
       "      <td>2560</td>\n",
       "      <td>12</td>\n",
       "      <td>10</td>\n",
       "      <td>6</td>\n",
       "      <td>12.19</td>\n",
       "      <td>12.19</td>\n",
       "      <td>Other</td>\n",
       "    </tr>\n",
       "    <tr>\n",
       "      <td>2561</td>\n",
       "      <td>13</td>\n",
       "      <td>11</td>\n",
       "      <td>7</td>\n",
       "      <td>12.49</td>\n",
       "      <td>12.49</td>\n",
       "      <td>Other</td>\n",
       "    </tr>\n",
       "    <tr>\n",
       "      <td>2571</td>\n",
       "      <td>14</td>\n",
       "      <td>12</td>\n",
       "      <td>8</td>\n",
       "      <td>12.98</td>\n",
       "      <td>12.98</td>\n",
       "      <td>Other</td>\n",
       "    </tr>\n",
       "    <tr>\n",
       "      <td>2573</td>\n",
       "      <td>15</td>\n",
       "      <td>13</td>\n",
       "      <td>9</td>\n",
       "      <td>12.99</td>\n",
       "      <td>12.99</td>\n",
       "      <td>Other</td>\n",
       "    </tr>\n",
       "    <tr>\n",
       "      <td>2574</td>\n",
       "      <td>16</td>\n",
       "      <td>13</td>\n",
       "      <td>9</td>\n",
       "      <td>12.99</td>\n",
       "      <td>12.99</td>\n",
       "      <td>Other</td>\n",
       "    </tr>\n",
       "    <tr>\n",
       "      <td>2575</td>\n",
       "      <td>17</td>\n",
       "      <td>14</td>\n",
       "      <td>10</td>\n",
       "      <td>13.18</td>\n",
       "      <td>13.18</td>\n",
       "      <td>Other</td>\n",
       "    </tr>\n",
       "    <tr>\n",
       "      <td>2576</td>\n",
       "      <td>18</td>\n",
       "      <td>15</td>\n",
       "      <td>11</td>\n",
       "      <td>13.70</td>\n",
       "      <td>13.70</td>\n",
       "      <td>Other</td>\n",
       "    </tr>\n",
       "    <tr>\n",
       "      <td>2577</td>\n",
       "      <td>19</td>\n",
       "      <td>16</td>\n",
       "      <td>12</td>\n",
       "      <td>13.74</td>\n",
       "      <td>13.74</td>\n",
       "      <td>Other</td>\n",
       "    </tr>\n",
       "    <tr>\n",
       "      <td>2578</td>\n",
       "      <td>20</td>\n",
       "      <td>17</td>\n",
       "      <td>13</td>\n",
       "      <td>13.88</td>\n",
       "      <td>13.88</td>\n",
       "      <td>Other</td>\n",
       "    </tr>\n",
       "  </tbody>\n",
       "</table>\n",
       "</div>"
      ],
      "text/plain": [
       "      Index  RankNoShip  RankWithShip  ScrapedPrice  CorrectedPrice VendorType\n",
       "2579      1           1            14          8.99           14.06     Amazon\n",
       "2580      2           1            14          8.99           14.06        FBA\n",
       "2554      3           2             1          8.99            8.99      Other\n",
       "2555      4           2             1          8.99            8.99      Other\n",
       "2556      5           3             2          9.54            9.54      Other\n",
       "2590      6           4            24          9.95           15.02        FBA\n",
       "2595      7           5            29         10.99           16.06        FBA\n",
       "2557      8           6             3         11.00           11.00      Other\n",
       "2597      9           7            31         11.40           16.47        FBA\n",
       "2558     10           8             4         11.45           11.45      Other\n",
       "2599     11           9            33         11.55           16.62        FBA\n",
       "2560     12          10             6         12.19           12.19      Other\n",
       "2561     13          11             7         12.49           12.49      Other\n",
       "2571     14          12             8         12.98           12.98      Other\n",
       "2573     15          13             9         12.99           12.99      Other\n",
       "2574     16          13             9         12.99           12.99      Other\n",
       "2575     17          14            10         13.18           13.18      Other\n",
       "2576     18          15            11         13.70           13.70      Other\n",
       "2577     19          16            12         13.74           13.74      Other\n",
       "2578     20          17            13         13.88           13.88      Other"
      ]
     },
     "execution_count": 26,
     "metadata": {},
     "output_type": "execute_result"
    }
   ],
   "source": [
    "#Explore: difference between Index, RankWithShip, RankNoShip\n",
    "\n",
    "x = data[data['ProductName'] == 'Fujifilm INSTAX Mini Instant Film (Rainbow)'][['Index', 'RankNoShip', 'RankWithShip','ScrapedPrice', 'CorrectedPrice', 'VendorType']]\n",
    "x.sort_values('Index').head(20)\n",
    "\n",
    "#from here we can see: \n",
    "#RankNoShip is dependent on the scraped price, ordered, which is why there are repeating numbers\n",
    "#RankWithShip is dependent on the price, which is why there are repeating numbers \n",
    "#Index ranks based on ScrapedPrice, but also weighs the vendortype\n",
    "#for the first two prices, we see that ScrapedPrice is 8.99, but Amazon is ranked above FBA and Other with the same ScrapedPrice\n",
    "    #this gives me the impression that Amazon as a vendor is ranked above Other and FBA vendors \n",
    "    #despite having the same ScrapedPrice and higher Shipping rates \n",
    "\n",
    "    "
   ]
  },
  {
   "cell_type": "code",
   "execution_count": 27,
   "metadata": {},
   "outputs": [
    {
     "name": "stderr",
     "output_type": "stream",
     "text": [
      "/opt/anaconda3/lib/python3.7/site-packages/ipykernel_launcher.py:6: SettingWithCopyWarning: \n",
      "A value is trying to be set on a copy of a slice from a DataFrame\n",
      "\n",
      "See the caveats in the documentation: http://pandas.pydata.org/pandas-docs/stable/user_guide/indexing.html#returning-a-view-versus-a-copy\n",
      "  \n"
     ]
    }
   ],
   "source": [
    "#Explore: % of each type of vendor featured in the buybox\n",
    "\n",
    "BB = data[['ProductName','BBScrapedPrice','BBVendorType','BBVendor','BBCorrectedPrice','BBShip']]\n",
    "pd.DataFrame(BB.groupby('ProductName')['BBVendorType'].value_counts())\n",
    "\n",
    "BB.drop_duplicates(keep='first', inplace=True)"
   ]
  },
  {
   "cell_type": "code",
   "execution_count": 28,
   "metadata": {},
   "outputs": [
    {
     "data": {
      "text/plain": [
       "Amazon    180\n",
       "O          36\n",
       "FBA        34\n",
       "Name: BBVendorType, dtype: int64"
      ]
     },
     "execution_count": 28,
     "metadata": {},
     "output_type": "execute_result"
    }
   ],
   "source": [
    "BB['BBVendorType'].value_counts()\n",
    "\n",
    "#Amazon Counts: 180\n",
    "#O Counts: 36\n",
    "#FBA Counts: 34 "
   ]
  },
  {
   "cell_type": "code",
   "execution_count": 29,
   "metadata": {},
   "outputs": [
    {
     "data": {
      "text/plain": [
       "0.72"
      ]
     },
     "execution_count": 29,
     "metadata": {},
     "output_type": "execute_result"
    }
   ],
   "source": [
    "BB['BBVendorType'].value_counts()['Amazon']/len(BB) #72% of buybox were Amazon"
   ]
  },
  {
   "cell_type": "code",
   "execution_count": 30,
   "metadata": {},
   "outputs": [
    {
     "data": {
      "text/plain": [
       "0.144"
      ]
     },
     "execution_count": 30,
     "metadata": {},
     "output_type": "execute_result"
    }
   ],
   "source": [
    "BB['BBVendorType'].value_counts()['O']/len(BB) #14.4% of buybox were 'Other'"
   ]
  },
  {
   "cell_type": "code",
   "execution_count": 31,
   "metadata": {},
   "outputs": [
    {
     "data": {
      "text/plain": [
       "0.136"
      ]
     },
     "execution_count": 31,
     "metadata": {},
     "output_type": "execute_result"
    }
   ],
   "source": [
    "BB['BBVendorType'].value_counts()['FBA']/len(BB) #13.6% of buybox were 'FBA'"
   ]
  },
  {
   "cell_type": "code",
   "execution_count": 32,
   "metadata": {},
   "outputs": [
    {
     "data": {
      "text/plain": [
       "Other     6372\n",
       "FBA        409\n",
       "Amazon     192\n",
       "Name: VendorType, dtype: int64"
      ]
     },
     "execution_count": 32,
     "metadata": {},
     "output_type": "execute_result"
    }
   ],
   "source": [
    "#Explore: % of each type of vendor \n",
    "\n",
    "data['VendorType'].value_counts()"
   ]
  },
  {
   "cell_type": "code",
   "execution_count": 33,
   "metadata": {},
   "outputs": [
    {
     "data": {
      "text/plain": [
       "0.9138104115875519"
      ]
     },
     "execution_count": 33,
     "metadata": {},
     "output_type": "execute_result"
    }
   ],
   "source": [
    "data['VendorType'].value_counts()['Other']/len(data) #91.38% of index were 'Other'"
   ]
  },
  {
   "cell_type": "code",
   "execution_count": 34,
   "metadata": {},
   "outputs": [
    {
     "data": {
      "text/plain": [
       "0.027534776996988385"
      ]
     },
     "execution_count": 34,
     "metadata": {},
     "output_type": "execute_result"
    }
   ],
   "source": [
    "data['VendorType'].value_counts()['Amazon']/len(data) #2.75% of index were 'AMAZON'"
   ]
  },
  {
   "cell_type": "code",
   "execution_count": 35,
   "metadata": {},
   "outputs": [
    {
     "data": {
      "text/plain": [
       "0.05865481141545963"
      ]
     },
     "execution_count": 35,
     "metadata": {},
     "output_type": "execute_result"
    }
   ],
   "source": [
    "data['VendorType'].value_counts()['FBA']/len(data) #5.87% of index were 'FBA'"
   ]
  },
  {
   "cell_type": "code",
   "execution_count": 36,
   "metadata": {},
   "outputs": [
    {
     "data": {
      "image/png": "[encoded data removed]",
      "text/plain": [
       "<Figure size 432x288 with 1 Axes>"
      ]
     },
     "metadata": {
      "needs_background": "light"
     },
     "output_type": "display_data"
    }
   ],
   "source": [
    "#VISUALIZATION BTWN VENDORTYPES//STACKED BAR CHARTS\n",
    "vendortype=pd.DataFrame(data['VendorType'].value_counts()) #save each of the valuecounts for vendortype to a dataframe\n",
    "bbvendortype=pd.DataFrame(data['BBVendorType'].value_counts()) #same for BB\n",
    "vendortype = vendortype.reset_index() #reset the index\n",
    "bbvendortype= bbvendortype.reset_index()\n",
    "bbvendortype.replace({'O':'Other'},inplace=True) #change O to other so names are consistent \n",
    "\n",
    "viz1=vendortype.merge(bbvendortype,left_on='index', right_on='index') #merge to have one dataframe \n",
    "viz1x=viz1['index'].tolist() #get the x axis by putting it in a list \n",
    "viz1.plot(x='index', y=['VendorType', 'BBVendorType'], kind='bar', stacked=True); #plot! "
   ]
  },
  {
   "cell_type": "code",
   "execution_count": 62,
   "metadata": {},
   "outputs": [],
   "source": [
    "#looping through each row and seeing if the vendor name was in the 'BBVendor' text, which meant it was the buybox \n",
    "#this column will help determine if a new vendor would be in the buybox\n",
    "for idx, row in data.iterrows():\n",
    "    if (row['Vendor'] in row['BBVendor']):\n",
    "        data.loc[idx, 'isbuybox?'] = 1\n",
    "    else:\n",
    "        data.loc[idx, 'isbuybox?'] = 0"
   ]
  },
  {
   "cell_type": "code",
   "execution_count": 38,
   "metadata": {},
   "outputs": [
    {
     "data": {
      "text/plain": [
       "0.0    6719\n",
       "1.0     254\n",
       "Name: isbuybox?, dtype: int64"
      ]
     },
     "execution_count": 38,
     "metadata": {},
     "output_type": "execute_result"
    }
   ],
   "source": [
    "data['isbuybox?'].value_counts()"
   ]
  },
  {
   "cell_type": "code",
   "execution_count": 63,
   "metadata": {},
   "outputs": [],
   "source": [
    " #% off of the price from the buybox price (w/o shipping)\n",
    "data['PctOffNoShip'] = (data['ScrapedPrice']-data['BBScrapedPrice'])/data['BBScrapedPrice']\n",
    " #% off of the price from the buybox price (w/ shipping)\n",
    "data['PctOffShip'] = (data['CorrectedPrice']-data['BBCorrectedPrice'])/data['BBCorrectedPrice']"
   ]
  },
  {
   "cell_type": "code",
   "execution_count": 40,
   "metadata": {
    "scrolled": true
   },
   "outputs": [],
   "source": [
    "#Getting infinity for weber grill cleaner spray because its buybox values are equal to 0 \n",
    "#Since there are only 20 listings, I dropped Weber from the dataset\n",
    "#first i made a variable equal to the list of every index with the Weber product\n",
    "weber = data[data['ProductName'] == 'Weber Grill Cleaner Spray - Professional Strength Degreaser - Non Toxic 16 oz Cleanser'].index.tolist()"
   ]
  },
  {
   "cell_type": "code",
   "execution_count": 41,
   "metadata": {
    "scrolled": true
   },
   "outputs": [],
   "source": [
    "#then i dropped it by locating with index\n",
    "data = data.drop(data.index[weber])"
   ]
  },
  {
   "cell_type": "code",
   "execution_count": 64,
   "metadata": {},
   "outputs": [
    {
     "data": {
      "text/html": [
       "<div>\n",
       "<style scoped>\n",
       "    .dataframe tbody tr th:only-of-type {\n",
       "        vertical-align: middle;\n",
       "    }\n",
       "\n",
       "    .dataframe tbody tr th {\n",
       "        vertical-align: top;\n",
       "    }\n",
       "\n",
       "    .dataframe thead th {\n",
       "        text-align: right;\n",
       "    }\n",
       "</style>\n",
       "<table border=\"1\" class=\"dataframe\">\n",
       "  <thead>\n",
       "    <tr style=\"text-align: right;\">\n",
       "      <th></th>\n",
       "      <th>index</th>\n",
       "      <th>PctOffNoShip</th>\n",
       "      <th>PctOffShip</th>\n",
       "    </tr>\n",
       "  </thead>\n",
       "  <tbody>\n",
       "    <tr>\n",
       "      <td>0</td>\n",
       "      <td>0</td>\n",
       "      <td>-0.181055</td>\n",
       "      <td>-0.080536</td>\n",
       "    </tr>\n",
       "    <tr>\n",
       "      <td>1</td>\n",
       "      <td>1</td>\n",
       "      <td>1.215126</td>\n",
       "      <td>0.148504</td>\n",
       "    </tr>\n",
       "    <tr>\n",
       "      <td>2</td>\n",
       "      <td>2</td>\n",
       "      <td>3.761284</td>\n",
       "      <td>3.761284</td>\n",
       "    </tr>\n",
       "    <tr>\n",
       "      <td>3</td>\n",
       "      <td>3</td>\n",
       "      <td>0.697595</td>\n",
       "      <td>1.020128</td>\n",
       "    </tr>\n",
       "    <tr>\n",
       "      <td>4</td>\n",
       "      <td>4</td>\n",
       "      <td>0.224361</td>\n",
       "      <td>0.240806</td>\n",
       "    </tr>\n",
       "    <tr>\n",
       "      <td>...</td>\n",
       "      <td>...</td>\n",
       "      <td>...</td>\n",
       "      <td>...</td>\n",
       "    </tr>\n",
       "    <tr>\n",
       "      <td>244</td>\n",
       "      <td>244</td>\n",
       "      <td>0.270758</td>\n",
       "      <td>0.083819</td>\n",
       "    </tr>\n",
       "    <tr>\n",
       "      <td>245</td>\n",
       "      <td>245</td>\n",
       "      <td>0.774739</td>\n",
       "      <td>0.085682</td>\n",
       "    </tr>\n",
       "    <tr>\n",
       "      <td>246</td>\n",
       "      <td>246</td>\n",
       "      <td>0.792764</td>\n",
       "      <td>0.256842</td>\n",
       "    </tr>\n",
       "    <tr>\n",
       "      <td>247</td>\n",
       "      <td>247</td>\n",
       "      <td>-0.056174</td>\n",
       "      <td>0.276974</td>\n",
       "    </tr>\n",
       "    <tr>\n",
       "      <td>248</td>\n",
       "      <td>248</td>\n",
       "      <td>0.483778</td>\n",
       "      <td>0.162255</td>\n",
       "    </tr>\n",
       "  </tbody>\n",
       "</table>\n",
       "<p>249 rows × 3 columns</p>\n",
       "</div>"
      ],
      "text/plain": [
       "     index  PctOffNoShip  PctOffShip\n",
       "0        0     -0.181055   -0.080536\n",
       "1        1      1.215126    0.148504\n",
       "2        2      3.761284    3.761284\n",
       "3        3      0.697595    1.020128\n",
       "4        4      0.224361    0.240806\n",
       "..     ...           ...         ...\n",
       "244    244      0.270758    0.083819\n",
       "245    245      0.774739    0.085682\n",
       "246    246      0.792764    0.256842\n",
       "247    247     -0.056174    0.276974\n",
       "248    248      0.483778    0.162255\n",
       "\n",
       "[249 rows x 3 columns]"
      ]
     },
     "execution_count": 64,
     "metadata": {},
     "output_type": "execute_result"
    }
   ],
   "source": [
    "#Visualization for percent away from the buybox price (with shipping and no shipping)\n",
    "pctoff = pd.DataFrame(data.groupby('ProductName')[['PctOffNoShip','PctOffShip']].mean()).reset_index().drop('ProductName',axis=1)\n",
    "pctoff = pctoff.reset_index()\n",
    "yaxis=pctoff[['PctOffNoShip','PctOffShip']]\n",
    "\n",
    "#this is the dataframe that will be visualized\n",
    "pctoff"
   ]
  },
  {
   "cell_type": "code",
   "execution_count": 44,
   "metadata": {},
   "outputs": [
    {
     "data": {
      "image/png": "[encoded data removed]",
      "text/plain": [
       "<Figure size 1080x360 with 1 Axes>"
      ]
     },
     "metadata": {
      "needs_background": "light"
     },
     "output_type": "display_data"
    }
   ],
   "source": [
    "#pctoff.plot(x='index', y=['PctOffNoShip','PctOffShip'],kind='scatter', stacked=True)\n",
    "plt.figure(figsize=(15, 5))\n",
    "plt.scatter(pctoff['index'], y=pctoff['PctOffNoShip'], color='red', alpha=.5, label='Without Shipping')\n",
    "plt.scatter(pctoff['index'], y=pctoff['PctOffShip'], color='green', alpha=.5, label='With Shipping')\n",
    "plt.xlabel('Index')\n",
    "plt.ylabel('Percent Away from Buy Box Price')\n",
    "plt.ylim(-1,2)\n",
    "plt.legend()\n",
    "plt.show()\n",
    "\n",
    "#this plots percent away from the buybox price, both including shipping (green) and without shipping (red)\n",
    "#from this plot, we can see that without shipping, the numbers without shipping, were higher (generally) \n",
    "#however when shipping was accounted for, prices lingered closer to zero and sometimes even went below 0,\n",
    "#indicating that lower prices with shipping were not selected for the buy box"
   ]
  },
  {
   "cell_type": "markdown",
   "metadata": {},
   "source": [
    "CATEGORICAL \n",
    "    - ProductName, Vendor, VendorType, BBVendorType, BBVendor, isbuybox?\n",
    "\n",
    "NUMERICAL \n",
    "    continuous \n",
    "        - ScrapedPrice, CorrectedPrice, BBScrapedPrice, BBCorrectedPrice, IndexShippingPrice, BBShip, PctOffNoShip, PctOffShip\n",
    "    ordinal \n",
    "        - ScrapeDate, Index, RankNoShip, RankWithShip, NumListings"
   ]
  },
  {
   "cell_type": "code",
   "execution_count": 45,
   "metadata": {},
   "outputs": [],
   "source": [
    "from sklearn.ensemble import RandomForestRegressor\n",
    "from sklearn.pipeline import make_pipeline\n",
    "from category_encoders import OneHotEncoder\n",
    "from sklearn.model_selection import train_test_split"
   ]
  },
  {
   "cell_type": "code",
   "execution_count": 46,
   "metadata": {},
   "outputs": [],
   "source": [
    "rf = RandomForestRegressor()\n",
    "ohe = OneHotEncoder()\n",
    "pipe = make_pipeline(ohe, rf)"
   ]
  },
  {
   "cell_type": "code",
   "execution_count": 47,
   "metadata": {},
   "outputs": [],
   "source": [
    "data = data.drop('ScrapeDate',axis=1)\n",
    "X = data.drop('isbuybox?',axis=1)\n",
    "y= data['isbuybox?']"
   ]
  },
  {
   "cell_type": "code",
   "execution_count": 48,
   "metadata": {},
   "outputs": [],
   "source": [
    "#make the training/test sets\n",
    "X_train, X_test, y_train, y_test = train_test_split(X, y, test_size=0.2, random_state=2020)"
   ]
  },
  {
   "cell_type": "code",
   "execution_count": 49,
   "metadata": {},
   "outputs": [
    {
     "name": "stderr",
     "output_type": "stream",
     "text": [
      "/opt/anaconda3/lib/python3.7/site-packages/sklearn/ensemble/forest.py:245: FutureWarning: The default value of n_estimators will change from 10 in version 0.20 to 100 in 0.22.\n",
      "  \"10 in version 0.20 to 100 in 0.22.\", FutureWarning)\n"
     ]
    },
    {
     "data": {
      "text/plain": [
       "Pipeline(memory=None,\n",
       "         steps=[('onehotencoder',\n",
       "                 OneHotEncoder(cols=['ProductName', 'Vendor', 'VendorType',\n",
       "                                     'BBVendorType', 'BBVendor'],\n",
       "                               drop_invariant=False, handle_missing='value',\n",
       "                               handle_unknown='value', return_df=True,\n",
       "                               use_cat_names=False, verbose=0)),\n",
       "                ('randomforestregressor',\n",
       "                 RandomForestRegressor(bootstrap=True, criterion='mse',\n",
       "                                       max_depth=None, max_features='auto',\n",
       "                                       max_leaf_nodes=None,\n",
       "                                       min_impurity_decrease=0.0,\n",
       "                                       min_impurity_split=None,\n",
       "                                       min_samples_leaf=1, min_samples_split=2,\n",
       "                                       min_weight_fraction_leaf=0.0,\n",
       "                                       n_estimators=10, n_jobs=None,\n",
       "                                       oob_score=False, random_state=None,\n",
       "                                       verbose=0, warm_start=False))],\n",
       "         verbose=False)"
      ]
     },
     "execution_count": 49,
     "metadata": {},
     "output_type": "execute_result"
    }
   ],
   "source": [
    "#now to fit the training data \n",
    "pipe.fit(X_train, y_train)"
   ]
  },
  {
   "cell_type": "code",
   "execution_count": 50,
   "metadata": {},
   "outputs": [
    {
     "data": {
      "text/plain": [
       "0.9834383642100376"
      ]
     },
     "execution_count": 50,
     "metadata": {},
     "output_type": "execute_result"
    }
   ],
   "source": [
    "pipe.score(X_train, y_train) #training score = 0.9831851281887842"
   ]
  },
  {
   "cell_type": "code",
   "execution_count": 51,
   "metadata": {},
   "outputs": [
    {
     "data": {
      "text/plain": [
       "0.8877947381484239"
      ]
     },
     "execution_count": 51,
     "metadata": {},
     "output_type": "execute_result"
    }
   ],
   "source": [
    "pipe.score(X_test, y_test) #test score = 0.8742006391164061, which means variance is low and it is underfitting and high bias"
   ]
  },
  {
   "cell_type": "code",
   "execution_count": 52,
   "metadata": {},
   "outputs": [],
   "source": [
    "#next, Grid Search to improve score\n",
    "from sklearn.model_selection import GridSearchCV\n",
    "\n",
    "params = {\n",
    "    'randomforestregressor__min_samples_leaf': [5,10,15,25],\n",
    "    'randomforestregressor__max_features': [0.3, 0.4, 0.5],\n",
    "    'randomforestregressor__n_estimators': [10, 50, 100]\n",
    "}\n",
    "\n",
    "grid = GridSearchCV(estimator=pipe, param_grid=params, cv=5)"
   ]
  },
  {
   "cell_type": "code",
   "execution_count": 53,
   "metadata": {},
   "outputs": [
    {
     "data": {
      "text/plain": [
       "GridSearchCV(cv=5, error_score='raise-deprecating',\n",
       "             estimator=Pipeline(memory=None,\n",
       "                                steps=[('onehotencoder',\n",
       "                                        OneHotEncoder(cols=['ProductName',\n",
       "                                                            'Vendor',\n",
       "                                                            'VendorType',\n",
       "                                                            'BBVendorType',\n",
       "                                                            'BBVendor'],\n",
       "                                                      drop_invariant=False,\n",
       "                                                      handle_missing='value',\n",
       "                                                      handle_unknown='value',\n",
       "                                                      return_df=True,\n",
       "                                                      use_cat_names=False,\n",
       "                                                      verbose=0)),\n",
       "                                       ('randomforestregressor',\n",
       "                                        RandomForestRegressor(b...\n",
       "                                                              oob_score=False,\n",
       "                                                              random_state=None,\n",
       "                                                              verbose=0,\n",
       "                                                              warm_start=False))],\n",
       "                                verbose=False),\n",
       "             iid='warn', n_jobs=None,\n",
       "             param_grid={'randomforestregressor__max_features': [0.3, 0.4, 0.5],\n",
       "                         'randomforestregressor__min_samples_leaf': [5, 10, 15,\n",
       "                                                                     25],\n",
       "                         'randomforestregressor__n_estimators': [10, 50, 100]},\n",
       "             pre_dispatch='2*n_jobs', refit=True, return_train_score=False,\n",
       "             scoring=None, verbose=0)"
      ]
     },
     "execution_count": 53,
     "metadata": {},
     "output_type": "execute_result"
    }
   ],
   "source": [
    "#fit the grid\n",
    "grid.fit(X_train, y_train)"
   ]
  },
  {
   "cell_type": "code",
   "execution_count": 54,
   "metadata": {},
   "outputs": [
    {
     "data": {
      "text/plain": [
       "{'randomforestregressor__max_features': 0.5,\n",
       " 'randomforestregressor__min_samples_leaf': 5,\n",
       " 'randomforestregressor__n_estimators': 50}"
      ]
     },
     "execution_count": 54,
     "metadata": {},
     "output_type": "execute_result"
    }
   ],
   "source": [
    "#getting the best parameters from grid search\n",
    "grid.best_params_ \n",
    "#this returned\n",
    "#{'randomforestregressor__max_features': 0.5,\n",
    "# 'randomforestregressor__min_samples_leaf': 5, \n",
    "# 'randomforestregressor__n_estimators': 100}\n"
   ]
  },
  {
   "cell_type": "code",
   "execution_count": 55,
   "metadata": {},
   "outputs": [
    {
     "data": {
      "text/plain": [
       "RandomForestRegressor(bootstrap=True, criterion='mse', max_depth=None,\n",
       "                      max_features=0.5, max_leaf_nodes=None,\n",
       "                      min_impurity_decrease=0.0, min_impurity_split=None,\n",
       "                      min_samples_leaf=5, min_samples_split=2,\n",
       "                      min_weight_fraction_leaf=0.0, n_estimators=100,\n",
       "                      n_jobs=None, oob_score=False, random_state=2020,\n",
       "                      verbose=0, warm_start=False)"
      ]
     },
     "execution_count": 55,
     "metadata": {},
     "output_type": "execute_result"
    }
   ],
   "source": [
    "#setting new parameters based on grid serach \n",
    "pipe.steps[1][1].set_params(n_estimators=100, min_samples_leaf=5, max_features=0.5, random_state=2020)"
   ]
  },
  {
   "cell_type": "code",
   "execution_count": 56,
   "metadata": {},
   "outputs": [
    {
     "data": {
      "text/plain": [
       "Pipeline(memory=None,\n",
       "         steps=[('onehotencoder',\n",
       "                 OneHotEncoder(cols=['ProductName', 'Vendor', 'VendorType',\n",
       "                                     'BBVendorType', 'BBVendor'],\n",
       "                               drop_invariant=False, handle_missing='value',\n",
       "                               handle_unknown='value', return_df=True,\n",
       "                               use_cat_names=False, verbose=0)),\n",
       "                ('randomforestregressor',\n",
       "                 RandomForestRegressor(bootstrap=True, criterion='mse',\n",
       "                                       max_depth=None, max_features=0.5,\n",
       "                                       max_leaf_nodes=None,\n",
       "                                       min_impurity_decrease=0.0,\n",
       "                                       min_impurity_split=None,\n",
       "                                       min_samples_leaf=5, min_samples_split=2,\n",
       "                                       min_weight_fraction_leaf=0.0,\n",
       "                                       n_estimators=100, n_jobs=None,\n",
       "                                       oob_score=False, random_state=2020,\n",
       "                                       verbose=0, warm_start=False))],\n",
       "         verbose=False)"
      ]
     },
     "execution_count": 56,
     "metadata": {},
     "output_type": "execute_result"
    }
   ],
   "source": [
    "pipe.fit(X_train, y_train)"
   ]
  },
  {
   "cell_type": "code",
   "execution_count": 57,
   "metadata": {},
   "outputs": [
    {
     "data": {
      "text/plain": [
       "0.9217425395261368"
      ]
     },
     "execution_count": 57,
     "metadata": {},
     "output_type": "execute_result"
    }
   ],
   "source": [
    "pipe.score(X_train, y_train) #training score: 0.9217425395261368"
   ]
  },
  {
   "cell_type": "code",
   "execution_count": 58,
   "metadata": {},
   "outputs": [
    {
     "data": {
      "text/plain": [
       "0.8487558999376412"
      ]
     },
     "execution_count": 58,
     "metadata": {},
     "output_type": "execute_result"
    }
   ],
   "source": [
    "pipe.score(X_test, y_test) #testing score: 0.8487558999376412 \n",
    "\n",
    "#While the test stcore is still underfitting, the score improved!!!!!!!!!!  "
   ]
  },
  {
   "cell_type": "code",
   "execution_count": 59,
   "metadata": {},
   "outputs": [
    {
     "data": {
      "text/plain": [
       "Pipeline(memory=None,\n",
       "         steps=[('onehotencoder',\n",
       "                 OneHotEncoder(cols=['ProductName', 'Vendor', 'VendorType',\n",
       "                                     'BBVendorType', 'BBVendor'],\n",
       "                               drop_invariant=False, handle_missing='value',\n",
       "                               handle_unknown='value', return_df=True,\n",
       "                               use_cat_names=False, verbose=0)),\n",
       "                ('randomforestregressor',\n",
       "                 RandomForestRegressor(bootstrap=True, criterion='mse',\n",
       "                                       max_depth=None, max_features=0.5,\n",
       "                                       max_leaf_nodes=None,\n",
       "                                       min_impurity_decrease=0.0,\n",
       "                                       min_impurity_split=None,\n",
       "                                       min_samples_leaf=5, min_samples_split=2,\n",
       "                                       min_weight_fraction_leaf=0.0,\n",
       "                                       n_estimators=100, n_jobs=None,\n",
       "                                       oob_score=False, random_state=2020,\n",
       "                                       verbose=0, warm_start=False))],\n",
       "         verbose=False)"
      ]
     },
     "execution_count": 59,
     "metadata": {},
     "output_type": "execute_result"
    }
   ],
   "source": [
    "pipe"
   ]
  },
  {
   "cell_type": "code",
   "execution_count": 60,
   "metadata": {},
   "outputs": [],
   "source": [
    "#pickle file \n",
    "import pickle "
   ]
  },
  {
   "cell_type": "code",
   "execution_count": 61,
   "metadata": {},
   "outputs": [],
   "source": [
    "with open('amazon.pkl','wb') as file:\n",
    "    pickle.dump(pipe, file)\n",
    "    file.close()"
   ]
  },
  {
   "cell_type": "code",
   "execution_count": null,
   "metadata": {},
   "outputs": [],
   "source": []
  }
 ],
 "metadata": {
  "kernelspec": {
   "display_name": "Python 3",
   "language": "python",
   "name": "python3"
  },
  "language_info": {
   "codemirror_mode": {
    "name": "ipython",
    "version": 3
   },
   "file_extension": ".py",
   "mimetype": "text/x-python",
   "name": "python",
   "nbconvert_exporter": "python",
   "pygments_lexer": "ipython3",
   "version": "3.7.4"
  }
 },
 "nbformat": 4,
 "nbformat_minor": 2
}
