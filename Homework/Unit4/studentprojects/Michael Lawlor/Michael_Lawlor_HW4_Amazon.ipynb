{
 "cells": [
  {
   "cell_type": "code",
   "execution_count": 1,
   "metadata": {},
   "outputs": [],
   "source": [
    "import pandas as pd\n",
    "import numpy as np\n",
    "\n",
    "sales=pd.read_csv('09-19-Amazon-Ranking-Analysis.csv')  # Load Data set"
   ]
  },
  {
   "cell_type": "code",
   "execution_count": 2,
   "metadata": {},
   "outputs": [
    {
     "data": {
      "text/html": [
       "<div>\n",
       "<style scoped>\n",
       "    .dataframe tbody tr th:only-of-type {\n",
       "        vertical-align: middle;\n",
       "    }\n",
       "\n",
       "    .dataframe tbody tr th {\n",
       "        vertical-align: top;\n",
       "    }\n",
       "\n",
       "    .dataframe thead th {\n",
       "        text-align: right;\n",
       "    }\n",
       "</style>\n",
       "<table border=\"1\" class=\"dataframe\">\n",
       "  <thead>\n",
       "    <tr style=\"text-align: right;\">\n",
       "      <th></th>\n",
       "      <th>Index</th>\n",
       "      <th>ProductName</th>\n",
       "      <th>ScrapeDate</th>\n",
       "      <th>ScrapedIndex</th>\n",
       "      <th>ScrapedIndexTrueRank</th>\n",
       "      <th>CorrectedIndexTrueRank</th>\n",
       "      <th>ScrapedIndexPrice</th>\n",
       "      <th>CorrectedPrice</th>\n",
       "      <th>ScrapedIndexVendor</th>\n",
       "      <th>ScrapedIndexVendorType</th>\n",
       "      <th>BBScrapedPrice</th>\n",
       "      <th>BBVendorType</th>\n",
       "      <th>BBVendor</th>\n",
       "      <th>BBCorrectedPrice</th>\n",
       "    </tr>\n",
       "  </thead>\n",
       "  <tbody>\n",
       "    <tr>\n",
       "      <th>0</th>\n",
       "      <td>0</td>\n",
       "      <td>#1 BEST Probiotic Supplement - 60 Day Supply w...</td>\n",
       "      <td>2016-06-14</td>\n",
       "      <td>2</td>\n",
       "      <td>2</td>\n",
       "      <td>1</td>\n",
       "      <td>20.99</td>\n",
       "      <td>20.99</td>\n",
       "      <td>Supplement Warriors</td>\n",
       "      <td>Other</td>\n",
       "      <td>-1.0</td>\n",
       "      <td>FBA</td>\n",
       "      <td>Sold by Sharp Nutrition and Fulfilled by Amazon.</td>\n",
       "      <td>25.02</td>\n",
       "    </tr>\n",
       "    <tr>\n",
       "      <th>1</th>\n",
       "      <td>1</td>\n",
       "      <td>#1 BEST Probiotic Supplement - 60 Day Supply w...</td>\n",
       "      <td>2016-06-14</td>\n",
       "      <td>1</td>\n",
       "      <td>1</td>\n",
       "      <td>2</td>\n",
       "      <td>19.99</td>\n",
       "      <td>25.02</td>\n",
       "      <td>Sharp Nutrition</td>\n",
       "      <td>FBA</td>\n",
       "      <td>-1.0</td>\n",
       "      <td>FBA</td>\n",
       "      <td>Sold by Sharp Nutrition and Fulfilled by Amazon.</td>\n",
       "      <td>25.02</td>\n",
       "    </tr>\n",
       "    <tr>\n",
       "      <th>2</th>\n",
       "      <td>2</td>\n",
       "      <td>10 Panel Dip Drug Testing Kit, Test for 10 Dif...</td>\n",
       "      <td>2016-06-27</td>\n",
       "      <td>1</td>\n",
       "      <td>1</td>\n",
       "      <td>1</td>\n",
       "      <td>3.96</td>\n",
       "      <td>3.96</td>\n",
       "      <td>speedy tests</td>\n",
       "      <td>Other</td>\n",
       "      <td>4.9</td>\n",
       "      <td>FBA</td>\n",
       "      <td>Sold by Michael Minyety and Fulfilled by Amazon.</td>\n",
       "      <td>9.97</td>\n",
       "    </tr>\n",
       "    <tr>\n",
       "      <th>3</th>\n",
       "      <td>3</td>\n",
       "      <td>10 Panel Dip Drug Testing Kit, Test for 10 Dif...</td>\n",
       "      <td>2016-06-27</td>\n",
       "      <td>2</td>\n",
       "      <td>1</td>\n",
       "      <td>1</td>\n",
       "      <td>3.96</td>\n",
       "      <td>3.96</td>\n",
       "      <td>Drug Abuse Control</td>\n",
       "      <td>Other</td>\n",
       "      <td>4.9</td>\n",
       "      <td>FBA</td>\n",
       "      <td>Sold by Michael Minyety and Fulfilled by Amazon.</td>\n",
       "      <td>9.97</td>\n",
       "    </tr>\n",
       "    <tr>\n",
       "      <th>4</th>\n",
       "      <td>4</td>\n",
       "      <td>10 Panel Dip Drug Testing Kit, Test for 10 Dif...</td>\n",
       "      <td>2016-06-27</td>\n",
       "      <td>3</td>\n",
       "      <td>1</td>\n",
       "      <td>1</td>\n",
       "      <td>3.96</td>\n",
       "      <td>3.96</td>\n",
       "      <td>Lowest Priced Tests</td>\n",
       "      <td>Other</td>\n",
       "      <td>4.9</td>\n",
       "      <td>FBA</td>\n",
       "      <td>Sold by Michael Minyety and Fulfilled by Amazon.</td>\n",
       "      <td>9.97</td>\n",
       "    </tr>\n",
       "  </tbody>\n",
       "</table>\n",
       "</div>"
      ],
      "text/plain": [
       "   Index                                        ProductName  ScrapeDate  \\\n",
       "0      0  #1 BEST Probiotic Supplement - 60 Day Supply w...  2016-06-14   \n",
       "1      1  #1 BEST Probiotic Supplement - 60 Day Supply w...  2016-06-14   \n",
       "2      2  10 Panel Dip Drug Testing Kit, Test for 10 Dif...  2016-06-27   \n",
       "3      3  10 Panel Dip Drug Testing Kit, Test for 10 Dif...  2016-06-27   \n",
       "4      4  10 Panel Dip Drug Testing Kit, Test for 10 Dif...  2016-06-27   \n",
       "\n",
       "   ScrapedIndex  ScrapedIndexTrueRank  CorrectedIndexTrueRank  \\\n",
       "0             2                     2                       1   \n",
       "1             1                     1                       2   \n",
       "2             1                     1                       1   \n",
       "3             2                     1                       1   \n",
       "4             3                     1                       1   \n",
       "\n",
       "   ScrapedIndexPrice  CorrectedPrice   ScrapedIndexVendor  \\\n",
       "0              20.99           20.99  Supplement Warriors   \n",
       "1              19.99           25.02      Sharp Nutrition   \n",
       "2               3.96            3.96         speedy tests   \n",
       "3               3.96            3.96   Drug Abuse Control   \n",
       "4               3.96            3.96  Lowest Priced Tests   \n",
       "\n",
       "  ScrapedIndexVendorType  BBScrapedPrice BBVendorType  \\\n",
       "0                  Other            -1.0          FBA   \n",
       "1                    FBA            -1.0          FBA   \n",
       "2                  Other             4.9          FBA   \n",
       "3                  Other             4.9          FBA   \n",
       "4                  Other             4.9          FBA   \n",
       "\n",
       "                                           BBVendor  BBCorrectedPrice  \n",
       "0  Sold by Sharp Nutrition and Fulfilled by Amazon.             25.02  \n",
       "1  Sold by Sharp Nutrition and Fulfilled by Amazon.             25.02  \n",
       "2  Sold by Michael Minyety and Fulfilled by Amazon.              9.97  \n",
       "3  Sold by Michael Minyety and Fulfilled by Amazon.              9.97  \n",
       "4  Sold by Michael Minyety and Fulfilled by Amazon.              9.97  "
      ]
     },
     "execution_count": 2,
     "metadata": {},
     "output_type": "execute_result"
    }
   ],
   "source": [
    "sales.head()   # BB = Amazon Buy Box"
   ]
  },
  {
   "cell_type": "code",
   "execution_count": 3,
   "metadata": {},
   "outputs": [],
   "source": [
    "#Since all data was collected over a three month period,\n",
    "# and for each product all vendors and information were scraped on the same day,\n",
    "# remove the date column since it is not expected to have an effect on the analysis\n",
    "sales.drop(['Index','ScrapeDate'], axis=1, inplace=True)  \n",
    "\n",
    "sales.rename(columns={'ProductName':'Product'}, inplace=True) #Rename column for ease of use\n",
    "\n",
    "# Convert column types to string format - required for string analysis later\n",
    "sales['BBVendor']=sales['BBVendor'].astype('str')\n",
    "sales['ScrapedIndexVendor']=sales['ScrapedIndexVendor'].astype('str')"
   ]
  },
  {
   "cell_type": "code",
   "execution_count": 4,
   "metadata": {},
   "outputs": [],
   "source": [
    "#Add columns of important differentials which may contribute to whether or not a vendor wins the BuyBox\n",
    "\n",
    "# Create column of price differential between BuyBox seller price and the CorrectedPrice from all vendors\n",
    "sales['BBPriceDif']=sales['BBCorrectedPrice']-sales['CorrectedPrice']\n",
    "\n",
    "# Create column of differential between ScrapedIndex and the CorrectedTrueIndexRank\n",
    "sales['IndexDif']=sales['ScrapedIndex']-sales['CorrectedIndexTrueRank']"
   ]
  },
  {
   "cell_type": "code",
   "execution_count": 5,
   "metadata": {},
   "outputs": [
    {
     "data": {
      "text/html": [
       "<div>\n",
       "<style scoped>\n",
       "    .dataframe tbody tr th:only-of-type {\n",
       "        vertical-align: middle;\n",
       "    }\n",
       "\n",
       "    .dataframe tbody tr th {\n",
       "        vertical-align: top;\n",
       "    }\n",
       "\n",
       "    .dataframe thead th {\n",
       "        text-align: right;\n",
       "    }\n",
       "</style>\n",
       "<table border=\"1\" class=\"dataframe\">\n",
       "  <thead>\n",
       "    <tr style=\"text-align: right;\">\n",
       "      <th></th>\n",
       "      <th>Product</th>\n",
       "      <th>ScrapedIndex</th>\n",
       "      <th>ScrapedIndexTrueRank</th>\n",
       "      <th>CorrectedIndexTrueRank</th>\n",
       "      <th>ScrapedIndexPrice</th>\n",
       "      <th>CorrectedPrice</th>\n",
       "      <th>ScrapedIndexVendor</th>\n",
       "      <th>ScrapedIndexVendorType</th>\n",
       "      <th>BBScrapedPrice</th>\n",
       "      <th>BBVendorType</th>\n",
       "      <th>BBVendor</th>\n",
       "      <th>BBCorrectedPrice</th>\n",
       "      <th>BBPriceDif</th>\n",
       "      <th>IndexDif</th>\n",
       "    </tr>\n",
       "  </thead>\n",
       "  <tbody>\n",
       "    <tr>\n",
       "      <th>0</th>\n",
       "      <td>#1 BEST Probiotic Supplement - 60 Day Supply w...</td>\n",
       "      <td>2</td>\n",
       "      <td>2</td>\n",
       "      <td>1</td>\n",
       "      <td>20.99</td>\n",
       "      <td>20.99</td>\n",
       "      <td>Supplement Warriors</td>\n",
       "      <td>Other</td>\n",
       "      <td>-1.0</td>\n",
       "      <td>FBA</td>\n",
       "      <td>Sold by Sharp Nutrition and Fulfilled by Amazon.</td>\n",
       "      <td>25.02</td>\n",
       "      <td>4.03</td>\n",
       "      <td>1</td>\n",
       "    </tr>\n",
       "    <tr>\n",
       "      <th>1</th>\n",
       "      <td>#1 BEST Probiotic Supplement - 60 Day Supply w...</td>\n",
       "      <td>1</td>\n",
       "      <td>1</td>\n",
       "      <td>2</td>\n",
       "      <td>19.99</td>\n",
       "      <td>25.02</td>\n",
       "      <td>Sharp Nutrition</td>\n",
       "      <td>FBA</td>\n",
       "      <td>-1.0</td>\n",
       "      <td>FBA</td>\n",
       "      <td>Sold by Sharp Nutrition and Fulfilled by Amazon.</td>\n",
       "      <td>25.02</td>\n",
       "      <td>0.00</td>\n",
       "      <td>-1</td>\n",
       "    </tr>\n",
       "    <tr>\n",
       "      <th>2</th>\n",
       "      <td>10 Panel Dip Drug Testing Kit, Test for 10 Dif...</td>\n",
       "      <td>1</td>\n",
       "      <td>1</td>\n",
       "      <td>1</td>\n",
       "      <td>3.96</td>\n",
       "      <td>3.96</td>\n",
       "      <td>speedy tests</td>\n",
       "      <td>Other</td>\n",
       "      <td>4.9</td>\n",
       "      <td>FBA</td>\n",
       "      <td>Sold by Michael Minyety and Fulfilled by Amazon.</td>\n",
       "      <td>9.97</td>\n",
       "      <td>6.01</td>\n",
       "      <td>0</td>\n",
       "    </tr>\n",
       "    <tr>\n",
       "      <th>3</th>\n",
       "      <td>10 Panel Dip Drug Testing Kit, Test for 10 Dif...</td>\n",
       "      <td>2</td>\n",
       "      <td>1</td>\n",
       "      <td>1</td>\n",
       "      <td>3.96</td>\n",
       "      <td>3.96</td>\n",
       "      <td>Drug Abuse Control</td>\n",
       "      <td>Other</td>\n",
       "      <td>4.9</td>\n",
       "      <td>FBA</td>\n",
       "      <td>Sold by Michael Minyety and Fulfilled by Amazon.</td>\n",
       "      <td>9.97</td>\n",
       "      <td>6.01</td>\n",
       "      <td>1</td>\n",
       "    </tr>\n",
       "    <tr>\n",
       "      <th>4</th>\n",
       "      <td>10 Panel Dip Drug Testing Kit, Test for 10 Dif...</td>\n",
       "      <td>3</td>\n",
       "      <td>1</td>\n",
       "      <td>1</td>\n",
       "      <td>3.96</td>\n",
       "      <td>3.96</td>\n",
       "      <td>Lowest Priced Tests</td>\n",
       "      <td>Other</td>\n",
       "      <td>4.9</td>\n",
       "      <td>FBA</td>\n",
       "      <td>Sold by Michael Minyety and Fulfilled by Amazon.</td>\n",
       "      <td>9.97</td>\n",
       "      <td>6.01</td>\n",
       "      <td>2</td>\n",
       "    </tr>\n",
       "  </tbody>\n",
       "</table>\n",
       "</div>"
      ],
      "text/plain": [
       "                                             Product  ScrapedIndex  \\\n",
       "0  #1 BEST Probiotic Supplement - 60 Day Supply w...             2   \n",
       "1  #1 BEST Probiotic Supplement - 60 Day Supply w...             1   \n",
       "2  10 Panel Dip Drug Testing Kit, Test for 10 Dif...             1   \n",
       "3  10 Panel Dip Drug Testing Kit, Test for 10 Dif...             2   \n",
       "4  10 Panel Dip Drug Testing Kit, Test for 10 Dif...             3   \n",
       "\n",
       "   ScrapedIndexTrueRank  CorrectedIndexTrueRank  ScrapedIndexPrice  \\\n",
       "0                     2                       1              20.99   \n",
       "1                     1                       2              19.99   \n",
       "2                     1                       1               3.96   \n",
       "3                     1                       1               3.96   \n",
       "4                     1                       1               3.96   \n",
       "\n",
       "   CorrectedPrice   ScrapedIndexVendor ScrapedIndexVendorType  BBScrapedPrice  \\\n",
       "0           20.99  Supplement Warriors                  Other            -1.0   \n",
       "1           25.02      Sharp Nutrition                    FBA            -1.0   \n",
       "2            3.96         speedy tests                  Other             4.9   \n",
       "3            3.96   Drug Abuse Control                  Other             4.9   \n",
       "4            3.96  Lowest Priced Tests                  Other             4.9   \n",
       "\n",
       "  BBVendorType                                          BBVendor  \\\n",
       "0          FBA  Sold by Sharp Nutrition and Fulfilled by Amazon.   \n",
       "1          FBA  Sold by Sharp Nutrition and Fulfilled by Amazon.   \n",
       "2          FBA  Sold by Michael Minyety and Fulfilled by Amazon.   \n",
       "3          FBA  Sold by Michael Minyety and Fulfilled by Amazon.   \n",
       "4          FBA  Sold by Michael Minyety and Fulfilled by Amazon.   \n",
       "\n",
       "   BBCorrectedPrice  BBPriceDif  IndexDif  \n",
       "0             25.02        4.03         1  \n",
       "1             25.02        0.00        -1  \n",
       "2              9.97        6.01         0  \n",
       "3              9.97        6.01         1  \n",
       "4              9.97        6.01         2  "
      ]
     },
     "execution_count": 5,
     "metadata": {},
     "output_type": "execute_result"
    }
   ],
   "source": [
    "sales.head()  # inspect new columns"
   ]
  },
  {
   "cell_type": "code",
   "execution_count": 6,
   "metadata": {
    "scrolled": false
   },
   "outputs": [
    {
     "data": {
      "text/plain": [
       "(Product                    object\n",
       " ScrapedIndex                int64\n",
       " ScrapedIndexTrueRank        int64\n",
       " CorrectedIndexTrueRank      int64\n",
       " ScrapedIndexPrice         float64\n",
       " CorrectedPrice            float64\n",
       " ScrapedIndexVendor         object\n",
       " ScrapedIndexVendorType     object\n",
       " BBScrapedPrice            float64\n",
       " BBVendorType               object\n",
       " BBVendor                   object\n",
       " BBCorrectedPrice          float64\n",
       " BBPriceDif                float64\n",
       " IndexDif                    int64\n",
       " dtype: object,\n",
       " Product                    250\n",
       " ScrapedIndex               154\n",
       " ScrapedIndexTrueRank       113\n",
       " CorrectedIndexTrueRank     107\n",
       " ScrapedIndexPrice         3885\n",
       " CorrectedPrice            4028\n",
       " ScrapedIndexVendor        2892\n",
       " ScrapedIndexVendorType       3\n",
       " BBScrapedPrice             198\n",
       " BBVendorType                 3\n",
       " BBVendor                    63\n",
       " BBCorrectedPrice           231\n",
       " BBPriceDif                4590\n",
       " IndexDif                   129\n",
       " dtype: int64)"
      ]
     },
     "execution_count": 6,
     "metadata": {},
     "output_type": "execute_result"
    }
   ],
   "source": [
    "sales.dtypes , sales.nunique() #inspect data types and number of unique values"
   ]
  },
  {
   "cell_type": "raw",
   "metadata": {},
   "source": [
    "# Question 1: How much does the Scraped True Ranking correlate with the Corrected Ranking?\n",
    "    Scraped True Ranking is based on the displayed price\n",
    "    Corrected ranking is based on the displayed price plus shipping costs if any\n",
    "    In both of these rankings, ties are allowed if two vendors offer the same price"
   ]
  },
  {
   "cell_type": "code",
   "execution_count": 7,
   "metadata": {},
   "outputs": [
    {
     "data": {
      "text/html": [
       "<div>\n",
       "<style scoped>\n",
       "    .dataframe tbody tr th:only-of-type {\n",
       "        vertical-align: middle;\n",
       "    }\n",
       "\n",
       "    .dataframe tbody tr th {\n",
       "        vertical-align: top;\n",
       "    }\n",
       "\n",
       "    .dataframe thead th {\n",
       "        text-align: right;\n",
       "    }\n",
       "</style>\n",
       "<table border=\"1\" class=\"dataframe\">\n",
       "  <thead>\n",
       "    <tr style=\"text-align: right;\">\n",
       "      <th></th>\n",
       "      <th>Product</th>\n",
       "      <th>level_1</th>\n",
       "      <th>CorrectedIndexTrueRank</th>\n",
       "    </tr>\n",
       "  </thead>\n",
       "  <tbody>\n",
       "    <tr>\n",
       "      <th>0</th>\n",
       "      <td>#1 BEST Probiotic Supplement - 60 Day Supply w...</td>\n",
       "      <td>ScrapedIndexTrueRank</td>\n",
       "      <td>-1.000000</td>\n",
       "    </tr>\n",
       "    <tr>\n",
       "      <th>1</th>\n",
       "      <td>#1 BEST Probiotic Supplement - 60 Day Supply w...</td>\n",
       "      <td>CorrectedIndexTrueRank</td>\n",
       "      <td>1.000000</td>\n",
       "    </tr>\n",
       "    <tr>\n",
       "      <th>2</th>\n",
       "      <td>10 Panel Dip Drug Testing Kit, Test for 10 Dif...</td>\n",
       "      <td>ScrapedIndexTrueRank</td>\n",
       "      <td>0.778677</td>\n",
       "    </tr>\n",
       "    <tr>\n",
       "      <th>3</th>\n",
       "      <td>10 Panel Dip Drug Testing Kit, Test for 10 Dif...</td>\n",
       "      <td>CorrectedIndexTrueRank</td>\n",
       "      <td>1.000000</td>\n",
       "    </tr>\n",
       "    <tr>\n",
       "      <th>4</th>\n",
       "      <td>2wayz FULL METAL BODY Garden Hose Splitter | Y...</td>\n",
       "      <td>ScrapedIndexTrueRank</td>\n",
       "      <td>1.000000</td>\n",
       "    </tr>\n",
       "    <tr>\n",
       "      <th>...</th>\n",
       "      <td>...</td>\n",
       "      <td>...</td>\n",
       "      <td>...</td>\n",
       "    </tr>\n",
       "    <tr>\n",
       "      <th>495</th>\n",
       "      <td>Zymox Otic Pet Ear Treatment with Hydrocortisone</td>\n",
       "      <td>CorrectedIndexTrueRank</td>\n",
       "      <td>1.000000</td>\n",
       "    </tr>\n",
       "    <tr>\n",
       "      <th>496</th>\n",
       "      <td>iPhone 6S Screen Protector, Maxboost Tempered ...</td>\n",
       "      <td>ScrapedIndexTrueRank</td>\n",
       "      <td>-1.000000</td>\n",
       "    </tr>\n",
       "    <tr>\n",
       "      <th>497</th>\n",
       "      <td>iPhone 6S Screen Protector, Maxboost Tempered ...</td>\n",
       "      <td>CorrectedIndexTrueRank</td>\n",
       "      <td>1.000000</td>\n",
       "    </tr>\n",
       "    <tr>\n",
       "      <th>498</th>\n",
       "      <td>myBaby SoundSpa Portable</td>\n",
       "      <td>ScrapedIndexTrueRank</td>\n",
       "      <td>0.894505</td>\n",
       "    </tr>\n",
       "    <tr>\n",
       "      <th>499</th>\n",
       "      <td>myBaby SoundSpa Portable</td>\n",
       "      <td>CorrectedIndexTrueRank</td>\n",
       "      <td>1.000000</td>\n",
       "    </tr>\n",
       "  </tbody>\n",
       "</table>\n",
       "<p>500 rows × 3 columns</p>\n",
       "</div>"
      ],
      "text/plain": [
       "                                               Product  \\\n",
       "0    #1 BEST Probiotic Supplement - 60 Day Supply w...   \n",
       "1    #1 BEST Probiotic Supplement - 60 Day Supply w...   \n",
       "2    10 Panel Dip Drug Testing Kit, Test for 10 Dif...   \n",
       "3    10 Panel Dip Drug Testing Kit, Test for 10 Dif...   \n",
       "4    2wayz FULL METAL BODY Garden Hose Splitter | Y...   \n",
       "..                                                 ...   \n",
       "495   Zymox Otic Pet Ear Treatment with Hydrocortisone   \n",
       "496  iPhone 6S Screen Protector, Maxboost Tempered ...   \n",
       "497  iPhone 6S Screen Protector, Maxboost Tempered ...   \n",
       "498                           myBaby SoundSpa Portable   \n",
       "499                           myBaby SoundSpa Portable   \n",
       "\n",
       "                    level_1  CorrectedIndexTrueRank  \n",
       "0      ScrapedIndexTrueRank               -1.000000  \n",
       "1    CorrectedIndexTrueRank                1.000000  \n",
       "2      ScrapedIndexTrueRank                0.778677  \n",
       "3    CorrectedIndexTrueRank                1.000000  \n",
       "4      ScrapedIndexTrueRank                1.000000  \n",
       "..                      ...                     ...  \n",
       "495  CorrectedIndexTrueRank                1.000000  \n",
       "496    ScrapedIndexTrueRank               -1.000000  \n",
       "497  CorrectedIndexTrueRank                1.000000  \n",
       "498    ScrapedIndexTrueRank                0.894505  \n",
       "499  CorrectedIndexTrueRank                1.000000  \n",
       "\n",
       "[500 rows x 3 columns]"
      ]
     },
     "execution_count": 7,
     "metadata": {},
     "output_type": "execute_result"
    }
   ],
   "source": [
    "# Group the products by product and check the correlation between the two columns of interest\n",
    "grp=sales.groupby('Product')[['ScrapedIndexTrueRank','CorrectedIndexTrueRank']].corr()[['CorrectedIndexTrueRank']].reset_index()\n",
    "grp"
   ]
  },
  {
   "cell_type": "code",
   "execution_count": 8,
   "metadata": {},
   "outputs": [
    {
     "data": {
      "text/html": [
       "<div>\n",
       "<style scoped>\n",
       "    .dataframe tbody tr th:only-of-type {\n",
       "        vertical-align: middle;\n",
       "    }\n",
       "\n",
       "    .dataframe tbody tr th {\n",
       "        vertical-align: top;\n",
       "    }\n",
       "\n",
       "    .dataframe thead th {\n",
       "        text-align: right;\n",
       "    }\n",
       "</style>\n",
       "<table border=\"1\" class=\"dataframe\">\n",
       "  <thead>\n",
       "    <tr style=\"text-align: right;\">\n",
       "      <th></th>\n",
       "      <th>CorrectedIndexTrueRank</th>\n",
       "    </tr>\n",
       "    <tr>\n",
       "      <th>level_1</th>\n",
       "      <th></th>\n",
       "    </tr>\n",
       "  </thead>\n",
       "  <tbody>\n",
       "    <tr>\n",
       "      <th>CorrectedIndexTrueRank</th>\n",
       "      <td>1.00000</td>\n",
       "    </tr>\n",
       "    <tr>\n",
       "      <th>ScrapedIndexTrueRank</th>\n",
       "      <td>0.82783</td>\n",
       "    </tr>\n",
       "  </tbody>\n",
       "</table>\n",
       "</div>"
      ],
      "text/plain": [
       "                        CorrectedIndexTrueRank\n",
       "level_1                                       \n",
       "CorrectedIndexTrueRank                 1.00000\n",
       "ScrapedIndexTrueRank                   0.82783"
      ]
     },
     "execution_count": 8,
     "metadata": {},
     "output_type": "execute_result"
    }
   ],
   "source": [
    "# use groupby again to take the average correlation value between CorrectedTrueRank and ScrapedIndexTrueRank\n",
    "grp.groupby('level_1').mean()  "
   ]
  },
  {
   "cell_type": "markdown",
   "metadata": {},
   "source": [
    "Answer: On average the R^2 value is .827, so there is strong positive correlation between the Scraped True Ranking and the Corrected Ranking, but in the ideal case the R^2 would be 1."
   ]
  },
  {
   "cell_type": "raw",
   "metadata": {},
   "source": [
    "# Question 2: Are more expensive products more likely to have manipulated rankings?"
   ]
  },
  {
   "cell_type": "code",
   "execution_count": 9,
   "metadata": {
    "scrolled": true
   },
   "outputs": [],
   "source": [
    "# First, create a binaray column to describe if a listing has been manipulated\n",
    "# Manipulated is defined as a vendor offering the item at a lower price than the BuyBox, and hence they should have won the Buy Box\n",
    "sales['Manipulated']=(sales['CorrectedPrice']<sales['BBCorrectedPrice'])\n",
    "\n",
    "# Group the data by product and display the average of 'CorrectedPrice' and 'Manipulated' columns for each product\n",
    "manip_grp = sales.groupby('Product')[['CorrectedPrice', 'Manipulated']].mean()\n",
    "\n",
    "# convert the 'Manipulated' column to boolean True/False - it will be true if the value is >0\n",
    "manip_grp['Manipulated']=(manip_grp['Manipulated']>0) \n"
   ]
  },
  {
   "cell_type": "code",
   "execution_count": 10,
   "metadata": {
    "scrolled": true
   },
   "outputs": [
    {
     "data": {
      "text/html": [
       "<div>\n",
       "<style scoped>\n",
       "    .dataframe tbody tr th:only-of-type {\n",
       "        vertical-align: middle;\n",
       "    }\n",
       "\n",
       "    .dataframe tbody tr th {\n",
       "        vertical-align: top;\n",
       "    }\n",
       "\n",
       "    .dataframe thead th {\n",
       "        text-align: right;\n",
       "    }\n",
       "</style>\n",
       "<table border=\"1\" class=\"dataframe\">\n",
       "  <thead>\n",
       "    <tr style=\"text-align: right;\">\n",
       "      <th></th>\n",
       "      <th>CorrectedPrice</th>\n",
       "    </tr>\n",
       "    <tr>\n",
       "      <th>Manipulated</th>\n",
       "      <th></th>\n",
       "    </tr>\n",
       "  </thead>\n",
       "  <tbody>\n",
       "    <tr>\n",
       "      <th>False</th>\n",
       "      <td>72.084928</td>\n",
       "    </tr>\n",
       "    <tr>\n",
       "      <th>True</th>\n",
       "      <td>56.740686</td>\n",
       "    </tr>\n",
       "  </tbody>\n",
       "</table>\n",
       "</div>"
      ],
      "text/plain": [
       "             CorrectedPrice\n",
       "Manipulated                \n",
       "False             72.084928\n",
       "True              56.740686"
      ]
     },
     "execution_count": 10,
     "metadata": {},
     "output_type": "execute_result"
    }
   ],
   "source": [
    "# group by the 'Manipulated' column and display the average CorrectedPrice among products that were manipulated or not\n",
    "manip_grp.groupby('Manipulated')[['CorrectedPrice']].mean()"
   ]
  },
  {
   "cell_type": "code",
   "execution_count": 11,
   "metadata": {
    "scrolled": true
   },
   "outputs": [
    {
     "data": {
      "text/html": [
       "<div>\n",
       "<style scoped>\n",
       "    .dataframe tbody tr th:only-of-type {\n",
       "        vertical-align: middle;\n",
       "    }\n",
       "\n",
       "    .dataframe tbody tr th {\n",
       "        vertical-align: top;\n",
       "    }\n",
       "\n",
       "    .dataframe thead th {\n",
       "        text-align: right;\n",
       "    }\n",
       "</style>\n",
       "<table border=\"1\" class=\"dataframe\">\n",
       "  <thead>\n",
       "    <tr style=\"text-align: right;\">\n",
       "      <th></th>\n",
       "      <th>CorrectedPrice</th>\n",
       "    </tr>\n",
       "    <tr>\n",
       "      <th>Manipulated</th>\n",
       "      <th></th>\n",
       "    </tr>\n",
       "  </thead>\n",
       "  <tbody>\n",
       "    <tr>\n",
       "      <th>False</th>\n",
       "      <td>62</td>\n",
       "    </tr>\n",
       "    <tr>\n",
       "      <th>True</th>\n",
       "      <td>188</td>\n",
       "    </tr>\n",
       "  </tbody>\n",
       "</table>\n",
       "</div>"
      ],
      "text/plain": [
       "             CorrectedPrice\n",
       "Manipulated                \n",
       "False                    62\n",
       "True                    188"
      ]
     },
     "execution_count": 11,
     "metadata": {},
     "output_type": "execute_result"
    }
   ],
   "source": [
    "# also inspect the number of items manipulated\n",
    "manip_grp.groupby('Manipulated')[['CorrectedPrice']].count()"
   ]
  },
  {
   "cell_type": "code",
   "execution_count": 12,
   "metadata": {},
   "outputs": [
    {
     "data": {
      "text/plain": [
       "0.752"
      ]
     },
     "execution_count": 12,
     "metadata": {},
     "output_type": "execute_result"
    }
   ],
   "source": [
    "188/(62+188)  #Calculate the percent of manipulated listings"
   ]
  },
  {
   "cell_type": "raw",
   "metadata": {},
   "source": [
    "Answer: the average 'CorrectedPrice' is lower for manipulated values, so Amazon is more likely to manipulate lower-priced items\n",
    "        75% of the items have manipulated listings\n",
    "        \n",
    "See the histogram plot below.  There is a higher quantity of manipulated values than non manipulated values, but the prices of non-manipulated items tend to be higher."
   ]
  },
  {
   "cell_type": "code",
   "execution_count": 13,
   "metadata": {},
   "outputs": [
    {
     "data": {
      "image/png": "[encoded data removed]",
      "text/plain": [
       "<Figure size 432x288 with 1 Axes>"
      ]
     },
     "metadata": {
      "needs_background": "light"
     },
     "output_type": "display_data"
    }
   ],
   "source": [
    "#split data into two groups for easier plot entry\n",
    "manipulated=manip_grp[manip_grp['Manipulated']]\n",
    "unmanipulated=manip_grp[~manip_grp['Manipulated']]\n",
    "\n",
    "# Plot histogram\n",
    "from matplotlib import pyplot\n",
    "pyplot.hist(manipulated['CorrectedPrice'], 50, label='Manipulated')  # 50 bins\n",
    "pyplot.hist(unmanipulated['CorrectedPrice'], 50, label='Un-Manipulated')  #50 bins\n",
    "pyplot.legend(loc='upper right')\n",
    "pyplot.xlabel('Item Price')\n",
    "pyplot.ylabel('Number of items')\n",
    "pyplot.show()"
   ]
  },
  {
   "cell_type": "markdown",
   "metadata": {},
   "source": [
    "Question: Predict whether or not a vendor will be in the buybox"
   ]
  },
  {
   "cell_type": "code",
   "execution_count": 14,
   "metadata": {},
   "outputs": [],
   "source": [
    "# First, create a column to describe if a certain vendor is in the Buy Box\n",
    "# At first, there are two obvious ways one might check this:"
   ]
  },
  {
   "cell_type": "code",
   "execution_count": 15,
   "metadata": {},
   "outputs": [
    {
     "data": {
      "text/plain": [
       "224.0"
      ]
     },
     "execution_count": 15,
     "metadata": {},
     "output_type": "execute_result"
    }
   ],
   "source": [
    "# The first way to check if a vendor is in the buybox is to check if the vendor name from ScrapedIndexVendor appears in BBVendor\n",
    "for idx, row in sales.iterrows():   #iterate through rows, returns a series for each row\n",
    "    sales.loc[idx,'IsBuyBox']=(row['ScrapedIndexVendor'] in row['BBVendor'])*(row['BBCorrectedPrice']==row['CorrectedPrice'])\n",
    "\n",
    "sales['IsBuyBox'].sum()   #Check that the total sum is 250, corresponding to the number of products"
   ]
  },
  {
   "cell_type": "code",
   "execution_count": 16,
   "metadata": {},
   "outputs": [
    {
     "data": {
      "text/plain": [
       "1.0    220\n",
       "0.0     28\n",
       "2.0      2\n",
       "Name: IsBuyBox, dtype: int64"
      ]
     },
     "execution_count": 16,
     "metadata": {},
     "output_type": "execute_result"
    }
   ],
   "source": [
    "sales.groupby('Product')[['IsBuyBox']].sum()['IsBuyBox'].value_counts()\n",
    "# This reaveals that my method of imputing 'IsBuyBox' is not perfect\n",
    "# but it is enough accurate data that modeling with this dataset still produces a strong fit and accurate results."
   ]
  },
  {
   "cell_type": "code",
   "execution_count": 17,
   "metadata": {
    "scrolled": true
   },
   "outputs": [],
   "source": [
    "# In fact, the sum is less than 250 which means that a few products do not have assigned buybox winners\n",
    "# Since the number of missing winners is small, its impact on the model should be minimal.\n",
    "# Ideally if time permitted I would impute these values by making a nested loop to iterate through each product\n",
    "# and select a winner for the BuyBox.\n",
    "# I explored this and determined that the iteration required is more complicated\n",
    "# than it appears on the surface and I did not have enough time to solve this accurately, so I removed this attempted code for cleanliness.\n"
   ]
  },
  {
   "cell_type": "code",
   "execution_count": 18,
   "metadata": {},
   "outputs": [],
   "source": [
    "#Initialize data preparation, modeling, and optimization tools\n",
    "from sklearn.model_selection import train_test_split\n",
    "from sklearn.linear_model import Ridge, Lasso\n",
    "from sklearn.ensemble import RandomForestClassifier\n",
    "from category_encoders import OneHotEncoder\n",
    "from sklearn.preprocessing import StandardScaler  \n",
    "from sklearn.pipeline import make_pipeline\n",
    "from sklearn.model_selection import GridSearchCV\n",
    "\n",
    "#create instances of modeling tools to use\n",
    "rfc   = RandomForestClassifier()\n",
    "ridge = Ridge(alpha=10)\n",
    "lasso = Lasso(alpha=10)\n",
    "\n",
    "# create instance of encoder and scaler\n",
    "ohe = OneHotEncoder()\n",
    "sc = StandardScaler()\n",
    "\n",
    "## Drop columns from X dataset:\n",
    "# IsBuyBox - this is the column that we will predict\n",
    "# Product - this is the product name.  The name does not affect the outcome\n",
    "# Remove these columns from X dataset because they are fully correlated to IsBuyBox and get populated after BB is selected\n",
    "# BBScrapedPrice\n",
    "# BBVendorType\n",
    "# BBVendor \n",
    "# BBCorrectedPrice  \n",
    "\n",
    "X=sales.drop(['IsBuyBox', 'Product', 'BBScrapedPrice','BBVendorType', 'BBVendor', 'BBCorrectedPrice'], axis=1)\n",
    "y=sales['IsBuyBox']\n",
    "\n",
    "# Split the data into training and validation sets\n",
    "X_train, X_test, y_train, y_test = train_test_split(X, y, test_size=0.2, random_state=2020)\n"
   ]
  },
  {
   "cell_type": "code",
   "execution_count": 19,
   "metadata": {},
   "outputs": [
    {
     "data": {
      "text/plain": [
       "Pipeline(memory=None,\n",
       "         steps=[('onehotencoder',\n",
       "                 OneHotEncoder(cols=['ScrapedIndexVendor',\n",
       "                                     'ScrapedIndexVendorType'],\n",
       "                               drop_invariant=False, handle_missing='value',\n",
       "                               handle_unknown='value', return_df=True,\n",
       "                               use_cat_names=False, verbose=0)),\n",
       "                ('randomforestclassifier',\n",
       "                 RandomForestClassifier(bootstrap=True, ccp_alpha=0.0,\n",
       "                                        class_weight=None, criterion='gini',\n",
       "                                        max_depth=None, max_features='auto',\n",
       "                                        max_leaf_nodes=None, max_samples=None,\n",
       "                                        min_impurity_decrease=0.0,\n",
       "                                        min_impurity_split=None,\n",
       "                                        min_samples_leaf=1, min_samples_split=2,\n",
       "                                        min_weight_fraction_leaf=0.0,\n",
       "                                        n_estimators=100, n_jobs=None,\n",
       "                                        oob_score=False, random_state=None,\n",
       "                                        verbose=0, warm_start=False))],\n",
       "         verbose=False)"
      ]
     },
     "execution_count": 19,
     "metadata": {},
     "output_type": "execute_result"
    }
   ],
   "source": [
    "# Since we are predicting a binary category, it is best to use random forest classifier modeling rather than linear modeling\n",
    "pipe = make_pipeline(ohe, rfc)  #one-hot-encode categorical columns\n",
    "pipe.fit(X_train,y_train)"
   ]
  },
  {
   "cell_type": "code",
   "execution_count": 20,
   "metadata": {},
   "outputs": [
    {
     "data": {
      "text/plain": [
       "array([0.99462366, 0.98924731, 0.99462366, 0.99193548, 0.98655914,\n",
       "       0.98924731, 0.98924731, 0.98655914, 0.98387097, 0.99731183,\n",
       "       0.98924731, 0.98655914, 1.        , 0.99191375, 0.98921833])"
      ]
     },
     "execution_count": 20,
     "metadata": {},
     "output_type": "execute_result"
    }
   ],
   "source": [
    "# Cross-validate the model of the training set with 10 folds\n",
    "\n",
    "from sklearn.model_selection import cross_val_score\n",
    "cross_val_score(estimator=pipe, X=X_train, y=y_train, cv=15)\n",
    "\n",
    "# The R^2 values are high (close to 1), so the model is a very good fit.  \n",
    "# 5 and 15 folds were also tested with similar results."
   ]
  },
  {
   "cell_type": "code",
   "execution_count": 21,
   "metadata": {},
   "outputs": [
    {
     "data": {
      "text/plain": [
       "0.9956989247311828"
      ]
     },
     "execution_count": 21,
     "metadata": {},
     "output_type": "execute_result"
    }
   ],
   "source": [
    "# Check the score on the test data.  The resulting R^2 value is high meaning it is a good model\n",
    "pipe.score(X_test,y_test)"
   ]
  },
  {
   "cell_type": "code",
   "execution_count": 22,
   "metadata": {},
   "outputs": [
    {
     "data": {
      "text/html": [
       "<div>\n",
       "<style scoped>\n",
       "    .dataframe tbody tr th:only-of-type {\n",
       "        vertical-align: middle;\n",
       "    }\n",
       "\n",
       "    .dataframe tbody tr th {\n",
       "        vertical-align: top;\n",
       "    }\n",
       "\n",
       "    .dataframe thead th {\n",
       "        text-align: right;\n",
       "    }\n",
       "</style>\n",
       "<table border=\"1\" class=\"dataframe\">\n",
       "  <thead>\n",
       "    <tr style=\"text-align: right;\">\n",
       "      <th></th>\n",
       "      <th>Column</th>\n",
       "      <th>Importance</th>\n",
       "    </tr>\n",
       "  </thead>\n",
       "  <tbody>\n",
       "    <tr>\n",
       "      <th>94</th>\n",
       "      <td>ScrapedIndexVendor_90</td>\n",
       "      <td>0.172634</td>\n",
       "    </tr>\n",
       "    <tr>\n",
       "      <th>2507</th>\n",
       "      <td>ScrapedIndexVendorType_3</td>\n",
       "      <td>0.163059</td>\n",
       "    </tr>\n",
       "    <tr>\n",
       "      <th>2508</th>\n",
       "      <td>BBPriceDif</td>\n",
       "      <td>0.104278</td>\n",
       "    </tr>\n",
       "    <tr>\n",
       "      <th>0</th>\n",
       "      <td>ScrapedIndex</td>\n",
       "      <td>0.072365</td>\n",
       "    </tr>\n",
       "    <tr>\n",
       "      <th>1</th>\n",
       "      <td>ScrapedIndexTrueRank</td>\n",
       "      <td>0.072271</td>\n",
       "    </tr>\n",
       "    <tr>\n",
       "      <th>2505</th>\n",
       "      <td>ScrapedIndexVendorType_1</td>\n",
       "      <td>0.057463</td>\n",
       "    </tr>\n",
       "    <tr>\n",
       "      <th>2510</th>\n",
       "      <td>Manipulated</td>\n",
       "      <td>0.056606</td>\n",
       "    </tr>\n",
       "    <tr>\n",
       "      <th>3</th>\n",
       "      <td>ScrapedIndexPrice</td>\n",
       "      <td>0.047613</td>\n",
       "    </tr>\n",
       "    <tr>\n",
       "      <th>4</th>\n",
       "      <td>CorrectedPrice</td>\n",
       "      <td>0.044245</td>\n",
       "    </tr>\n",
       "    <tr>\n",
       "      <th>2509</th>\n",
       "      <td>IndexDif</td>\n",
       "      <td>0.038581</td>\n",
       "    </tr>\n",
       "    <tr>\n",
       "      <th>2</th>\n",
       "      <td>CorrectedIndexTrueRank</td>\n",
       "      <td>0.033195</td>\n",
       "    </tr>\n",
       "    <tr>\n",
       "      <th>2506</th>\n",
       "      <td>ScrapedIndexVendorType_2</td>\n",
       "      <td>0.017716</td>\n",
       "    </tr>\n",
       "    <tr>\n",
       "      <th>151</th>\n",
       "      <td>ScrapedIndexVendor_147</td>\n",
       "      <td>0.004857</td>\n",
       "    </tr>\n",
       "    <tr>\n",
       "      <th>397</th>\n",
       "      <td>ScrapedIndexVendor_393</td>\n",
       "      <td>0.003212</td>\n",
       "    </tr>\n",
       "    <tr>\n",
       "      <th>1340</th>\n",
       "      <td>ScrapedIndexVendor_1336</td>\n",
       "      <td>0.003210</td>\n",
       "    </tr>\n",
       "  </tbody>\n",
       "</table>\n",
       "</div>"
      ],
      "text/plain": [
       "                        Column  Importance\n",
       "94       ScrapedIndexVendor_90    0.172634\n",
       "2507  ScrapedIndexVendorType_3    0.163059\n",
       "2508                BBPriceDif    0.104278\n",
       "0                 ScrapedIndex    0.072365\n",
       "1         ScrapedIndexTrueRank    0.072271\n",
       "2505  ScrapedIndexVendorType_1    0.057463\n",
       "2510               Manipulated    0.056606\n",
       "3            ScrapedIndexPrice    0.047613\n",
       "4               CorrectedPrice    0.044245\n",
       "2509                  IndexDif    0.038581\n",
       "2       CorrectedIndexTrueRank    0.033195\n",
       "2506  ScrapedIndexVendorType_2    0.017716\n",
       "151     ScrapedIndexVendor_147    0.004857\n",
       "397     ScrapedIndexVendor_393    0.003212\n",
       "1340   ScrapedIndexVendor_1336    0.003210"
      ]
     },
     "execution_count": 22,
     "metadata": {},
     "output_type": "execute_result"
    }
   ],
   "source": [
    "# inspect the feature importances - how much each column (feature) contributes to the overall prediction value\n",
    "\n",
    "importances=pipe.steps[1][1].feature_importances_  #Exctract feature importances from RF step in pipeline\n",
    "columns=pipe.steps[0][1].get_feature_names()   #Exctract feature names from hot encoder step in pipeline\n",
    "\n",
    "# Create dataframe of feature importances for easier viewing\n",
    "features = pd.DataFrame({\n",
    "    'Column': columns,\n",
    "    'Importance': importances,\n",
    "}).sort_values(by='Importance', ascending=False)\n",
    "\n",
    "#display most important columns which contribute to the overall prediction value.\n",
    "features.head(15)"
   ]
  },
  {
   "cell_type": "code",
   "execution_count": 23,
   "metadata": {},
   "outputs": [],
   "source": [
    "# Pickle the pipeline\n",
    "import pickle\n",
    "with open ('Michael_Lawlor_rfc_pipe.pkl', 'wb') as pipe_var:   # create a file called Micha....pk., --write, bytecode (0's and 1's).  \n",
    "                                                                # file's variable name is pipe_var\n",
    "    pickle.dump(pipe, pipe_var) #Save pipeline to file\n",
    "\n",
    "# save test data to CSV file\n",
    "X_test.to_csv (r'X_test.csv', index = False, header=True)\n",
    "y_test.to_csv (r'y_test.csv', index = False, header=True)"
   ]
  },
  {
   "cell_type": "markdown",
   "metadata": {},
   "source": [
    "Although in the case of estimating binary categorical data it is best to use Random Forest Categorical Modeling, I will further explore how good of a fit can a linear model (with some rounding at the end) achieve?"
   ]
  },
  {
   "cell_type": "code",
   "execution_count": 24,
   "metadata": {},
   "outputs": [],
   "source": [
    "#First, convert y_values from boolean to integer\n",
    "y_train=y_train.astype(int)\n",
    "y_test=y_test.astype(int)"
   ]
  },
  {
   "cell_type": "code",
   "execution_count": 25,
   "metadata": {},
   "outputs": [
    {
     "data": {
      "text/plain": [
       "Pipeline(memory=None,\n",
       "         steps=[('onehotencoder',\n",
       "                 OneHotEncoder(cols=['ScrapedIndexVendor',\n",
       "                                     'ScrapedIndexVendorType'],\n",
       "                               drop_invariant=False, handle_missing='value',\n",
       "                               handle_unknown='value', return_df=True,\n",
       "                               use_cat_names=False, verbose=0)),\n",
       "                ('standardscaler',\n",
       "                 StandardScaler(copy=True, with_mean=True, with_std=True)),\n",
       "                ('ridge',\n",
       "                 Ridge(alpha=10, copy_X=True, fit_intercept=True, max_iter=None,\n",
       "                       normalize=False, random_state=None, solver='auto',\n",
       "                       tol=0.001))],\n",
       "         verbose=False)"
      ]
     },
     "execution_count": 25,
     "metadata": {},
     "output_type": "execute_result"
    }
   ],
   "source": [
    "# Create a pipeline with one-hot-encoding, standard scaling, and ridge regression\n",
    "ridge_pipe = make_pipeline(ohe, sc, ridge)\n",
    "\n",
    "#fit the training data\n",
    "ridge_pipe.fit(X_train,y_train)"
   ]
  },
  {
   "cell_type": "code",
   "execution_count": 26,
   "metadata": {},
   "outputs": [
    {
     "data": {
      "text/plain": [
       "0.8314557150547279"
      ]
     },
     "execution_count": 26,
     "metadata": {},
     "output_type": "execute_result"
    }
   ],
   "source": [
    "#score the training data.  The fit is OK\n",
    "ridge_pipe.score(X_train,y_train) "
   ]
  },
  {
   "cell_type": "code",
   "execution_count": 27,
   "metadata": {},
   "outputs": [
    {
     "data": {
      "text/plain": [
       "197"
      ]
     },
     "execution_count": 27,
     "metadata": {},
     "output_type": "execute_result"
    }
   ],
   "source": [
    "#Predict th values of y for the training data using the model\n",
    "train_predict=ridge_pipe.predict(X_train).round().astype(int)\n",
    "train_predict.sum()  #check that the total # of buybox winners is accurate.  \n",
    "                     #The train/test split is 80% so this is in the right ballpark."
   ]
  },
  {
   "cell_type": "code",
   "execution_count": 28,
   "metadata": {},
   "outputs": [],
   "source": [
    "# Use grid search to find best value of alpha\n",
    "\n",
    "# Create params dictionary with all values of alpha to test\n",
    "params = {\n",
    "    'ridge__alpha': [.001,.01,.1, 1, 10, 100] \n",
    "}\n",
    "\n",
    "# Initialize grid search\n",
    "grid=GridSearchCV(estimator=ridge_pipe, param_grid=params, cv=5)"
   ]
  },
  {
   "cell_type": "code",
   "execution_count": 29,
   "metadata": {},
   "outputs": [
    {
     "data": {
      "text/plain": [
       "GridSearchCV(cv=5, error_score=nan,\n",
       "             estimator=Pipeline(memory=None,\n",
       "                                steps=[('onehotencoder',\n",
       "                                        OneHotEncoder(cols=['ScrapedIndexVendor',\n",
       "                                                            'ScrapedIndexVendorType'],\n",
       "                                                      drop_invariant=False,\n",
       "                                                      handle_missing='value',\n",
       "                                                      handle_unknown='value',\n",
       "                                                      return_df=True,\n",
       "                                                      use_cat_names=False,\n",
       "                                                      verbose=0)),\n",
       "                                       ('standardscaler',\n",
       "                                        StandardScaler(copy=True,\n",
       "                                                       with_mean=True,\n",
       "                                                       with_std=True)),\n",
       "                                       ('ridge',\n",
       "                                        Ridge(alpha=10, copy_X=True,\n",
       "                                              fit_intercept=True, max_iter=None,\n",
       "                                              normalize=False,\n",
       "                                              random_state=None, solver='auto',\n",
       "                                              tol=0.001))],\n",
       "                                verbose=False),\n",
       "             iid='deprecated', n_jobs=None,\n",
       "             param_grid={'ridge__alpha': [0.001, 0.01, 0.1, 1, 10, 100]},\n",
       "             pre_dispatch='2*n_jobs', refit=True, return_train_score=False,\n",
       "             scoring=None, verbose=0)"
      ]
     },
     "execution_count": 29,
     "metadata": {},
     "output_type": "execute_result"
    }
   ],
   "source": [
    "# Fit the training data to the grid\n",
    "grid.fit(X_train, y_train)"
   ]
  },
  {
   "cell_type": "code",
   "execution_count": 30,
   "metadata": {},
   "outputs": [
    {
     "data": {
      "text/plain": [
       "{'ridge__alpha': 100}"
      ]
     },
     "execution_count": 30,
     "metadata": {},
     "output_type": "execute_result"
    }
   ],
   "source": [
    "grid.best_params_  # a 100 alpha provides the best fit"
   ]
  },
  {
   "cell_type": "code",
   "execution_count": 31,
   "metadata": {},
   "outputs": [
    {
     "data": {
      "text/plain": [
       "0.8310428949423778"
      ]
     },
     "execution_count": 31,
     "metadata": {},
     "output_type": "execute_result"
    }
   ],
   "source": [
    "grid.score(X_train, y_train) # grid score according to alpha=100"
   ]
  }
 ],
 "metadata": {
  "kernelspec": {
   "display_name": "Python 3",
   "language": "python",
   "name": "python3"
  },
  "language_info": {
   "codemirror_mode": {
    "name": "ipython",
    "version": 3
   },
   "file_extension": ".py",
   "mimetype": "text/x-python",
   "name": "python",
   "nbconvert_exporter": "python",
   "pygments_lexer": "ipython3",
   "version": "3.7.6"
  }
 },
 "nbformat": 4,
 "nbformat_minor": 4
}
