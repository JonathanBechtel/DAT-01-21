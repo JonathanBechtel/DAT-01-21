{
 "cells": [
  {
   "cell_type": "markdown",
   "metadata": {},
   "source": [
    "# HW 4 - Health Insurance Marketplace\n",
    "From Kaggle:\n",
    "\n",
    "> The Health Insurance Marketplace (HIM) Public Use Files (PUF) contain data on health and dental plans offered to individuals and small businesses through the U.S. Health Insurance Marketplace."
   ]
  },
  {
   "cell_type": "code",
   "execution_count": 2,
   "metadata": {
    "scrolled": false
   },
   "outputs": [
    {
     "name": "stdout",
     "output_type": "stream",
     "text": [
      "/Users/shelawu/DAT/datasets\n"
     ]
    }
   ],
   "source": [
    "cd ../../../datasets"
   ]
  },
  {
   "cell_type": "markdown",
   "metadata": {},
   "source": [
    "**Possible Areas to Examine**\n",
    "- How do plan rates and benefits vary across states?\n",
    "- How do plan benefits relate to plan rates?\n",
    "- How do plan rates vary by age?\n",
    "- How do plans vary across insurance network providers?\n",
    "\n",
    "Note: This data set is quite large, and taking a random 10-percent sample by state (with justification) is acceptable."
   ]
  },
  {
   "cell_type": "markdown",
   "metadata": {},
   "source": [
    "## Environment Set-Up:"
   ]
  },
  {
   "cell_type": "code",
   "execution_count": 3,
   "metadata": {},
   "outputs": [],
   "source": [
    "import pandas as pd\n",
    "import numpy as np\n",
    "import seaborn as sns\n",
    "import matplotlib.pyplot as plt\n",
    "import scipy.stats as stats\n",
    "import math\n",
    "\n",
    "%matplotlib inline"
   ]
  },
  {
   "cell_type": "code",
   "execution_count": 4,
   "metadata": {},
   "outputs": [
    {
     "name": "stderr",
     "output_type": "stream",
     "text": [
      "/opt/anaconda3/lib/python3.7/site-packages/IPython/core/interactiveshell.py:3058: DtypeWarning: Columns (3,6,9,10,16,17,18) have mixed types. Specify dtype option on import or set low_memory=False.\n",
      "  interactivity=interactivity, compiler=compiler, result=result)\n"
     ]
    }
   ],
   "source": [
    "# shows overview of benefits & cost sharing (categorical-type)\n",
    "benefits = pd.read_csv('health-insurance-marketplace/BenefitsCostSharing.csv')"
   ]
  },
  {
   "cell_type": "code",
   "execution_count": 45,
   "metadata": {
    "scrolled": true
   },
   "outputs": [],
   "source": [
    "# talks about eligible rates based off dependencies, tobacco use, etc\n",
    "rates = pd.read_csv('health-insurance-marketplace/Rate.csv')\n",
    "\n",
    "# describes allowed dependencies\n",
    "#business_rules = pd.read_csv('health-insurance-marketplace/BusinessRules.csv')\n",
    "# talks about specific MOOP limits, deductibles, and other plan attributes\n",
    "#plan_attrib = pd.read_csv('health-insurance-marketplace/PlanAttributes.csv')"
   ]
  },
  {
   "cell_type": "code",
   "execution_count": 6,
   "metadata": {},
   "outputs": [],
   "source": [
    "pd.set_option('display.max_columns', None)"
   ]
  },
  {
   "cell_type": "markdown",
   "metadata": {},
   "source": [
    "## Exploratory Data Analysis & Data Cleaning:"
   ]
  },
  {
   "cell_type": "markdown",
   "metadata": {},
   "source": [
    "__Plan Benefits variation across states__\n",
    "https://www.cms.gov/CCIIO/Resources/Data-Resources/Downloads/BenefitsCostSharing-DataDictionary-20.pdf\n",
    "<br> Notice how only 39 states are represented. Noticeable exclusions include NY, CA, MD, NJ, WA, VA (D.C) and NV (LV)"
   ]
  },
  {
   "cell_type": "code",
   "execution_count": 7,
   "metadata": {
    "scrolled": true
   },
   "outputs": [
    {
     "data": {
      "text/html": [
       "<div>\n",
       "<style scoped>\n",
       "    .dataframe tbody tr th:only-of-type {\n",
       "        vertical-align: middle;\n",
       "    }\n",
       "\n",
       "    .dataframe tbody tr th {\n",
       "        vertical-align: top;\n",
       "    }\n",
       "\n",
       "    .dataframe thead th {\n",
       "        text-align: right;\n",
       "    }\n",
       "</style>\n",
       "<table border=\"1\" class=\"dataframe\">\n",
       "  <thead>\n",
       "    <tr style=\"text-align: right;\">\n",
       "      <th></th>\n",
       "      <th>BenefitName</th>\n",
       "      <th>BusinessYear</th>\n",
       "      <th>CoinsInnTier1</th>\n",
       "      <th>CoinsInnTier2</th>\n",
       "      <th>CoinsOutofNet</th>\n",
       "      <th>CopayInnTier1</th>\n",
       "      <th>CopayInnTier2</th>\n",
       "      <th>CopayOutofNet</th>\n",
       "      <th>EHBVarReason</th>\n",
       "      <th>Exclusions</th>\n",
       "      <th>Explanation</th>\n",
       "      <th>ImportDate</th>\n",
       "      <th>IsCovered</th>\n",
       "      <th>IsEHB</th>\n",
       "      <th>IsExclFromInnMOOP</th>\n",
       "      <th>IsExclFromOonMOOP</th>\n",
       "      <th>IsStateMandate</th>\n",
       "      <th>IsSubjToDedTier1</th>\n",
       "      <th>IsSubjToDedTier2</th>\n",
       "      <th>IssuerId</th>\n",
       "      <th>IssuerId2</th>\n",
       "      <th>LimitQty</th>\n",
       "      <th>LimitUnit</th>\n",
       "      <th>MinimumStay</th>\n",
       "      <th>PlanId</th>\n",
       "      <th>QuantLimitOnSvc</th>\n",
       "      <th>RowNumber</th>\n",
       "      <th>SourceName</th>\n",
       "      <th>StandardComponentId</th>\n",
       "      <th>StateCode</th>\n",
       "      <th>StateCode2</th>\n",
       "      <th>VersionNum</th>\n",
       "    </tr>\n",
       "  </thead>\n",
       "  <tbody>\n",
       "    <tr>\n",
       "      <td>0</td>\n",
       "      <td>Routine Dental Services (Adult)</td>\n",
       "      <td>2014</td>\n",
       "      <td>20%</td>\n",
       "      <td>NaN</td>\n",
       "      <td>20%</td>\n",
       "      <td>No Charge</td>\n",
       "      <td>NaN</td>\n",
       "      <td>No Charge</td>\n",
       "      <td>Above EHB</td>\n",
       "      <td>NaN</td>\n",
       "      <td>Combined annual benefit maximum of $1000 per y...</td>\n",
       "      <td>2014-03-19 07:06:49</td>\n",
       "      <td>Covered</td>\n",
       "      <td>NaN</td>\n",
       "      <td>No</td>\n",
       "      <td>No</td>\n",
       "      <td>NaN</td>\n",
       "      <td>No</td>\n",
       "      <td>No</td>\n",
       "      <td>21989</td>\n",
       "      <td>21989</td>\n",
       "      <td>1000.0</td>\n",
       "      <td>Dollars per Year</td>\n",
       "      <td>NaN</td>\n",
       "      <td>21989AK0010001-00</td>\n",
       "      <td>Yes</td>\n",
       "      <td>68</td>\n",
       "      <td>HIOS</td>\n",
       "      <td>21989AK0010001</td>\n",
       "      <td>AK</td>\n",
       "      <td>AK</td>\n",
       "      <td>6</td>\n",
       "    </tr>\n",
       "    <tr>\n",
       "      <td>1</td>\n",
       "      <td>Dental Check-Up for Children</td>\n",
       "      <td>2014</td>\n",
       "      <td>20%</td>\n",
       "      <td>NaN</td>\n",
       "      <td>20%</td>\n",
       "      <td>No Charge</td>\n",
       "      <td>NaN</td>\n",
       "      <td>No Charge</td>\n",
       "      <td>Substantially Equal</td>\n",
       "      <td>NaN</td>\n",
       "      <td>See policy for additional limitations</td>\n",
       "      <td>2014-03-19 07:06:49</td>\n",
       "      <td>Covered</td>\n",
       "      <td>Yes</td>\n",
       "      <td>No</td>\n",
       "      <td>No</td>\n",
       "      <td>NaN</td>\n",
       "      <td>No</td>\n",
       "      <td>No</td>\n",
       "      <td>21989</td>\n",
       "      <td>21989</td>\n",
       "      <td>1.0</td>\n",
       "      <td>Visit(s) per 6 Months</td>\n",
       "      <td>NaN</td>\n",
       "      <td>21989AK0010001-00</td>\n",
       "      <td>Yes</td>\n",
       "      <td>104</td>\n",
       "      <td>HIOS</td>\n",
       "      <td>21989AK0010001</td>\n",
       "      <td>AK</td>\n",
       "      <td>AK</td>\n",
       "      <td>6</td>\n",
       "    </tr>\n",
       "    <tr>\n",
       "      <td>2</td>\n",
       "      <td>Basic Dental Care - Child</td>\n",
       "      <td>2014</td>\n",
       "      <td>40%</td>\n",
       "      <td>NaN</td>\n",
       "      <td>40%</td>\n",
       "      <td>No Charge</td>\n",
       "      <td>NaN</td>\n",
       "      <td>No Charge</td>\n",
       "      <td>Substantially Equal</td>\n",
       "      <td>NaN</td>\n",
       "      <td>See policy for additional limitations</td>\n",
       "      <td>2014-03-19 07:06:49</td>\n",
       "      <td>Covered</td>\n",
       "      <td>Yes</td>\n",
       "      <td>No</td>\n",
       "      <td>No</td>\n",
       "      <td>NaN</td>\n",
       "      <td>Yes</td>\n",
       "      <td>Yes</td>\n",
       "      <td>21989</td>\n",
       "      <td>21989</td>\n",
       "      <td>NaN</td>\n",
       "      <td>NaN</td>\n",
       "      <td>NaN</td>\n",
       "      <td>21989AK0010001-00</td>\n",
       "      <td>NaN</td>\n",
       "      <td>110</td>\n",
       "      <td>HIOS</td>\n",
       "      <td>21989AK0010001</td>\n",
       "      <td>AK</td>\n",
       "      <td>AK</td>\n",
       "      <td>6</td>\n",
       "    </tr>\n",
       "    <tr>\n",
       "      <td>3</td>\n",
       "      <td>Orthodontia - Child</td>\n",
       "      <td>2014</td>\n",
       "      <td>50%</td>\n",
       "      <td>NaN</td>\n",
       "      <td>50%</td>\n",
       "      <td>No Charge</td>\n",
       "      <td>NaN</td>\n",
       "      <td>No Charge</td>\n",
       "      <td>Additional EHB Benefit</td>\n",
       "      <td>NaN</td>\n",
       "      <td>24 month waiting period, See policy for additi...</td>\n",
       "      <td>2014-03-19 07:06:49</td>\n",
       "      <td>Covered</td>\n",
       "      <td>NaN</td>\n",
       "      <td>No</td>\n",
       "      <td>No</td>\n",
       "      <td>NaN</td>\n",
       "      <td>Yes</td>\n",
       "      <td>Yes</td>\n",
       "      <td>21989</td>\n",
       "      <td>21989</td>\n",
       "      <td>NaN</td>\n",
       "      <td>NaN</td>\n",
       "      <td>NaN</td>\n",
       "      <td>21989AK0010001-00</td>\n",
       "      <td>NaN</td>\n",
       "      <td>111</td>\n",
       "      <td>HIOS</td>\n",
       "      <td>21989AK0010001</td>\n",
       "      <td>AK</td>\n",
       "      <td>AK</td>\n",
       "      <td>6</td>\n",
       "    </tr>\n",
       "    <tr>\n",
       "      <td>4</td>\n",
       "      <td>Major Dental Care - Child</td>\n",
       "      <td>2014</td>\n",
       "      <td>50%</td>\n",
       "      <td>NaN</td>\n",
       "      <td>50%</td>\n",
       "      <td>No Charge</td>\n",
       "      <td>NaN</td>\n",
       "      <td>No Charge</td>\n",
       "      <td>Substantially Equal</td>\n",
       "      <td>NaN</td>\n",
       "      <td>See policy for additional limitations</td>\n",
       "      <td>2014-03-19 07:06:49</td>\n",
       "      <td>Covered</td>\n",
       "      <td>Yes</td>\n",
       "      <td>No</td>\n",
       "      <td>No</td>\n",
       "      <td>NaN</td>\n",
       "      <td>Yes</td>\n",
       "      <td>Yes</td>\n",
       "      <td>21989</td>\n",
       "      <td>21989</td>\n",
       "      <td>NaN</td>\n",
       "      <td>NaN</td>\n",
       "      <td>NaN</td>\n",
       "      <td>21989AK0010001-00</td>\n",
       "      <td>NaN</td>\n",
       "      <td>112</td>\n",
       "      <td>HIOS</td>\n",
       "      <td>21989AK0010001</td>\n",
       "      <td>AK</td>\n",
       "      <td>AK</td>\n",
       "      <td>6</td>\n",
       "    </tr>\n",
       "  </tbody>\n",
       "</table>\n",
       "</div>"
      ],
      "text/plain": [
       "                       BenefitName  BusinessYear CoinsInnTier1 CoinsInnTier2  \\\n",
       "0  Routine Dental Services (Adult)          2014           20%           NaN   \n",
       "1     Dental Check-Up for Children          2014           20%           NaN   \n",
       "2        Basic Dental Care - Child          2014           40%           NaN   \n",
       "3              Orthodontia - Child          2014           50%           NaN   \n",
       "4        Major Dental Care - Child          2014           50%           NaN   \n",
       "\n",
       "  CoinsOutofNet CopayInnTier1 CopayInnTier2 CopayOutofNet  \\\n",
       "0           20%     No Charge           NaN     No Charge   \n",
       "1           20%     No Charge           NaN     No Charge   \n",
       "2           40%     No Charge           NaN     No Charge   \n",
       "3           50%     No Charge           NaN     No Charge   \n",
       "4           50%     No Charge           NaN     No Charge   \n",
       "\n",
       "             EHBVarReason Exclusions  \\\n",
       "0               Above EHB        NaN   \n",
       "1     Substantially Equal        NaN   \n",
       "2     Substantially Equal        NaN   \n",
       "3  Additional EHB Benefit        NaN   \n",
       "4     Substantially Equal        NaN   \n",
       "\n",
       "                                         Explanation           ImportDate  \\\n",
       "0  Combined annual benefit maximum of $1000 per y...  2014-03-19 07:06:49   \n",
       "1              See policy for additional limitations  2014-03-19 07:06:49   \n",
       "2              See policy for additional limitations  2014-03-19 07:06:49   \n",
       "3  24 month waiting period, See policy for additi...  2014-03-19 07:06:49   \n",
       "4              See policy for additional limitations  2014-03-19 07:06:49   \n",
       "\n",
       "  IsCovered IsEHB IsExclFromInnMOOP IsExclFromOonMOOP IsStateMandate  \\\n",
       "0   Covered   NaN                No                No            NaN   \n",
       "1   Covered   Yes                No                No            NaN   \n",
       "2   Covered   Yes                No                No            NaN   \n",
       "3   Covered   NaN                No                No            NaN   \n",
       "4   Covered   Yes                No                No            NaN   \n",
       "\n",
       "  IsSubjToDedTier1 IsSubjToDedTier2  IssuerId  IssuerId2  LimitQty  \\\n",
       "0               No               No     21989      21989    1000.0   \n",
       "1               No               No     21989      21989       1.0   \n",
       "2              Yes              Yes     21989      21989       NaN   \n",
       "3              Yes              Yes     21989      21989       NaN   \n",
       "4              Yes              Yes     21989      21989       NaN   \n",
       "\n",
       "               LimitUnit  MinimumStay             PlanId QuantLimitOnSvc  \\\n",
       "0       Dollars per Year          NaN  21989AK0010001-00             Yes   \n",
       "1  Visit(s) per 6 Months          NaN  21989AK0010001-00             Yes   \n",
       "2                    NaN          NaN  21989AK0010001-00             NaN   \n",
       "3                    NaN          NaN  21989AK0010001-00             NaN   \n",
       "4                    NaN          NaN  21989AK0010001-00             NaN   \n",
       "\n",
       "   RowNumber SourceName StandardComponentId StateCode StateCode2  VersionNum  \n",
       "0         68       HIOS      21989AK0010001        AK         AK           6  \n",
       "1        104       HIOS      21989AK0010001        AK         AK           6  \n",
       "2        110       HIOS      21989AK0010001        AK         AK           6  \n",
       "3        111       HIOS      21989AK0010001        AK         AK           6  \n",
       "4        112       HIOS      21989AK0010001        AK         AK           6  "
      ]
     },
     "execution_count": 7,
     "metadata": {},
     "output_type": "execute_result"
    }
   ],
   "source": [
    "benefits.head()"
   ]
  },
  {
   "cell_type": "code",
   "execution_count": 8,
   "metadata": {},
   "outputs": [
    {
     "data": {
      "text/plain": [
       "(5048408, 32)"
      ]
     },
     "execution_count": 8,
     "metadata": {},
     "output_type": "execute_result"
    }
   ],
   "source": [
    "benefits.shape"
   ]
  },
  {
   "cell_type": "code",
   "execution_count": 9,
   "metadata": {},
   "outputs": [
    {
     "name": "stdout",
     "output_type": "stream",
     "text": [
      "<class 'pandas.core.frame.DataFrame'>\n",
      "RangeIndex: 5048408 entries, 0 to 5048407\n",
      "Data columns (total 32 columns):\n",
      "BenefitName            object\n",
      "BusinessYear           int64\n",
      "CoinsInnTier1          object\n",
      "CoinsInnTier2          object\n",
      "CoinsOutofNet          object\n",
      "CopayInnTier1          object\n",
      "CopayInnTier2          object\n",
      "CopayOutofNet          object\n",
      "EHBVarReason           object\n",
      "Exclusions             object\n",
      "Explanation            object\n",
      "ImportDate             object\n",
      "IsCovered              object\n",
      "IsEHB                  object\n",
      "IsExclFromInnMOOP      object\n",
      "IsExclFromOonMOOP      object\n",
      "IsStateMandate         object\n",
      "IsSubjToDedTier1       object\n",
      "IsSubjToDedTier2       object\n",
      "IssuerId               int64\n",
      "IssuerId2              int64\n",
      "LimitQty               float64\n",
      "LimitUnit              object\n",
      "MinimumStay            float64\n",
      "PlanId                 object\n",
      "QuantLimitOnSvc        object\n",
      "RowNumber              int64\n",
      "SourceName             object\n",
      "StandardComponentId    object\n",
      "StateCode              object\n",
      "StateCode2             object\n",
      "VersionNum             int64\n",
      "dtypes: float64(2), int64(5), object(25)\n",
      "memory usage: 1.2+ GB\n"
     ]
    }
   ],
   "source": [
    "benefits.info()"
   ]
  },
  {
   "cell_type": "markdown",
   "metadata": {},
   "source": [
    "### Examining state distribution\n",
    "Noticeable state exclusions: NY, CA, WA, NJ, and VA"
   ]
  },
  {
   "cell_type": "code",
   "execution_count": 10,
   "metadata": {},
   "outputs": [
    {
     "data": {
      "text/plain": [
       "array(['AK', 'AL', 'AZ', 'FL', 'GA', 'IN', 'LA', 'MO', 'MS', 'NC', 'ND',\n",
       "       'NJ', 'OK', 'PA', 'SC', 'TN', 'TX', 'WI', 'WY', 'AR', 'DE', 'IL',\n",
       "       'KS', 'ME', 'MI', 'MT', 'NH', 'NM', 'VA', 'WV', 'IA', 'ID', 'NE',\n",
       "       'OH', 'SD', 'UT', 'NV', 'OR', 'HI'], dtype=object)"
      ]
     },
     "execution_count": 10,
     "metadata": {},
     "output_type": "execute_result"
    }
   ],
   "source": [
    "benefits.StateCode.unique()"
   ]
  },
  {
   "cell_type": "code",
   "execution_count": 11,
   "metadata": {
    "scrolled": true
   },
   "outputs": [
    {
     "data": {
      "text/plain": [
       "39"
      ]
     },
     "execution_count": 11,
     "metadata": {},
     "output_type": "execute_result"
    }
   ],
   "source": [
    "len(benefits.StateCode.unique())"
   ]
  },
  {
   "cell_type": "code",
   "execution_count": 12,
   "metadata": {},
   "outputs": [],
   "source": [
    "full_state_dist = benefits.groupby('StateCode')['BenefitName'].count()"
   ]
  },
  {
   "cell_type": "code",
   "execution_count": 13,
   "metadata": {},
   "outputs": [
    {
     "data": {
      "image/png": "[encoded data removed]",
      "text/plain": [
       "<Figure size 1440x432 with 1 Axes>"
      ]
     },
     "metadata": {
      "needs_background": "light"
     },
     "output_type": "display_data"
    }
   ],
   "source": [
    "full_state_dist.plot(kind='bar', figsize=(20,6), rot=0)\n",
    "plt.xlabel(\"State\")\n",
    "plt.ylabel(\"Count\")\n",
    "plt.title('Full Dataset State Distribution')\n",
    "plt.show()"
   ]
  },
  {
   "cell_type": "markdown",
   "metadata": {},
   "source": [
    "# Null Value Imputation\n",
    "If clean after creating sample set, may mess up with the state distribution. Check what the NULL values look like and evaluate what they mean. (A) Notice rows with mostly NULL values, determined to be duds so deleted (B) "
   ]
  },
  {
   "cell_type": "code",
   "execution_count": 14,
   "metadata": {},
   "outputs": [
    {
     "data": {
      "text/plain": [
       "BenefitName                  0\n",
       "BusinessYear                 0\n",
       "CoinsInnTier1          1113847\n",
       "CoinsInnTier2          4571587\n",
       "CoinsOutofNet          1113847\n",
       "CopayInnTier1          1113847\n",
       "CopayInnTier2          4571587\n",
       "CopayOutofNet          1113849\n",
       "EHBVarReason           3020737\n",
       "Exclusions             4572247\n",
       "Explanation            4075700\n",
       "ImportDate                   0\n",
       "IsCovered               215980\n",
       "IsEHB                  1817362\n",
       "IsExclFromInnMOOP       983986\n",
       "IsExclFromOonMOOP       982626\n",
       "IsStateMandate         4250463\n",
       "IsSubjToDedTier1       2465877\n",
       "IsSubjToDedTier2       2466054\n",
       "IssuerId                     0\n",
       "IssuerId2                    0\n",
       "LimitQty               4360725\n",
       "LimitUnit              4360539\n",
       "MinimumStay            5031681\n",
       "PlanId                       0\n",
       "QuantLimitOnSvc        3264532\n",
       "RowNumber                    0\n",
       "SourceName                   0\n",
       "StandardComponentId          0\n",
       "StateCode                    0\n",
       "StateCode2                   0\n",
       "VersionNum                   0\n",
       "dtype: int64"
      ]
     },
     "execution_count": 14,
     "metadata": {},
     "output_type": "execute_result"
    }
   ],
   "source": [
    "benefits.isnull().sum()"
   ]
  },
  {
   "cell_type": "code",
   "execution_count": 15,
   "metadata": {
    "scrolled": true
   },
   "outputs": [],
   "source": [
    "# delete rows with all NaN values -- we'll use this as the threshold for dud instance\n",
    "cols = ['CoinsInnTier1', 'CoinsInnTier2', 'CoinsOutofNet', 'CopayInnTier1','CopayInnTier2', 'CopayOutofNet']\n",
    "benefits = benefits[benefits[cols].notnull().all(axis=1)]"
   ]
  },
  {
   "cell_type": "code",
   "execution_count": 16,
   "metadata": {},
   "outputs": [
    {
     "data": {
      "image/png": "[encoded data removed]",
      "text/plain": [
       "<Figure size 1440x432 with 1 Axes>"
      ]
     },
     "metadata": {
      "needs_background": "light"
     },
     "output_type": "display_data"
    }
   ],
   "source": [
    "stat = benefits.groupby('StateCode')['BenefitName'].count()\n",
    "\n",
    "stat.plot(kind='bar', figsize=(20,6), rot=0)\n",
    "plt.xlabel(\"State\")\n",
    "plt.ylabel(\"Count\")\n",
    "plt.title('State Distribution After Deleting Dud Rows')\n",
    "plt.show()\n",
    "\n",
    "# While drastically altered state spread, they were dude values."
   ]
  },
  {
   "cell_type": "code",
   "execution_count": 17,
   "metadata": {
    "scrolled": true
   },
   "outputs": [
    {
     "data": {
      "text/plain": [
       "BenefitName                 0\n",
       "BusinessYear                0\n",
       "CoinsInnTier1               0\n",
       "CoinsInnTier2               0\n",
       "CoinsOutofNet               0\n",
       "CopayInnTier1               0\n",
       "CopayInnTier2               0\n",
       "CopayOutofNet               0\n",
       "EHBVarReason           248483\n",
       "Exclusions             408658\n",
       "Explanation            330838\n",
       "ImportDate                  0\n",
       "IsCovered                   0\n",
       "IsEHB                   78081\n",
       "IsExclFromInnMOOP           0\n",
       "IsExclFromOonMOOP           0\n",
       "IsStateMandate         374251\n",
       "IsSubjToDedTier1       289861\n",
       "IsSubjToDedTier2       289861\n",
       "IssuerId                    0\n",
       "IssuerId2                   0\n",
       "LimitQty               401506\n",
       "LimitUnit              401562\n",
       "MinimumStay            474960\n",
       "PlanId                      0\n",
       "QuantLimitOnSvc        295367\n",
       "RowNumber                   0\n",
       "SourceName                  0\n",
       "StandardComponentId         0\n",
       "StateCode                   0\n",
       "StateCode2                  0\n",
       "VersionNum                  0\n",
       "dtype: int64"
      ]
     },
     "execution_count": 17,
     "metadata": {},
     "output_type": "execute_result"
    }
   ],
   "source": [
    "# now checking NULL values...\n",
    "benefits.isnull().sum()\n",
    "\n",
    "# Yay!!! Our metrics coinsurance & copay now have no NULLs.\n",
    "# Let's investigate Deductable and Limit Qty/LimitUnit"
   ]
  },
  {
   "cell_type": "code",
   "execution_count": 18,
   "metadata": {},
   "outputs": [
    {
     "data": {
      "text/plain": [
       "True"
      ]
     },
     "execution_count": 18,
     "metadata": {},
     "output_type": "execute_result"
    }
   ],
   "source": [
    "# they're identical -- del using 1 param for efficiency\n",
    "a = benefits[benefits['IsSubjToDedTier1'].isnull()]\n",
    "b = benefits[benefits['IsSubjToDedTier2'].isnull()]\n",
    "\n",
    "a.equals(b)"
   ]
  },
  {
   "cell_type": "code",
   "execution_count": 19,
   "metadata": {
    "scrolled": true
   },
   "outputs": [
    {
     "data": {
      "text/plain": [
       "Yes    136940\n",
       "No      50020\n",
       "Name: IsSubjToDedTier1, dtype: int64"
      ]
     },
     "execution_count": 19,
     "metadata": {},
     "output_type": "execute_result"
    }
   ],
   "source": [
    "benefits.IsSubjToDedTier1.value_counts()"
   ]
  },
  {
   "cell_type": "code",
   "execution_count": 20,
   "metadata": {},
   "outputs": [],
   "source": [
    "# we'll impute NaN with 'No' -- deleting nulls drastically skews state repr\n",
    "benefits[['IsSubjToDedTier1', 'IsSubjToDedTier2']] = benefits[['IsSubjToDedTier1','IsSubjToDedTier2']].fillna(value='No')"
   ]
  },
  {
   "cell_type": "code",
   "execution_count": 21,
   "metadata": {},
   "outputs": [
    {
     "data": {
      "text/plain": [
       "No     339881\n",
       "Yes    136940\n",
       "Name: IsSubjToDedTier1, dtype: int64"
      ]
     },
     "execution_count": 21,
     "metadata": {},
     "output_type": "execute_result"
    }
   ],
   "source": [
    "benefits.IsSubjToDedTier1.value_counts()"
   ]
  },
  {
   "cell_type": "code",
   "execution_count": 22,
   "metadata": {},
   "outputs": [
    {
     "data": {
      "text/plain": [
       "BenefitName                 0\n",
       "BusinessYear                0\n",
       "CoinsInnTier1               0\n",
       "CoinsInnTier2               0\n",
       "CoinsOutofNet               0\n",
       "CopayInnTier1               0\n",
       "CopayInnTier2               0\n",
       "CopayOutofNet               0\n",
       "EHBVarReason           248483\n",
       "Exclusions             408658\n",
       "Explanation            330838\n",
       "ImportDate                  0\n",
       "IsCovered                   0\n",
       "IsEHB                   78081\n",
       "IsExclFromInnMOOP           0\n",
       "IsExclFromOonMOOP           0\n",
       "IsStateMandate         374251\n",
       "IsSubjToDedTier1            0\n",
       "IsSubjToDedTier2            0\n",
       "IssuerId                    0\n",
       "IssuerId2                   0\n",
       "LimitQty               401506\n",
       "LimitUnit              401562\n",
       "MinimumStay            474960\n",
       "PlanId                      0\n",
       "QuantLimitOnSvc        295367\n",
       "RowNumber                   0\n",
       "SourceName                  0\n",
       "StandardComponentId         0\n",
       "StateCode                   0\n",
       "StateCode2                  0\n",
       "VersionNum                  0\n",
       "dtype: int64"
      ]
     },
     "execution_count": 22,
     "metadata": {},
     "output_type": "execute_result"
    }
   ],
   "source": [
    "# now checking NULL values...\n",
    "benefits.isnull().sum()\n",
    "\n",
    "# Yay!!! Our metrics coinsurance & copay now have no NULLs.\n",
    "# Let's investigate Deductable and Limit Qty/LimitUnit"
   ]
  },
  {
   "cell_type": "code",
   "execution_count": 159,
   "metadata": {},
   "outputs": [],
   "source": [
    "# isolate necessary columns\n",
    "ben_df = benefits.iloc[:, np.r_[2:8, 14:16, 17:19, 24, 29]].copy()"
   ]
  },
  {
   "cell_type": "code",
   "execution_count": 160,
   "metadata": {},
   "outputs": [
    {
     "data": {
      "text/html": [
       "<div>\n",
       "<style scoped>\n",
       "    .dataframe tbody tr th:only-of-type {\n",
       "        vertical-align: middle;\n",
       "    }\n",
       "\n",
       "    .dataframe tbody tr th {\n",
       "        vertical-align: top;\n",
       "    }\n",
       "\n",
       "    .dataframe thead th {\n",
       "        text-align: right;\n",
       "    }\n",
       "</style>\n",
       "<table border=\"1\" class=\"dataframe\">\n",
       "  <thead>\n",
       "    <tr style=\"text-align: right;\">\n",
       "      <th></th>\n",
       "      <th>CoinsInnTier1</th>\n",
       "      <th>CoinsInnTier2</th>\n",
       "      <th>CoinsOutofNet</th>\n",
       "      <th>CopayInnTier1</th>\n",
       "      <th>CopayInnTier2</th>\n",
       "      <th>CopayOutofNet</th>\n",
       "      <th>IsExclFromInnMOOP</th>\n",
       "      <th>IsExclFromOonMOOP</th>\n",
       "      <th>IsSubjToDedTier1</th>\n",
       "      <th>IsSubjToDedTier2</th>\n",
       "      <th>PlanId</th>\n",
       "      <th>StateCode</th>\n",
       "    </tr>\n",
       "  </thead>\n",
       "  <tbody>\n",
       "    <tr>\n",
       "      <td>10049</td>\n",
       "      <td>0</td>\n",
       "      <td>0</td>\n",
       "      <td>100</td>\n",
       "      <td>100</td>\n",
       "      <td>100</td>\n",
       "      <td>0</td>\n",
       "      <td>No</td>\n",
       "      <td>No</td>\n",
       "      <td>No</td>\n",
       "      <td>No</td>\n",
       "      <td>46944AL0340001-00</td>\n",
       "      <td>AL</td>\n",
       "    </tr>\n",
       "    <tr>\n",
       "      <td>10050</td>\n",
       "      <td>20</td>\n",
       "      <td>20</td>\n",
       "      <td>20</td>\n",
       "      <td>0</td>\n",
       "      <td>0</td>\n",
       "      <td>0</td>\n",
       "      <td>No</td>\n",
       "      <td>No</td>\n",
       "      <td>Yes</td>\n",
       "      <td>Yes</td>\n",
       "      <td>46944AL0340001-00</td>\n",
       "      <td>AL</td>\n",
       "    </tr>\n",
       "    <tr>\n",
       "      <td>10051</td>\n",
       "      <td>20</td>\n",
       "      <td>20</td>\n",
       "      <td>20</td>\n",
       "      <td>0</td>\n",
       "      <td>0</td>\n",
       "      <td>0</td>\n",
       "      <td>No</td>\n",
       "      <td>No</td>\n",
       "      <td>Yes</td>\n",
       "      <td>Yes</td>\n",
       "      <td>46944AL0340001-00</td>\n",
       "      <td>AL</td>\n",
       "    </tr>\n",
       "    <tr>\n",
       "      <td>10052</td>\n",
       "      <td>20</td>\n",
       "      <td>20</td>\n",
       "      <td>20</td>\n",
       "      <td>0</td>\n",
       "      <td>0</td>\n",
       "      <td>0</td>\n",
       "      <td>No</td>\n",
       "      <td>No</td>\n",
       "      <td>Yes</td>\n",
       "      <td>Yes</td>\n",
       "      <td>46944AL0340001-00</td>\n",
       "      <td>AL</td>\n",
       "    </tr>\n",
       "    <tr>\n",
       "      <td>10053</td>\n",
       "      <td>20</td>\n",
       "      <td>20</td>\n",
       "      <td>20</td>\n",
       "      <td>0</td>\n",
       "      <td>0</td>\n",
       "      <td>0</td>\n",
       "      <td>No</td>\n",
       "      <td>No</td>\n",
       "      <td>Yes</td>\n",
       "      <td>Yes</td>\n",
       "      <td>46944AL0340001-00</td>\n",
       "      <td>AL</td>\n",
       "    </tr>\n",
       "  </tbody>\n",
       "</table>\n",
       "</div>"
      ],
      "text/plain": [
       "       CoinsInnTier1  CoinsInnTier2  CoinsOutofNet  CopayInnTier1  \\\n",
       "10049              0              0            100            100   \n",
       "10050             20             20             20              0   \n",
       "10051             20             20             20              0   \n",
       "10052             20             20             20              0   \n",
       "10053             20             20             20              0   \n",
       "\n",
       "       CopayInnTier2  CopayOutofNet IsExclFromInnMOOP IsExclFromOonMOOP  \\\n",
       "10049            100              0                No                No   \n",
       "10050              0              0                No                No   \n",
       "10051              0              0                No                No   \n",
       "10052              0              0                No                No   \n",
       "10053              0              0                No                No   \n",
       "\n",
       "      IsSubjToDedTier1 IsSubjToDedTier2             PlanId StateCode  \n",
       "10049               No               No  46944AL0340001-00        AL  \n",
       "10050              Yes              Yes  46944AL0340001-00        AL  \n",
       "10051              Yes              Yes  46944AL0340001-00        AL  \n",
       "10052              Yes              Yes  46944AL0340001-00        AL  \n",
       "10053              Yes              Yes  46944AL0340001-00        AL  "
      ]
     },
     "execution_count": 160,
     "metadata": {},
     "output_type": "execute_result"
    }
   ],
   "source": [
    "ben_df.head()"
   ]
  },
  {
   "cell_type": "markdown",
   "metadata": {},
   "source": [
    "#### Do the same for rates:"
   ]
  },
  {
   "cell_type": "code",
   "execution_count": 151,
   "metadata": {},
   "outputs": [],
   "source": [
    "rates_df = rates.iloc[:, 10:16]\n",
    "rates_df.drop(['RatingAreaId', 'IndividualTobaccoRate', 'Tobacco'], axis=1, inplace=True)"
   ]
  },
  {
   "cell_type": "code",
   "execution_count": 152,
   "metadata": {},
   "outputs": [
    {
     "data": {
      "text/plain": [
       "PlanId            0\n",
       "Age               0\n",
       "IndividualRate    0\n",
       "dtype: int64"
      ]
     },
     "execution_count": 152,
     "metadata": {},
     "output_type": "execute_result"
    }
   ],
   "source": [
    "rates_df.isnull().sum()"
   ]
  },
  {
   "cell_type": "code",
   "execution_count": 164,
   "metadata": {},
   "outputs": [
    {
     "data": {
      "text/plain": [
       "(12694445, 3)"
      ]
     },
     "execution_count": 164,
     "metadata": {},
     "output_type": "execute_result"
    }
   ],
   "source": [
    "rates_df.shape"
   ]
  },
  {
   "cell_type": "code",
   "execution_count": 161,
   "metadata": {},
   "outputs": [],
   "source": [
    "# merge rates df with benefits df, capture Individual Rate, Couple\n",
    "mergedf = ben_df.merge(rates_df, on='PlanId', how='outer')"
   ]
  },
  {
   "cell_type": "code",
   "execution_count": 165,
   "metadata": {},
   "outputs": [
    {
     "data": {
      "text/plain": [
       "(13171266, 14)"
      ]
     },
     "execution_count": 165,
     "metadata": {},
     "output_type": "execute_result"
    }
   ],
   "source": [
    "mergedf.shape"
   ]
  },
  {
   "cell_type": "code",
   "execution_count": 163,
   "metadata": {},
   "outputs": [
    {
     "data": {
      "text/plain": [
       "476821"
      ]
     },
     "execution_count": 163,
     "metadata": {},
     "output_type": "execute_result"
    }
   ],
   "source": [
    "# amount that weren't able to match\n",
    "mergedf.IndividualRate.isnull().sum()"
   ]
  },
  {
   "cell_type": "code",
   "execution_count": null,
   "metadata": {},
   "outputs": [],
   "source": []
  },
  {
   "cell_type": "code",
   "execution_count": 169,
   "metadata": {},
   "outputs": [],
   "source": [
    "y = mergedf.loc[mergedf.IndividualRate.isnull()]\n",
    "yt = y.groupby('StateCode')['PlanId'].count()"
   ]
  },
  {
   "cell_type": "code",
   "execution_count": 170,
   "metadata": {},
   "outputs": [
    {
     "data": {
      "image/png": "[encoded data removed]",
      "text/plain": [
       "<Figure size 1440x432 with 1 Axes>"
      ]
     },
     "metadata": {
      "needs_background": "light"
     },
     "output_type": "display_data"
    }
   ],
   "source": [
    "yt.plot(kind='bar', figsize=(20,6), rot=0)\n",
    "plt.xlabel(\"State\")\n",
    "plt.ylabel(\"Count\")\n",
    "plt.title('Full Dataset State Distribution')\n",
    "plt.show()"
   ]
  },
  {
   "cell_type": "markdown",
   "metadata": {},
   "source": [
    "#### Create a 10% sample per state:\n",
    "I'll create a for loop so that, per state, we are:\n",
    "- isolating that state as its own df\n",
    "- taking a 10% sample\n",
    "- resulting dataframes can be stacked "
   ]
  },
  {
   "cell_type": "markdown",
   "metadata": {},
   "source": [
    "sample_df = pd.DataFrame(columns = benefits_cost.columns)\n",
    "states = benefits.StateCode.unique()\n",
    "\n",
    "for state in states:\n",
    "    state_sample_df = (benefits.loc[benefits['StateCode'] == state]).sample(frac=0.1)\n",
    "    sample_df = sample_df.append(state_sample_df)  "
   ]
  },
  {
   "cell_type": "markdown",
   "metadata": {},
   "source": [
    "sample_df.shape"
   ]
  },
  {
   "cell_type": "markdown",
   "metadata": {},
   "source": [
    "sample_df.head()"
   ]
  },
  {
   "cell_type": "markdown",
   "metadata": {},
   "source": [
    "sample_df.to_csv('sampled_state_set.csv')"
   ]
  },
  {
   "cell_type": "markdown",
   "metadata": {},
   "source": [
    "x = sample_df.groupby('StateCode')['BenefitName'].count()\n",
    "x.plot(kind='bar', figsize=(20,6), rot=0)\n",
    "plt.xlabel(\"State\")\n",
    "plt.ylabel(\"Count\")\n",
    "plt.title('Sampled Dataset State Distribution')\n",
    "plt.show()"
   ]
  },
  {
   "cell_type": "code",
   "execution_count": 23,
   "metadata": {},
   "outputs": [],
   "source": [
    "benefits.to_csv('benefits.csv')"
   ]
  },
  {
   "cell_type": "markdown",
   "metadata": {},
   "source": [
    "## Data Encoding:"
   ]
  },
  {
   "cell_type": "code",
   "execution_count": 24,
   "metadata": {},
   "outputs": [
    {
     "data": {
      "text/plain": [
       "array(['0%', '20% Coinsurance after deductible', 'No Charge',\n",
       "       '50% Coinsurance after deductible',\n",
       "       '0% Coinsurance after deductible',\n",
       "       '10% Coinsurance after deductible', '30%', '20%', '50%', '10%',\n",
       "       'No Charge after deductible', '25% Coinsurance after deductible',\n",
       "       '18%', '25%', '40% Coinsurance after deductible', '40%',\n",
       "       '18% Coinsurance after deductible', '35%',\n",
       "       '35% Coinsurance after deductible', '21%',\n",
       "       '15% Coinsurance after deductible',\n",
       "       '5% Coinsurance after deductible',\n",
       "       '30% Coinsurance after deductible', '$0',\n",
       "       '9% Coinsurance after deductible',\n",
       "       '19% Coinsurance after deductible',\n",
       "       '29% Coinsurance after deductible', '49%', '8%',\n",
       "       '60% Coinsurance after deductible', '15%',\n",
       "       '75% Coinsurance after deductible',\n",
       "       '70% Coinsurance after deductible', '100%',\n",
       "       '80% Coinsurance after deductible',\n",
       "       '45% Coinsurance after deductible', 'Not Applicable',\n",
       "       '100% Coinsurance after deductible'], dtype=object)"
      ]
     },
     "execution_count": 24,
     "metadata": {},
     "output_type": "execute_result"
    }
   ],
   "source": [
    "benefits['CoinsInnTier1'].unique()"
   ]
  },
  {
   "cell_type": "code",
   "execution_count": 25,
   "metadata": {
    "scrolled": true
   },
   "outputs": [
    {
     "data": {
      "text/html": [
       "<div>\n",
       "<style scoped>\n",
       "    .dataframe tbody tr th:only-of-type {\n",
       "        vertical-align: middle;\n",
       "    }\n",
       "\n",
       "    .dataframe tbody tr th {\n",
       "        vertical-align: top;\n",
       "    }\n",
       "\n",
       "    .dataframe thead th {\n",
       "        text-align: right;\n",
       "    }\n",
       "</style>\n",
       "<table border=\"1\" class=\"dataframe\">\n",
       "  <thead>\n",
       "    <tr style=\"text-align: right;\">\n",
       "      <th></th>\n",
       "      <th>BenefitName</th>\n",
       "      <th>BusinessYear</th>\n",
       "      <th>CoinsInnTier1</th>\n",
       "      <th>CoinsInnTier2</th>\n",
       "      <th>CoinsOutofNet</th>\n",
       "      <th>CopayInnTier1</th>\n",
       "      <th>CopayInnTier2</th>\n",
       "      <th>CopayOutofNet</th>\n",
       "      <th>EHBVarReason</th>\n",
       "      <th>Exclusions</th>\n",
       "      <th>Explanation</th>\n",
       "      <th>ImportDate</th>\n",
       "      <th>IsCovered</th>\n",
       "      <th>IsEHB</th>\n",
       "      <th>IsExclFromInnMOOP</th>\n",
       "      <th>IsExclFromOonMOOP</th>\n",
       "      <th>IsStateMandate</th>\n",
       "      <th>IsSubjToDedTier1</th>\n",
       "      <th>IsSubjToDedTier2</th>\n",
       "      <th>IssuerId</th>\n",
       "      <th>IssuerId2</th>\n",
       "      <th>LimitQty</th>\n",
       "      <th>LimitUnit</th>\n",
       "      <th>MinimumStay</th>\n",
       "      <th>PlanId</th>\n",
       "      <th>QuantLimitOnSvc</th>\n",
       "      <th>RowNumber</th>\n",
       "      <th>SourceName</th>\n",
       "      <th>StandardComponentId</th>\n",
       "      <th>StateCode</th>\n",
       "      <th>StateCode2</th>\n",
       "      <th>VersionNum</th>\n",
       "    </tr>\n",
       "  </thead>\n",
       "  <tbody>\n",
       "    <tr>\n",
       "      <td>353208</td>\n",
       "      <td>Weight Loss Programs</td>\n",
       "      <td>2014</td>\n",
       "      <td>$0</td>\n",
       "      <td>$0</td>\n",
       "      <td>$0</td>\n",
       "      <td>$0</td>\n",
       "      <td>$0</td>\n",
       "      <td>$0</td>\n",
       "      <td>Additional EHB Benefit</td>\n",
       "      <td>NaN</td>\n",
       "      <td>NaN</td>\n",
       "      <td>2014-01-29 08:00:05</td>\n",
       "      <td>Covered</td>\n",
       "      <td>NaN</td>\n",
       "      <td>No</td>\n",
       "      <td>No</td>\n",
       "      <td>NaN</td>\n",
       "      <td>No</td>\n",
       "      <td>No</td>\n",
       "      <td>11512</td>\n",
       "      <td>11512</td>\n",
       "      <td>NaN</td>\n",
       "      <td>NaN</td>\n",
       "      <td>NaN</td>\n",
       "      <td>11512NC0120001-02</td>\n",
       "      <td>NaN</td>\n",
       "      <td>101</td>\n",
       "      <td>HIOS</td>\n",
       "      <td>11512NC0120001</td>\n",
       "      <td>NC</td>\n",
       "      <td>NC</td>\n",
       "      <td>9</td>\n",
       "    </tr>\n",
       "    <tr>\n",
       "      <td>353934</td>\n",
       "      <td>Weight Loss Programs</td>\n",
       "      <td>2014</td>\n",
       "      <td>$0</td>\n",
       "      <td>$0</td>\n",
       "      <td>$0</td>\n",
       "      <td>$0</td>\n",
       "      <td>$0</td>\n",
       "      <td>$0</td>\n",
       "      <td>Additional EHB Benefit</td>\n",
       "      <td>NaN</td>\n",
       "      <td>NaN</td>\n",
       "      <td>2014-01-29 08:00:05</td>\n",
       "      <td>Covered</td>\n",
       "      <td>NaN</td>\n",
       "      <td>No</td>\n",
       "      <td>No</td>\n",
       "      <td>NaN</td>\n",
       "      <td>No</td>\n",
       "      <td>No</td>\n",
       "      <td>11512</td>\n",
       "      <td>11512</td>\n",
       "      <td>NaN</td>\n",
       "      <td>NaN</td>\n",
       "      <td>NaN</td>\n",
       "      <td>11512NC0120002-02</td>\n",
       "      <td>NaN</td>\n",
       "      <td>101</td>\n",
       "      <td>HIOS</td>\n",
       "      <td>11512NC0120002</td>\n",
       "      <td>NC</td>\n",
       "      <td>NC</td>\n",
       "      <td>9</td>\n",
       "    </tr>\n",
       "    <tr>\n",
       "      <td>354195</td>\n",
       "      <td>Weight Loss Programs</td>\n",
       "      <td>2014</td>\n",
       "      <td>$0</td>\n",
       "      <td>$0</td>\n",
       "      <td>$0</td>\n",
       "      <td>$0</td>\n",
       "      <td>$0</td>\n",
       "      <td>$0</td>\n",
       "      <td>Additional EHB Benefit</td>\n",
       "      <td>NaN</td>\n",
       "      <td>NaN</td>\n",
       "      <td>2014-01-29 08:00:05</td>\n",
       "      <td>Covered</td>\n",
       "      <td>NaN</td>\n",
       "      <td>No</td>\n",
       "      <td>No</td>\n",
       "      <td>NaN</td>\n",
       "      <td>No</td>\n",
       "      <td>No</td>\n",
       "      <td>11512</td>\n",
       "      <td>11512</td>\n",
       "      <td>NaN</td>\n",
       "      <td>NaN</td>\n",
       "      <td>NaN</td>\n",
       "      <td>11512NC0120003-02</td>\n",
       "      <td>NaN</td>\n",
       "      <td>101</td>\n",
       "      <td>HIOS</td>\n",
       "      <td>11512NC0120003</td>\n",
       "      <td>NC</td>\n",
       "      <td>NC</td>\n",
       "      <td>9</td>\n",
       "    </tr>\n",
       "    <tr>\n",
       "      <td>354874</td>\n",
       "      <td>Weight Loss Programs</td>\n",
       "      <td>2014</td>\n",
       "      <td>$0</td>\n",
       "      <td>$0</td>\n",
       "      <td>$0</td>\n",
       "      <td>$0</td>\n",
       "      <td>$0</td>\n",
       "      <td>$0</td>\n",
       "      <td>Additional EHB Benefit</td>\n",
       "      <td>NaN</td>\n",
       "      <td>NaN</td>\n",
       "      <td>2014-01-29 08:00:05</td>\n",
       "      <td>Covered</td>\n",
       "      <td>NaN</td>\n",
       "      <td>No</td>\n",
       "      <td>No</td>\n",
       "      <td>NaN</td>\n",
       "      <td>No</td>\n",
       "      <td>No</td>\n",
       "      <td>11512</td>\n",
       "      <td>11512</td>\n",
       "      <td>NaN</td>\n",
       "      <td>NaN</td>\n",
       "      <td>NaN</td>\n",
       "      <td>11512NC0120004-02</td>\n",
       "      <td>NaN</td>\n",
       "      <td>101</td>\n",
       "      <td>HIOS</td>\n",
       "      <td>11512NC0120004</td>\n",
       "      <td>NC</td>\n",
       "      <td>NC</td>\n",
       "      <td>9</td>\n",
       "    </tr>\n",
       "    <tr>\n",
       "      <td>390363</td>\n",
       "      <td>Mental/Behavioral Health Outpatient Services</td>\n",
       "      <td>2014</td>\n",
       "      <td>$0</td>\n",
       "      <td>$0</td>\n",
       "      <td>0%</td>\n",
       "      <td>$0</td>\n",
       "      <td>$0</td>\n",
       "      <td>$0</td>\n",
       "      <td>NaN</td>\n",
       "      <td>NaN</td>\n",
       "      <td>NaN</td>\n",
       "      <td>2013-11-26 13:14:08</td>\n",
       "      <td>Covered</td>\n",
       "      <td>Yes</td>\n",
       "      <td>No</td>\n",
       "      <td>No</td>\n",
       "      <td>NaN</td>\n",
       "      <td>Yes</td>\n",
       "      <td>Yes</td>\n",
       "      <td>91762</td>\n",
       "      <td>91762</td>\n",
       "      <td>NaN</td>\n",
       "      <td>NaN</td>\n",
       "      <td>NaN</td>\n",
       "      <td>91762NJ0070007-02</td>\n",
       "      <td>NaN</td>\n",
       "      <td>84</td>\n",
       "      <td>HIOS</td>\n",
       "      <td>91762NJ0070007</td>\n",
       "      <td>NJ</td>\n",
       "      <td>NJ</td>\n",
       "      <td>9</td>\n",
       "    </tr>\n",
       "  </tbody>\n",
       "</table>\n",
       "</div>"
      ],
      "text/plain": [
       "                                         BenefitName  BusinessYear  \\\n",
       "353208                          Weight Loss Programs          2014   \n",
       "353934                          Weight Loss Programs          2014   \n",
       "354195                          Weight Loss Programs          2014   \n",
       "354874                          Weight Loss Programs          2014   \n",
       "390363  Mental/Behavioral Health Outpatient Services          2014   \n",
       "\n",
       "       CoinsInnTier1 CoinsInnTier2 CoinsOutofNet CopayInnTier1 CopayInnTier2  \\\n",
       "353208            $0            $0            $0            $0            $0   \n",
       "353934            $0            $0            $0            $0            $0   \n",
       "354195            $0            $0            $0            $0            $0   \n",
       "354874            $0            $0            $0            $0            $0   \n",
       "390363            $0            $0            0%            $0            $0   \n",
       "\n",
       "       CopayOutofNet            EHBVarReason Exclusions Explanation  \\\n",
       "353208            $0  Additional EHB Benefit        NaN         NaN   \n",
       "353934            $0  Additional EHB Benefit        NaN         NaN   \n",
       "354195            $0  Additional EHB Benefit        NaN         NaN   \n",
       "354874            $0  Additional EHB Benefit        NaN         NaN   \n",
       "390363            $0                     NaN        NaN         NaN   \n",
       "\n",
       "                 ImportDate IsCovered IsEHB IsExclFromInnMOOP  \\\n",
       "353208  2014-01-29 08:00:05   Covered   NaN                No   \n",
       "353934  2014-01-29 08:00:05   Covered   NaN                No   \n",
       "354195  2014-01-29 08:00:05   Covered   NaN                No   \n",
       "354874  2014-01-29 08:00:05   Covered   NaN                No   \n",
       "390363  2013-11-26 13:14:08   Covered   Yes                No   \n",
       "\n",
       "       IsExclFromOonMOOP IsStateMandate IsSubjToDedTier1 IsSubjToDedTier2  \\\n",
       "353208                No            NaN               No               No   \n",
       "353934                No            NaN               No               No   \n",
       "354195                No            NaN               No               No   \n",
       "354874                No            NaN               No               No   \n",
       "390363                No            NaN              Yes              Yes   \n",
       "\n",
       "        IssuerId  IssuerId2  LimitQty LimitUnit  MinimumStay  \\\n",
       "353208     11512      11512       NaN       NaN          NaN   \n",
       "353934     11512      11512       NaN       NaN          NaN   \n",
       "354195     11512      11512       NaN       NaN          NaN   \n",
       "354874     11512      11512       NaN       NaN          NaN   \n",
       "390363     91762      91762       NaN       NaN          NaN   \n",
       "\n",
       "                   PlanId QuantLimitOnSvc  RowNumber SourceName  \\\n",
       "353208  11512NC0120001-02             NaN        101       HIOS   \n",
       "353934  11512NC0120002-02             NaN        101       HIOS   \n",
       "354195  11512NC0120003-02             NaN        101       HIOS   \n",
       "354874  11512NC0120004-02             NaN        101       HIOS   \n",
       "390363  91762NJ0070007-02             NaN         84       HIOS   \n",
       "\n",
       "       StandardComponentId StateCode StateCode2  VersionNum  \n",
       "353208      11512NC0120001        NC         NC           9  \n",
       "353934      11512NC0120002        NC         NC           9  \n",
       "354195      11512NC0120003        NC         NC           9  \n",
       "354874      11512NC0120004        NC         NC           9  \n",
       "390363      91762NJ0070007        NJ         NJ           9  "
      ]
     },
     "execution_count": 25,
     "metadata": {},
     "output_type": "execute_result"
    }
   ],
   "source": [
    "# may investigate this $ significance later\n",
    "dollar = benefits.loc[benefits['CoinsInnTier1'] == '$0']\n",
    "dollar.head()"
   ]
  },
  {
   "cell_type": "code",
   "execution_count": 26,
   "metadata": {
    "scrolled": true
   },
   "outputs": [
    {
     "data": {
      "text/plain": [
       "array(['Weight Loss Programs',\n",
       "       'Mental/Behavioral Health Outpatient Services',\n",
       "       'Substance Abuse Disorder Outpatient Services',\n",
       "       'Primary Care Visit to Treat an Injury or Illness',\n",
       "       'Specialist Visit',\n",
       "       'Other Practitioner Office Visit (Nurse, Physician Assistant)',\n",
       "       'Infertility Treatment', 'Bariatric Surgery', 'Hearing Aids',\n",
       "       'Eye Glasses for Children', 'Urgent Care Centers or Facilities',\n",
       "       'Generic Drugs', 'Preferred Brand Drugs',\n",
       "       'Non-Preferred Generic Drugs', 'Routine Eye Exam for Children',\n",
       "       'Rehabilitative Speech Therapy',\n",
       "       'Rehabilitative Occupational and Rehabilitative Physical Therapy',\n",
       "       'Well Baby Visits and Care', 'Transplant',\n",
       "       'Prescription Drugs Other', 'Pediatric Services Other',\n",
       "       'Home Health Care Services', 'Emergency Room Services',\n",
       "       'Emergency Transportation/Ambulance',\n",
       "       'Inpatient Hospital Services (e.g., Hospital Stay)',\n",
       "       'Skilled Nursing Facility',\n",
       "       'Mental/Behavioral Health Inpatient Services',\n",
       "       'Substance Abuse Disorder Inpatient Services',\n",
       "       'Outpatient Rehabilitation Services', 'Habilitation Services',\n",
       "       'Chiropractic Care', 'Imaging (CT/PET Scans, MRIs)',\n",
       "       'Preventive Care/Screening/Immunization', 'ER Hospital Admission',\n",
       "       'Inpatient Physician and Surgical Services',\n",
       "       'Dental Check-Up for Children', 'Diabetes Care Management',\n",
       "       'Diabetes Education', 'Prenatal and Postnatal Care',\n",
       "       'Routine Foot Care', 'Private-Duty Nursing', 'Allergy Testing',\n",
       "       'Chemotherapy', 'Dialysis', 'Hospice Services',\n",
       "       'Outpatient Surgery Physician/Surgical Services',\n",
       "       'Laboratory Outpatient and Professional Services', 'Radiation',\n",
       "       'Reconstructive Surgery', 'Specialty Drugs',\n",
       "       'X-rays and Diagnostic Imaging', 'Accidental Dental',\n",
       "       'Delivery and All Inpatient Services for Maternity Care',\n",
       "       'Dental Anesthesia', 'Durable Medical Equipment',\n",
       "       'Infusion Therapy', 'Inherited Metabolic Disorder - PKU',\n",
       "       'Non-Preferred Brand Drugs',\n",
       "       'Outpatient Facility Fee (e.g.,  Ambulatory Surgery Center)',\n",
       "       'Prosthetic Devices', 'Nutritional Counseling',\n",
       "       'Routine Dental Services (Adult)', 'Basic Dental Care - Child'],\n",
       "      dtype=object)"
      ]
     },
     "execution_count": 26,
     "metadata": {},
     "output_type": "execute_result"
    }
   ],
   "source": [
    "benefits.loc[benefits['CoinsInnTier1'] == '$0']['BenefitName'].unique()"
   ]
  },
  {
   "cell_type": "code",
   "execution_count": 27,
   "metadata": {},
   "outputs": [
    {
     "data": {
      "text/html": [
       "<div>\n",
       "<style scoped>\n",
       "    .dataframe tbody tr th:only-of-type {\n",
       "        vertical-align: middle;\n",
       "    }\n",
       "\n",
       "    .dataframe tbody tr th {\n",
       "        vertical-align: top;\n",
       "    }\n",
       "\n",
       "    .dataframe thead th {\n",
       "        text-align: right;\n",
       "    }\n",
       "</style>\n",
       "<table border=\"1\" class=\"dataframe\">\n",
       "  <thead>\n",
       "    <tr style=\"text-align: right;\">\n",
       "      <th></th>\n",
       "      <th>BenefitName</th>\n",
       "      <th>BusinessYear</th>\n",
       "      <th>CoinsInnTier1</th>\n",
       "      <th>CoinsInnTier2</th>\n",
       "      <th>CoinsOutofNet</th>\n",
       "      <th>CopayInnTier1</th>\n",
       "      <th>CopayInnTier2</th>\n",
       "      <th>CopayOutofNet</th>\n",
       "      <th>EHBVarReason</th>\n",
       "      <th>Exclusions</th>\n",
       "      <th>Explanation</th>\n",
       "      <th>ImportDate</th>\n",
       "      <th>IsCovered</th>\n",
       "      <th>IsEHB</th>\n",
       "      <th>IsExclFromInnMOOP</th>\n",
       "      <th>IsExclFromOonMOOP</th>\n",
       "      <th>IsStateMandate</th>\n",
       "      <th>IsSubjToDedTier1</th>\n",
       "      <th>IsSubjToDedTier2</th>\n",
       "      <th>IssuerId</th>\n",
       "      <th>IssuerId2</th>\n",
       "      <th>LimitQty</th>\n",
       "      <th>LimitUnit</th>\n",
       "      <th>MinimumStay</th>\n",
       "      <th>PlanId</th>\n",
       "      <th>QuantLimitOnSvc</th>\n",
       "      <th>RowNumber</th>\n",
       "      <th>SourceName</th>\n",
       "      <th>StandardComponentId</th>\n",
       "      <th>StateCode</th>\n",
       "      <th>StateCode2</th>\n",
       "      <th>VersionNum</th>\n",
       "    </tr>\n",
       "  </thead>\n",
       "  <tbody>\n",
       "    <tr>\n",
       "      <td>353208</td>\n",
       "      <td>Weight Loss Programs</td>\n",
       "      <td>2014</td>\n",
       "      <td>$0</td>\n",
       "      <td>$0</td>\n",
       "      <td>$0</td>\n",
       "      <td>$0</td>\n",
       "      <td>$0</td>\n",
       "      <td>$0</td>\n",
       "      <td>Additional EHB Benefit</td>\n",
       "      <td>NaN</td>\n",
       "      <td>NaN</td>\n",
       "      <td>2014-01-29 08:00:05</td>\n",
       "      <td>Covered</td>\n",
       "      <td>NaN</td>\n",
       "      <td>No</td>\n",
       "      <td>No</td>\n",
       "      <td>NaN</td>\n",
       "      <td>No</td>\n",
       "      <td>No</td>\n",
       "      <td>11512</td>\n",
       "      <td>11512</td>\n",
       "      <td>NaN</td>\n",
       "      <td>NaN</td>\n",
       "      <td>NaN</td>\n",
       "      <td>11512NC0120001-02</td>\n",
       "      <td>NaN</td>\n",
       "      <td>101</td>\n",
       "      <td>HIOS</td>\n",
       "      <td>11512NC0120001</td>\n",
       "      <td>NC</td>\n",
       "      <td>NC</td>\n",
       "      <td>9</td>\n",
       "    </tr>\n",
       "    <tr>\n",
       "      <td>353934</td>\n",
       "      <td>Weight Loss Programs</td>\n",
       "      <td>2014</td>\n",
       "      <td>$0</td>\n",
       "      <td>$0</td>\n",
       "      <td>$0</td>\n",
       "      <td>$0</td>\n",
       "      <td>$0</td>\n",
       "      <td>$0</td>\n",
       "      <td>Additional EHB Benefit</td>\n",
       "      <td>NaN</td>\n",
       "      <td>NaN</td>\n",
       "      <td>2014-01-29 08:00:05</td>\n",
       "      <td>Covered</td>\n",
       "      <td>NaN</td>\n",
       "      <td>No</td>\n",
       "      <td>No</td>\n",
       "      <td>NaN</td>\n",
       "      <td>No</td>\n",
       "      <td>No</td>\n",
       "      <td>11512</td>\n",
       "      <td>11512</td>\n",
       "      <td>NaN</td>\n",
       "      <td>NaN</td>\n",
       "      <td>NaN</td>\n",
       "      <td>11512NC0120002-02</td>\n",
       "      <td>NaN</td>\n",
       "      <td>101</td>\n",
       "      <td>HIOS</td>\n",
       "      <td>11512NC0120002</td>\n",
       "      <td>NC</td>\n",
       "      <td>NC</td>\n",
       "      <td>9</td>\n",
       "    </tr>\n",
       "    <tr>\n",
       "      <td>354195</td>\n",
       "      <td>Weight Loss Programs</td>\n",
       "      <td>2014</td>\n",
       "      <td>$0</td>\n",
       "      <td>$0</td>\n",
       "      <td>$0</td>\n",
       "      <td>$0</td>\n",
       "      <td>$0</td>\n",
       "      <td>$0</td>\n",
       "      <td>Additional EHB Benefit</td>\n",
       "      <td>NaN</td>\n",
       "      <td>NaN</td>\n",
       "      <td>2014-01-29 08:00:05</td>\n",
       "      <td>Covered</td>\n",
       "      <td>NaN</td>\n",
       "      <td>No</td>\n",
       "      <td>No</td>\n",
       "      <td>NaN</td>\n",
       "      <td>No</td>\n",
       "      <td>No</td>\n",
       "      <td>11512</td>\n",
       "      <td>11512</td>\n",
       "      <td>NaN</td>\n",
       "      <td>NaN</td>\n",
       "      <td>NaN</td>\n",
       "      <td>11512NC0120003-02</td>\n",
       "      <td>NaN</td>\n",
       "      <td>101</td>\n",
       "      <td>HIOS</td>\n",
       "      <td>11512NC0120003</td>\n",
       "      <td>NC</td>\n",
       "      <td>NC</td>\n",
       "      <td>9</td>\n",
       "    </tr>\n",
       "    <tr>\n",
       "      <td>354874</td>\n",
       "      <td>Weight Loss Programs</td>\n",
       "      <td>2014</td>\n",
       "      <td>$0</td>\n",
       "      <td>$0</td>\n",
       "      <td>$0</td>\n",
       "      <td>$0</td>\n",
       "      <td>$0</td>\n",
       "      <td>$0</td>\n",
       "      <td>Additional EHB Benefit</td>\n",
       "      <td>NaN</td>\n",
       "      <td>NaN</td>\n",
       "      <td>2014-01-29 08:00:05</td>\n",
       "      <td>Covered</td>\n",
       "      <td>NaN</td>\n",
       "      <td>No</td>\n",
       "      <td>No</td>\n",
       "      <td>NaN</td>\n",
       "      <td>No</td>\n",
       "      <td>No</td>\n",
       "      <td>11512</td>\n",
       "      <td>11512</td>\n",
       "      <td>NaN</td>\n",
       "      <td>NaN</td>\n",
       "      <td>NaN</td>\n",
       "      <td>11512NC0120004-02</td>\n",
       "      <td>NaN</td>\n",
       "      <td>101</td>\n",
       "      <td>HIOS</td>\n",
       "      <td>11512NC0120004</td>\n",
       "      <td>NC</td>\n",
       "      <td>NC</td>\n",
       "      <td>9</td>\n",
       "    </tr>\n",
       "    <tr>\n",
       "      <td>390363</td>\n",
       "      <td>Mental/Behavioral Health Outpatient Services</td>\n",
       "      <td>2014</td>\n",
       "      <td>$0</td>\n",
       "      <td>$0</td>\n",
       "      <td>0%</td>\n",
       "      <td>$0</td>\n",
       "      <td>$0</td>\n",
       "      <td>$0</td>\n",
       "      <td>NaN</td>\n",
       "      <td>NaN</td>\n",
       "      <td>NaN</td>\n",
       "      <td>2013-11-26 13:14:08</td>\n",
       "      <td>Covered</td>\n",
       "      <td>Yes</td>\n",
       "      <td>No</td>\n",
       "      <td>No</td>\n",
       "      <td>NaN</td>\n",
       "      <td>Yes</td>\n",
       "      <td>Yes</td>\n",
       "      <td>91762</td>\n",
       "      <td>91762</td>\n",
       "      <td>NaN</td>\n",
       "      <td>NaN</td>\n",
       "      <td>NaN</td>\n",
       "      <td>91762NJ0070007-02</td>\n",
       "      <td>NaN</td>\n",
       "      <td>84</td>\n",
       "      <td>HIOS</td>\n",
       "      <td>91762NJ0070007</td>\n",
       "      <td>NJ</td>\n",
       "      <td>NJ</td>\n",
       "      <td>9</td>\n",
       "    </tr>\n",
       "  </tbody>\n",
       "</table>\n",
       "</div>"
      ],
      "text/plain": [
       "                                         BenefitName  BusinessYear  \\\n",
       "353208                          Weight Loss Programs          2014   \n",
       "353934                          Weight Loss Programs          2014   \n",
       "354195                          Weight Loss Programs          2014   \n",
       "354874                          Weight Loss Programs          2014   \n",
       "390363  Mental/Behavioral Health Outpatient Services          2014   \n",
       "\n",
       "       CoinsInnTier1 CoinsInnTier2 CoinsOutofNet CopayInnTier1 CopayInnTier2  \\\n",
       "353208            $0            $0            $0            $0            $0   \n",
       "353934            $0            $0            $0            $0            $0   \n",
       "354195            $0            $0            $0            $0            $0   \n",
       "354874            $0            $0            $0            $0            $0   \n",
       "390363            $0            $0            0%            $0            $0   \n",
       "\n",
       "       CopayOutofNet            EHBVarReason Exclusions Explanation  \\\n",
       "353208            $0  Additional EHB Benefit        NaN         NaN   \n",
       "353934            $0  Additional EHB Benefit        NaN         NaN   \n",
       "354195            $0  Additional EHB Benefit        NaN         NaN   \n",
       "354874            $0  Additional EHB Benefit        NaN         NaN   \n",
       "390363            $0                     NaN        NaN         NaN   \n",
       "\n",
       "                 ImportDate IsCovered IsEHB IsExclFromInnMOOP  \\\n",
       "353208  2014-01-29 08:00:05   Covered   NaN                No   \n",
       "353934  2014-01-29 08:00:05   Covered   NaN                No   \n",
       "354195  2014-01-29 08:00:05   Covered   NaN                No   \n",
       "354874  2014-01-29 08:00:05   Covered   NaN                No   \n",
       "390363  2013-11-26 13:14:08   Covered   Yes                No   \n",
       "\n",
       "       IsExclFromOonMOOP IsStateMandate IsSubjToDedTier1 IsSubjToDedTier2  \\\n",
       "353208                No            NaN               No               No   \n",
       "353934                No            NaN               No               No   \n",
       "354195                No            NaN               No               No   \n",
       "354874                No            NaN               No               No   \n",
       "390363                No            NaN              Yes              Yes   \n",
       "\n",
       "        IssuerId  IssuerId2  LimitQty LimitUnit  MinimumStay  \\\n",
       "353208     11512      11512       NaN       NaN          NaN   \n",
       "353934     11512      11512       NaN       NaN          NaN   \n",
       "354195     11512      11512       NaN       NaN          NaN   \n",
       "354874     11512      11512       NaN       NaN          NaN   \n",
       "390363     91762      91762       NaN       NaN          NaN   \n",
       "\n",
       "                   PlanId QuantLimitOnSvc  RowNumber SourceName  \\\n",
       "353208  11512NC0120001-02             NaN        101       HIOS   \n",
       "353934  11512NC0120002-02             NaN        101       HIOS   \n",
       "354195  11512NC0120003-02             NaN        101       HIOS   \n",
       "354874  11512NC0120004-02             NaN        101       HIOS   \n",
       "390363  91762NJ0070007-02             NaN         84       HIOS   \n",
       "\n",
       "       StandardComponentId StateCode StateCode2  VersionNum  \n",
       "353208      11512NC0120001        NC         NC           9  \n",
       "353934      11512NC0120002        NC         NC           9  \n",
       "354195      11512NC0120003        NC         NC           9  \n",
       "354874      11512NC0120004        NC         NC           9  \n",
       "390363      91762NJ0070007        NJ         NJ           9  "
      ]
     },
     "execution_count": 27,
     "metadata": {},
     "output_type": "execute_result"
    }
   ],
   "source": [
    "benefits.loc[benefits['CoinsInnTier1'] == '$0'].head()"
   ]
  },
  {
   "cell_type": "code",
   "execution_count": 28,
   "metadata": {},
   "outputs": [],
   "source": [
    "benefits.replace({'CoinsInnTier1': {'\\$0': '0', ' Coinsurance after deductible': '','%': '','No Charge after deductible': '0', 'No Charge': '0','Not Applicable': '100'}},  inplace = True, regex=True)\n",
    "benefits.replace({'CoinsInnTier2': {'\\$0': '0', ' Coinsurance after deductible': '','%': '','No Charge after deductible': '0', 'No Charge': '0','Not Applicable': '100'}},  inplace = True, regex=True)\n",
    "benefits.replace({'CoinsOutofNet': {'\\$0': '0', ' Coinsurance after deductible': '','%': '','No Charge after deductible': '0', 'No Charge': '0','Not Applicable': '100'}},  inplace = True, regex=True)"
   ]
  },
  {
   "cell_type": "code",
   "execution_count": 29,
   "metadata": {},
   "outputs": [
    {
     "data": {
      "text/plain": [
       "array(['$100', '$0', '$200', 'No Charge', '$35', '$50', '$15',\n",
       "       '$200 Copay per Day', '$40', '$60', '$25', '$300 Copay per Day',\n",
       "       '$55', '$20', '$395', '$300', '$45', '$10', '$75',\n",
       "       '$75 Copay per Day', '$30', '$5', '$750',\n",
       "       '$25 Copay after deductible', '$500', 'No Charge after deductible',\n",
       "       '$50 Copay after deductible', '$0 Copay per Day', '$1,000', '$350',\n",
       "       '$300 Copay after deductible', '$400',\n",
       "       '$1000 Copay after deductible', '$100 Copay after deductible',\n",
       "       '$60 Copay after deductible', '$75 Copay after deductible',\n",
       "       '$1250 Copay after deductible', '$250 Copay per Day',\n",
       "       '$0 Copay after deductible', '$40 Copay after deductible', '$150',\n",
       "       '$100 Copay per Day', '$320', '$80', '$20 Copay after deductible',\n",
       "       '$50 Copay per Day', '$120', '$750 Copay before deductible',\n",
       "       '$75 Copay before deductible', '$100 Copay before deductible',\n",
       "       '$500 Copay before deductible', '$110 Copay before deductible',\n",
       "       '$85 Copay before deductible', '$300 Copay before deductible',\n",
       "       '$40 Copay before deductible', '$125 Copay before deductible',\n",
       "       '$25 Copay before deductible', '$50 Copay before deductible',\n",
       "       '$350 Copay before deductible', '$200 Copay before deductible',\n",
       "       '$15 Copay before deductible', '$30 Copay before deductible',\n",
       "       '$250 Copay before deductible', '$150 Copay before deductible',\n",
       "       '$10 Copay before deductible', '$20 Copay before deductible',\n",
       "       '$60 Copay before deductible', '$4 Copay before deductible',\n",
       "       '$80 Copay before deductible', '$400 Copay before deductible',\n",
       "       '$35 Copay before deductible', '$400 Copay per Day',\n",
       "       '$7 Copay before deductible', '$500 Copay per Day',\n",
       "       '$5 Copay before deductible', '$250', '$0 Copay per Stay',\n",
       "       '$500 Copay per Stay', '$45 Copay after deductible', '$90',\n",
       "       '$70 Copay after deductible', '$10 Copay after deductible',\n",
       "       '$65 Copay after deductible', '$3', '0%',\n",
       "       '$30 Copay after deductible', '$7', '$15 Copay after deductible',\n",
       "       '$35 Copay after deductible', '$7 Copay after deductible', '$8',\n",
       "       '$38', '$76', '$95', '$250 Copay after deductible',\n",
       "       '$500 Copay after deductible', '$85 Copay after deductible',\n",
       "       '$950 Copay per Stay', '$100 Copay per Stay', '$350 Copay per Day',\n",
       "       '$175 Copay per Day', '$450', '$70', '$25 Copay per Day', '$4',\n",
       "       '$40 Copay per Day', '$57 Copay after deductible',\n",
       "       '$750 Copay per Day', '$700 Copay per Day', '$65', '$700',\n",
       "       '$18 Copay after deductible', '$280 Copay after deductible',\n",
       "       '$375', '$190', '$48', '$110 Copay after deductible',\n",
       "       '$150 Copay per Day', '$150 Copay after deductible',\n",
       "       '$3 Copay after deductible', '$5 Copay after deductible',\n",
       "       '$275 Copay after deductible', '$80 Copay after deductible',\n",
       "       '$90 Copay after deductible', '$105 Copay after deductible',\n",
       "       '$2000 Copay per Day', '$2,000', '$1000 Copay per Day',\n",
       "       '$65 Copay before deductible', '$45 Copay before deductible',\n",
       "       '$650 Copay per Day', '$600 Copay per Day', '$35 Copay per Day',\n",
       "       '$125 Copay per Day', '$30 Copay per Day',\n",
       "       '$0 Copay before deductible', '$55 Copay after deductible', '$12',\n",
       "       '$85', '$1000 Copay before deductible',\n",
       "       '$700 Copay after deductible', '$1000 Copay per Stay',\n",
       "       '$250 Copay per Stay', '$150 Copay per Stay',\n",
       "       '$750 Copay after deductible', '$900 Copay per Day',\n",
       "       '$900 Copay after deductible', '$350 Copay after deductible',\n",
       "       '$125 Copay after deductible', '$200 Copay after deductible',\n",
       "       '$4 Copay after deductible', '$225 Copay after deductible', '$175',\n",
       "       '$950', '$125', '$8 Copay after deductible', '$550',\n",
       "       '$285 Copay after deductible', '$18', '$135',\n",
       "       '$2 Copay after deductible', '$110', '$285', '$63', '$280', '$6',\n",
       "       '$67', '$42', '$275', '$2500 Copay per Day', '$2,500', '0',\n",
       "       '$5,000', '$5000 Copay per Stay', '$140',\n",
       "       '$3500 Copay after deductible', '$4,000', '$4000 Copay per Stay',\n",
       "       '$3000 Copay after deductible', '$2000 Copay per Stay', '$3,000',\n",
       "       '$3000 Copay per Stay', '$2000 Copay after deductible', '$600',\n",
       "       '$120 Copay after deductible', '$70 Copay before deductible',\n",
       "       '$90 Copay before deductible', '$350 Copay per Stay',\n",
       "       '$200 Copay per Stay', '$2', '$3,500', '$6,000', '$6,600',\n",
       "       '$6600 Copay per Stay', '$6000 Copay after deductible',\n",
       "       'Not Applicable', '$16', '$11', '$425', '$27',\n",
       "       '$225 Copay before deductible', '$225',\n",
       "       '$100 Copay per Stay after deductible', '$1', '$32',\n",
       "       '$69 Copay after deductible', '$21', '$33', '$28', '$24', '$19',\n",
       "       '$250 Copay per Stay after deductible',\n",
       "       '$500 Copay per Day after deductible',\n",
       "       '$200 Copay per Stay before deductible',\n",
       "       '$250 Copay per Stay before deductible',\n",
       "       '$600 Copay before deductible',\n",
       "       '$400 Copay per Stay before deductible',\n",
       "       '$300 Copay per Stay before deductible',\n",
       "       '$950 Copay before deductible', '$400 Copay after deductible',\n",
       "       '$400 Copay per Stay after deductible',\n",
       "       '$50 Copay per Day after deductible', '$800 Copay per Stay',\n",
       "       '$1500 Copay per Stay', '$500 Copay per Day before deductible',\n",
       "       '$100 Copay per Day before deductible',\n",
       "       '$50 Copay per Day before deductible',\n",
       "       '$40 Copay per Day before deductible',\n",
       "       '$16 Copay after deductible', '$27 Copay after deductible', '$9',\n",
       "       '$23 Copay after deductible', '$115 Copay after deductible', '$53',\n",
       "       '$83', '$385', '$740 Copay per Day', '$740', '$69', '$108', '$290',\n",
       "       '$175 Copay after deductible',\n",
       "       '$500 Copay per Stay before deductible',\n",
       "       '$750 Copay per Stay before deductible', '$70 Copay per Day',\n",
       "       '$325', '$700 Copay before deductible', '$850 Copay per Day',\n",
       "       '$950 Copay per Day', '$0 Copay per Stay after deductible',\n",
       "       '$500 Copay per Stay after deductible',\n",
       "       '$150 Copay per Stay after deductible',\n",
       "       '$1000 Copay per Stay after deductible',\n",
       "       '$200 Copay per Stay after deductible', '$4,600', '$1,500',\n",
       "       '$2250 Copay per Stay', '$2,250'], dtype=object)"
      ]
     },
     "execution_count": 29,
     "metadata": {},
     "output_type": "execute_result"
    }
   ],
   "source": [
    "benefits.CopayInnTier1.unique()"
   ]
  },
  {
   "cell_type": "code",
   "execution_count": 30,
   "metadata": {},
   "outputs": [
    {
     "data": {
      "text/plain": [
       "Index(['BenefitName', 'BusinessYear', 'CoinsInnTier1', 'CoinsInnTier2',\n",
       "       'CoinsOutofNet', 'CopayInnTier1', 'CopayInnTier2', 'CopayOutofNet',\n",
       "       'EHBVarReason', 'Exclusions', 'Explanation', 'ImportDate', 'IsCovered',\n",
       "       'IsEHB', 'IsExclFromInnMOOP', 'IsExclFromOonMOOP', 'IsStateMandate',\n",
       "       'IsSubjToDedTier1', 'IsSubjToDedTier2', 'IssuerId', 'IssuerId2',\n",
       "       'LimitQty', 'LimitUnit', 'MinimumStay', 'PlanId', 'QuantLimitOnSvc',\n",
       "       'RowNumber', 'SourceName', 'StandardComponentId', 'StateCode',\n",
       "       'StateCode2', 'VersionNum'],\n",
       "      dtype='object')"
      ]
     },
     "execution_count": 30,
     "metadata": {},
     "output_type": "execute_result"
    }
   ],
   "source": [
    "benefits.columns"
   ]
  },
  {
   "cell_type": "code",
   "execution_count": 31,
   "metadata": {},
   "outputs": [],
   "source": [
    "benefits.replace({'CopayInnTier1': {'\\$': '', ',':'', 'No Charge after deductible': '0', 'No Charge': '0','Not Applicable': '0'}},  inplace = True, regex=True)\n",
    "benefits['CopayInnTier1'] = benefits['CopayInnTier1'].str[:5]"
   ]
  },
  {
   "cell_type": "code",
   "execution_count": 32,
   "metadata": {},
   "outputs": [],
   "source": [
    "benefits.replace({'CopayInnTier2': {'\\$': '', ',':'', 'No Charge after deductible': '0', 'No Charge': '0','Not Applicable': '0'}},  inplace = True, regex=True)\n",
    "benefits['CopayInnTier2'] = benefits['CopayInnTier2'].str[:5]\n",
    "benefits.replace({'CopayOutofNet': {'\\$': '', ',':'', 'No Charge after deductible': '0', 'No Charge': '0','Not Applicable': '0'}},  inplace = True, regex=True)\n",
    "benefits['CopayOutofNet'] = benefits['CopayOutofNet'].str[:5]"
   ]
  },
  {
   "cell_type": "code",
   "execution_count": 38,
   "metadata": {},
   "outputs": [],
   "source": [
    "benefits.replace({'CopayInnTier1': {'0%': '0', ' C':'', 'o':'','p':''}},  inplace = True, regex=True)\n",
    "benefits.replace({'CopayInnTier2': {'0%': '0', ' C':'', 'o':'','p':''}},  inplace = True, regex=True)\n",
    "benefits.replace({'CopayOutofNet': {'0%': '0', ' C':'', 'o':'','p':''}},  inplace = True, regex=True)"
   ]
  },
  {
   "cell_type": "code",
   "execution_count": 40,
   "metadata": {
    "scrolled": true
   },
   "outputs": [],
   "source": [
    "benefits[['CoinsInnTier1', 'CoinsInnTier2', 'CoinsOutofNet', 'CopayInnTier1', 'CopayInnTier2', 'CopayOutofNet']] = benefits[['CoinsInnTier1', 'CoinsInnTier2', 'CoinsOutofNet', 'CopayInnTier1', 'CopayInnTier2', 'CopayOutofNet']].astype(int)"
   ]
  },
  {
   "cell_type": "code",
   "execution_count": 41,
   "metadata": {
    "scrolled": true
   },
   "outputs": [
    {
     "name": "stdout",
     "output_type": "stream",
     "text": [
      "<class 'pandas.core.frame.DataFrame'>\n",
      "Int64Index: 476821 entries, 10049 to 5029561\n",
      "Data columns (total 32 columns):\n",
      "BenefitName            476821 non-null object\n",
      "BusinessYear           476821 non-null int64\n",
      "CoinsInnTier1          476821 non-null int64\n",
      "CoinsInnTier2          476821 non-null int64\n",
      "CoinsOutofNet          476821 non-null int64\n",
      "CopayInnTier1          476821 non-null int64\n",
      "CopayInnTier2          476821 non-null int64\n",
      "CopayOutofNet          476821 non-null int64\n",
      "EHBVarReason           228338 non-null object\n",
      "Exclusions             68163 non-null object\n",
      "Explanation            145983 non-null object\n",
      "ImportDate             476821 non-null object\n",
      "IsCovered              476821 non-null object\n",
      "IsEHB                  398740 non-null object\n",
      "IsExclFromInnMOOP      476821 non-null object\n",
      "IsExclFromOonMOOP      476821 non-null object\n",
      "IsStateMandate         102570 non-null object\n",
      "IsSubjToDedTier1       476821 non-null object\n",
      "IsSubjToDedTier2       476821 non-null object\n",
      "IssuerId               476821 non-null int64\n",
      "IssuerId2              476821 non-null int64\n",
      "LimitQty               75315 non-null float64\n",
      "LimitUnit              75259 non-null object\n",
      "MinimumStay            1861 non-null float64\n",
      "PlanId                 476821 non-null object\n",
      "QuantLimitOnSvc        181454 non-null object\n",
      "RowNumber              476821 non-null int64\n",
      "SourceName             476821 non-null object\n",
      "StandardComponentId    476821 non-null object\n",
      "StateCode              476821 non-null object\n",
      "StateCode2             476821 non-null object\n",
      "VersionNum             476821 non-null int64\n",
      "dtypes: float64(2), int64(11), object(19)\n",
      "memory usage: 120.0+ MB\n"
     ]
    }
   ],
   "source": [
    "benefits.info()"
   ]
  },
  {
   "cell_type": "markdown",
   "metadata": {},
   "source": [
    "Add `coins_bin` and `copay_bin` cols. So far, I have bins for coinsurance rates but it's only within Tier 1. \n",
    "Currently we're analyzing, which states would be cheapest out of pocket as an individual, couple (neither smoke).\n",
    "\n",
    "Later, I will analyze amongst which states offer wider provider coverage (that's when we make those 'does this benefit include Y/N') -- Tiers!  \n"
   ]
  },
  {
   "cell_type": "code",
   "execution_count": 61,
   "metadata": {
    "scrolled": true
   },
   "outputs": [
    {
     "data": {
      "image/png": "[encoded data removed]",
      "text/plain": [
       "<Figure size 1440x432 with 1 Axes>"
      ]
     },
     "metadata": {
      "needs_background": "light"
     },
     "output_type": "display_data"
    }
   ],
   "source": [
    "avg = benefits.groupby('StateCode')['CoinsInnTier1'].mean()\n",
    "\n",
    "avg.plot(kind='bar', figsize=(20,6), rot=0)\n",
    "plt.xlabel(\"State\")\n",
    "plt.ylabel(\"Coinsurance Rate\")\n",
    "plt.title('Avg Coinsurance Rate by State')\n",
    "plt.show()\n",
    "\n",
    "# While drastically altered state spread, they were dude values."
   ]
  },
  {
   "cell_type": "code",
   "execution_count": 42,
   "metadata": {},
   "outputs": [],
   "source": [
    "coinsinn1_bin = [\n",
    "    (benefits['CoinsInnTier1'] >= 80) & (benefits['CoinsInnTier1'] <= 100),\n",
    "    (benefits['CoinsInnTier1'] >= 60) & (benefits['CoinsInnTier1'] < 80),\n",
    "    (benefits['CoinsInnTier1'] >= 40) & (benefits['CoinsInnTier1'] < 60),\n",
    "    (benefits['CoinsInnTier1'] >= 20) & (benefits['CoinsInnTier1'] < 40),\n",
    "    (benefits['CoinsInnTier1'] >= 0) & (benefits['CoinsInnTier1'] < 20)\n",
    "]\n",
    "\n",
    "bins = [0, 1, 2, 3, 4]\n",
    "\n",
    "benefits['CoinsInn1_bin'] = np.select(coins_bin, bins)"
   ]
  },
  {
   "cell_type": "code",
   "execution_count": 46,
   "metadata": {},
   "outputs": [],
   "source": [
    "coinsinn2_bin = [\n",
    "    (benefits['CoinsInnTier2'] >= 80) & (benefits['CoinsInnTier2'] <= 100),\n",
    "    (benefits['CoinsInnTier2'] >= 60) & (benefits['CoinsInnTier2'] < 80),\n",
    "    (benefits['CoinsInnTier2'] >= 40) & (benefits['CoinsInnTier2'] < 60),\n",
    "    (benefits['CoinsInnTier2'] >= 20) & (benefits['CoinsInnTier2'] < 40),\n",
    "    (benefits['CoinsInnTier2'] >= 0) & (benefits['CoinsInnTier2'] < 20)\n",
    "]\n",
    "\n",
    "bins = [0, 1, 2, 3, 4]\n",
    "\n",
    "benefits['CoinsInn2_bin'] = np.select(coins_bin, bins)"
   ]
  },
  {
   "cell_type": "code",
   "execution_count": 48,
   "metadata": {},
   "outputs": [],
   "source": [
    "coinsoon_bin = [\n",
    "    (benefits['CoinsOutofNet'] >= 80) & (benefits['CoinsOutofNet'] <= 100),\n",
    "    (benefits['CoinsOutofNet'] >= 60) & (benefits['CoinsOutofNet'] < 80),\n",
    "    (benefits['CoinsOutofNet'] >= 40) & (benefits['CoinsOutofNet'] < 60),\n",
    "    (benefits['CoinsOutofNet'] >= 20) & (benefits['CoinsOutofNet'] < 40),\n",
    "    (benefits['CoinsOutofNet'] >= 0) & (benefits['CoinsOutofNet'] < 20)\n",
    "]\n",
    "\n",
    "bins = [0, 1, 2, 3, 4]\n",
    "\n",
    "benefits['CoinsOON_bin'] = np.select(coins_bin, bins)"
   ]
  },
  {
   "cell_type": "code",
   "execution_count": 51,
   "metadata": {},
   "outputs": [
    {
     "data": {
      "text/plain": [
       "count    476821.000000\n",
       "mean         20.604189\n",
       "std          27.889743\n",
       "min           0.000000\n",
       "25%           0.000000\n",
       "50%          20.000000\n",
       "75%          30.000000\n",
       "max         100.000000\n",
       "Name: CoinsInnTier1, dtype: float64"
      ]
     },
     "execution_count": 51,
     "metadata": {},
     "output_type": "execute_result"
    }
   ],
   "source": [
    "benefits.CoinsInnTier1.describe()"
   ]
  },
  {
   "cell_type": "code",
   "execution_count": null,
   "metadata": {},
   "outputs": [],
   "source": [
    "# for ordinal encoding\n",
    "coins_map = {\n",
    "    '100': 0,\n",
    "    '100% Coinsurance after deductible': 1\n",
    "}"
   ]
  },
  {
   "cell_type": "markdown",
   "metadata": {},
   "source": [
    "### Plan Rate variation across states\n",
    "Analyze based off dependencies:\n",
    "<br> (A) Tobacco Rate influence?\n",
    "<br> (B) Dependency Rates:\n",
    "- Individual\n",
    "- Primary + 1 Dep / 2 Dep / 3+ Dep\n",
    "- Couple\n",
    "- Couple + 1 Dep / 2 Dep / 3+ Dep\n"
   ]
  },
  {
   "cell_type": "code",
   "execution_count": 115,
   "metadata": {},
   "outputs": [
    {
     "name": "stdout",
     "output_type": "stream",
     "text": [
      "1 BenefitName\n",
      "2 BusinessYear\n",
      "3 CoinsInnTier1\n",
      "4 CoinsInnTier2\n",
      "5 CoinsOutofNet\n",
      "6 CopayInnTier1\n",
      "7 CopayInnTier2\n",
      "8 CopayOutofNet\n",
      "9 EHBVarReason\n",
      "10 Exclusions\n",
      "11 Explanation\n",
      "12 ImportDate\n",
      "13 IsCovered\n",
      "14 IsEHB\n",
      "15 IsExclFromInnMOOP\n",
      "16 IsExclFromOonMOOP\n",
      "17 IsStateMandate\n",
      "18 IsSubjToDedTier1\n",
      "19 IsSubjToDedTier2\n",
      "20 IssuerId\n",
      "21 IssuerId2\n",
      "22 LimitQty\n",
      "23 LimitUnit\n",
      "24 MinimumStay\n",
      "25 PlanId\n",
      "26 QuantLimitOnSvc\n",
      "27 RowNumber\n",
      "28 SourceName\n",
      "29 StandardComponentId\n",
      "30 StateCode\n",
      "31 StateCode2\n",
      "32 VersionNum\n",
      "33 CoinsBin\n",
      "34 CoinsInn2 Bin\n",
      "35 CoinsOON_bin\n"
     ]
    }
   ],
   "source": [
    "save = benefits.columns.to_list()\n",
    "for item in save:\n",
    "    print(save.index(item)+1,item)"
   ]
  },
  {
   "cell_type": "code",
   "execution_count": 131,
   "metadata": {},
   "outputs": [
    {
     "data": {
      "text/html": [
       "<div>\n",
       "<style scoped>\n",
       "    .dataframe tbody tr th:only-of-type {\n",
       "        vertical-align: middle;\n",
       "    }\n",
       "\n",
       "    .dataframe tbody tr th {\n",
       "        vertical-align: top;\n",
       "    }\n",
       "\n",
       "    .dataframe thead th {\n",
       "        text-align: right;\n",
       "    }\n",
       "</style>\n",
       "<table border=\"1\" class=\"dataframe\">\n",
       "  <thead>\n",
       "    <tr style=\"text-align: right;\">\n",
       "      <th></th>\n",
       "      <th>CoinsInnTier1</th>\n",
       "      <th>CoinsInnTier2</th>\n",
       "      <th>CoinsOutofNet</th>\n",
       "      <th>CopayInnTier1</th>\n",
       "      <th>CopayInnTier2</th>\n",
       "      <th>CopayOutofNet</th>\n",
       "      <th>IsExclFromInnMOOP</th>\n",
       "      <th>IsExclFromOonMOOP</th>\n",
       "      <th>IsSubjToDedTier1</th>\n",
       "      <th>IsSubjToDedTier2</th>\n",
       "      <th>PlanId</th>\n",
       "      <th>StateCode</th>\n",
       "    </tr>\n",
       "  </thead>\n",
       "  <tbody>\n",
       "    <tr>\n",
       "      <td>10049</td>\n",
       "      <td>0</td>\n",
       "      <td>0</td>\n",
       "      <td>100</td>\n",
       "      <td>100</td>\n",
       "      <td>100</td>\n",
       "      <td>0</td>\n",
       "      <td>No</td>\n",
       "      <td>No</td>\n",
       "      <td>No</td>\n",
       "      <td>No</td>\n",
       "      <td>46944AL0340001-00</td>\n",
       "      <td>AL</td>\n",
       "    </tr>\n",
       "    <tr>\n",
       "      <td>10050</td>\n",
       "      <td>20</td>\n",
       "      <td>20</td>\n",
       "      <td>20</td>\n",
       "      <td>0</td>\n",
       "      <td>0</td>\n",
       "      <td>0</td>\n",
       "      <td>No</td>\n",
       "      <td>No</td>\n",
       "      <td>Yes</td>\n",
       "      <td>Yes</td>\n",
       "      <td>46944AL0340001-00</td>\n",
       "      <td>AL</td>\n",
       "    </tr>\n",
       "    <tr>\n",
       "      <td>10051</td>\n",
       "      <td>20</td>\n",
       "      <td>20</td>\n",
       "      <td>20</td>\n",
       "      <td>0</td>\n",
       "      <td>0</td>\n",
       "      <td>0</td>\n",
       "      <td>No</td>\n",
       "      <td>No</td>\n",
       "      <td>Yes</td>\n",
       "      <td>Yes</td>\n",
       "      <td>46944AL0340001-00</td>\n",
       "      <td>AL</td>\n",
       "    </tr>\n",
       "    <tr>\n",
       "      <td>10052</td>\n",
       "      <td>20</td>\n",
       "      <td>20</td>\n",
       "      <td>20</td>\n",
       "      <td>0</td>\n",
       "      <td>0</td>\n",
       "      <td>0</td>\n",
       "      <td>No</td>\n",
       "      <td>No</td>\n",
       "      <td>Yes</td>\n",
       "      <td>Yes</td>\n",
       "      <td>46944AL0340001-00</td>\n",
       "      <td>AL</td>\n",
       "    </tr>\n",
       "    <tr>\n",
       "      <td>10053</td>\n",
       "      <td>20</td>\n",
       "      <td>20</td>\n",
       "      <td>20</td>\n",
       "      <td>0</td>\n",
       "      <td>0</td>\n",
       "      <td>0</td>\n",
       "      <td>No</td>\n",
       "      <td>No</td>\n",
       "      <td>Yes</td>\n",
       "      <td>Yes</td>\n",
       "      <td>46944AL0340001-00</td>\n",
       "      <td>AL</td>\n",
       "    </tr>\n",
       "  </tbody>\n",
       "</table>\n",
       "</div>"
      ],
      "text/plain": [
       "       CoinsInnTier1  CoinsInnTier2  CoinsOutofNet  CopayInnTier1  \\\n",
       "10049              0              0            100            100   \n",
       "10050             20             20             20              0   \n",
       "10051             20             20             20              0   \n",
       "10052             20             20             20              0   \n",
       "10053             20             20             20              0   \n",
       "\n",
       "       CopayInnTier2  CopayOutofNet IsExclFromInnMOOP IsExclFromOonMOOP  \\\n",
       "10049            100              0                No                No   \n",
       "10050              0              0                No                No   \n",
       "10051              0              0                No                No   \n",
       "10052              0              0                No                No   \n",
       "10053              0              0                No                No   \n",
       "\n",
       "      IsSubjToDedTier1 IsSubjToDedTier2             PlanId StateCode  \n",
       "10049               No               No  46944AL0340001-00        AL  \n",
       "10050              Yes              Yes  46944AL0340001-00        AL  \n",
       "10051              Yes              Yes  46944AL0340001-00        AL  \n",
       "10052              Yes              Yes  46944AL0340001-00        AL  \n",
       "10053              Yes              Yes  46944AL0340001-00        AL  "
      ]
     },
     "execution_count": 131,
     "metadata": {},
     "output_type": "execute_result"
    }
   ],
   "source": []
  },
  {
   "cell_type": "code",
   "execution_count": 135,
   "metadata": {
    "scrolled": true
   },
   "outputs": [],
   "source": [
    "ben_df = benefits.iloc[:, np.r_[2:8, 14:16, 17:19, 24, 29]]\n",
    "# merge rates df with benefits df, capture Individual Rate, Couple\n",
    "mergedf = ben_df.merge(rates_df, on='PlanId', how='outer')"
   ]
  },
  {
   "cell_type": "code",
   "execution_count": 138,
   "metadata": {},
   "outputs": [
    {
     "data": {
      "text/plain": [
       "476821"
      ]
     },
     "execution_count": 138,
     "metadata": {},
     "output_type": "execute_result"
    }
   ],
   "source": [
    "mergedf.IndividualRate.isnull().sum()"
   ]
  },
  {
   "cell_type": "markdown",
   "metadata": {},
   "source": [
    "#### Investigate & impute NULL values"
   ]
  },
  {
   "cell_type": "code",
   "execution_count": null,
   "metadata": {},
   "outputs": [],
   "source": [
    "rates_state.info()\n",
    "# Age type is object"
   ]
  },
  {
   "cell_type": "code",
   "execution_count": null,
   "metadata": {},
   "outputs": [],
   "source": [
    "# Remaining NULL values seem to all correlate. Let's check!\n",
    "rates_state.isnull().sum()"
   ]
  },
  {
   "cell_type": "code",
   "execution_count": null,
   "metadata": {
    "scrolled": true
   },
   "outputs": [],
   "source": [
    "rates_state.IndividualTobaccoRate.describe()\n",
    "# Min: $41.73, Max: $6604.610\n",
    "# Avg: $543.69, Std: $294.59"
   ]
  },
  {
   "cell_type": "code",
   "execution_count": null,
   "metadata": {
    "scrolled": true
   },
   "outputs": [],
   "source": [
    "# Hypothesis: All NULL values have IndividualRate populated\n",
    "tobrate_df = rates_state[pd.isnull(rates_state['IndividualTobaccoRate'])]\n",
    "tobrate_df.IndividualRate.isnull().sum()"
   ]
  },
  {
   "cell_type": "code",
   "execution_count": null,
   "metadata": {},
   "outputs": [],
   "source": [
    "# Impute NULL with NA\n",
    "#rates_state.IndividualTobaccoRate.fillna('NA', inplace=True)"
   ]
  },
  {
   "cell_type": "code",
   "execution_count": null,
   "metadata": {
    "scrolled": false
   },
   "outputs": [],
   "source": [
    "# Remaining NULL values look like they correlate.\n",
    "rates_state.isnull().sum()"
   ]
  },
  {
   "cell_type": "code",
   "execution_count": null,
   "metadata": {},
   "outputs": [],
   "source": [
    "# new df withm NULL-populated columns  \n",
    "rs_empty = rates_state.loc[:, rates_state.isnull().sum() > 0]"
   ]
  },
  {
   "cell_type": "code",
   "execution_count": null,
   "metadata": {
    "scrolled": true
   },
   "outputs": [],
   "source": [
    "rs_empty.isnull().astype(int).corr()"
   ]
  },
  {
   "cell_type": "code",
   "execution_count": null,
   "metadata": {},
   "outputs": [],
   "source": [
    "# Impute NULL with NA. 0 would not be the correct imputation.\n",
    "#rates_state.fillna('NA', inplace=True)"
   ]
  },
  {
   "cell_type": "markdown",
   "metadata": {},
   "source": [
    "Now, we want to ensure that we're capturing a random but representative 10% sampling set. The goal is to minimize sample bias. My thoughts were either:\n",
    "<br>(a) ensure that, per state, the sample set’s distribution curve matches full set’s curve\n",
    "<br>(b) select significant features of full set & create a sample set that match conditions (i.e. individual plan to couple plan ratio)\n",
    "<br>(c) blind selection of 10% sample per state and score after (introduces a lot of sample bias?)"
   ]
  },
  {
   "cell_type": "code",
   "execution_count": null,
   "metadata": {},
   "outputs": [],
   "source": [
    "# Check how many integers live within each plan's column? \n",
    "# aka ignore the NA. Then...maybe I should change the NA to 0\n",
    "# rates_state.loc[rates_state.IndividualRate] == '0'"
   ]
  },
  {
   "cell_type": "markdown",
   "metadata": {},
   "source": [
    "Rates PUF shows every single rate option that exists per plan across states. That means that a plan is represented multiple times based on dependencies. So the features that would be significant in terms of representation is to ensure an even distribution of dependency options.\n",
    "<br>Age: 0-20, 21, 22, Family Option\n",
    "<br>IssuerId: Make sure even representation of insurance issuesrs?"
   ]
  },
  {
   "cell_type": "code",
   "execution_count": null,
   "metadata": {},
   "outputs": [],
   "source": [
    "# Based off of 10% chosen from rates dataset, we will match to\n",
    "# benefits dataset based off PlanId and/or Row Number"
   ]
  },
  {
   "cell_type": "code",
   "execution_count": null,
   "metadata": {},
   "outputs": [],
   "source": []
  },
  {
   "cell_type": "markdown",
   "metadata": {},
   "source": [
    "## Data Encoding\n",
    "- __Nominal Data__: OneHotEncoder\n",
    "- __Ordinal Data__: OrdinalEncoder (Mapping)\n",
    "- __Numerical Data__: Scale\n",
    "    - If also categorical, convert to str"
   ]
  },
  {
   "cell_type": "code",
   "execution_count": null,
   "metadata": {
    "scrolled": true
   },
   "outputs": [],
   "source": [
    "# need to ordinal encode data first (Y/N)\n",
    "#benefits_state.groupby('StateCode')['IsSubjToDedTier1', 'IsSubjToDedTier2'].describe()"
   ]
  },
  {
   "cell_type": "markdown",
   "metadata": {},
   "source": [
    "Taking a random 10-percent sample by state (with justification) is acceptable."
   ]
  },
  {
   "cell_type": "code",
   "execution_count": null,
   "metadata": {},
   "outputs": [],
   "source": []
  }
 ],
 "metadata": {
  "kernelspec": {
   "display_name": "Python 3",
   "language": "python",
   "name": "python3"
  },
  "language_info": {
   "codemirror_mode": {
    "name": "ipython",
    "version": 3
   },
   "file_extension": ".py",
   "mimetype": "text/x-python",
   "name": "python",
   "nbconvert_exporter": "python",
   "pygments_lexer": "ipython3",
   "version": "3.7.4"
  }
 },
 "nbformat": 4,
 "nbformat_minor": 2
}
